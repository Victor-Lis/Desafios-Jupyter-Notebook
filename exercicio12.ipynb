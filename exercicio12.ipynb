{
 "cells": [
  {
   "cell_type": "markdown",
   "id": "7952f602",
   "metadata": {},
   "source": [
    "12º) Escreva um programa que leia dois números. Imprima a divisão inteira do primeiro pelo segundo, assim como o resto da divisão. Utilize apenas os operadores de soma e subtração para calcular o resultado. Lembre-se de que podemos entender o quociente da divisão de dois números como a quantidade de vezes que podemos retirar o divisor do dividendo. Logo, 20 ÷ 4 = 5, uma vez que podemos subtrair 4 cinco vezes de 20."
   ]
  },
  {
   "cell_type": "code",
   "execution_count": null,
   "id": "10007c33",
   "metadata": {},
   "outputs": [
    {
     "name": "stdout",
     "output_type": "stream",
     "text": [
      "Divisão inteira: 4\n",
      "Resto da divisão: 1\n"
     ]
    }
   ],
   "source": [
    "numero = int(input(\"Digite o primeiro número: \"))\n",
    "numero2 = int(input(\"Digite o segundo número: \"))\n",
    "\n",
    "quociente = 0\n",
    "resto = numero\n",
    "\n",
    "while resto >= numero2:\n",
    "    resto -= numero2\n",
    "    quociente += 1\n",
    "\n",
    "print(f\"Divisão inteira: {quociente}\")\n",
    "print(f\"Resto da divisão: {resto}\")"
   ]
  }
 ],
 "metadata": {
  "kernelspec": {
   "display_name": "Python 3",
   "language": "python",
   "name": "python3"
  },
  "language_info": {
   "codemirror_mode": {
    "name": "ipython",
    "version": 3
   },
   "file_extension": ".py",
   "mimetype": "text/x-python",
   "name": "python",
   "nbconvert_exporter": "python",
   "pygments_lexer": "ipython3",
   "version": "3.13.6"
  }
 },
 "nbformat": 4,
 "nbformat_minor": 5
}
