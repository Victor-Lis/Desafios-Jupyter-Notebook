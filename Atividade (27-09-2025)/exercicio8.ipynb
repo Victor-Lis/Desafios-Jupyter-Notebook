{
 "cells": [
  {
   "cell_type": "markdown",
   "id": "033f1eff",
   "metadata": {},
   "source": [
    "8º) Escreva um programa que leia três números e que imprima o maior e o menor."
   ]
  },
  {
   "cell_type": "code",
   "execution_count": 2,
   "id": "d6e0f80e",
   "metadata": {},
   "outputs": [
    {
     "name": "stdout",
     "output_type": "stream",
     "text": [
      "Menor número: 1\n",
      "Maior número: 10\n"
     ]
    }
   ],
   "source": [
    "numeros = list(map(int, input(\"Escreva 3 números: x,y,z\").split(\",\")))\n",
    "\n",
    "print(\"Menor número:\", min(numeros))\n",
    "print(\"Maior número:\", max(numeros))"
   ]
  },
  {
   "cell_type": "code",
   "execution_count": null,
   "id": "badd3bcb",
   "metadata": {},
   "outputs": [
    {
     "name": "stdout",
     "output_type": "stream",
     "text": [
      "Maior 10\n",
      "Menor 3\n",
      "Menor número: 3\n",
      "Maior número: 10\n"
     ]
    }
   ],
   "source": [
    "# Versão simples\n",
    "numero1 = int(input(\"Escreva o n° um: \"))\n",
    "numero2 = int(input(\"Escreva o n° dois: \"))\n",
    "numero3 = int(input(\"Escreva o n° tres: \"))\n",
    "\n",
    "maior = 0\n",
    "menor = 0\n",
    "\n",
    "if (numero1 >= numero2 and numero1 >= numero3):\n",
    "    maior = numero1\n",
    "elif(numero2 >= numero1 and numero2 >= numero3):\n",
    "    maior = numero2\n",
    "elif(numero3 >= numero1 and numero3 >= numero1):\n",
    "    maior = numero3\n",
    "\n",
    "if (numero1 <= numero2 and numero1 <= numero3):\n",
    "    menor = numero1\n",
    "elif(numero2 <= numero1 and numero2 <= numero3):\n",
    "    menor = numero2\n",
    "elif(numero3 <= numero1 and numero3 <= numero1):\n",
    "    menor = numero3\n",
    "\n",
    "print(\"Menor número:\", menor)\n",
    "print(\"Maior número:\", maior)"
   ]
  }
 ],
 "metadata": {
  "kernelspec": {
   "display_name": "Python 3",
   "language": "python",
   "name": "python3"
  },
  "language_info": {
   "codemirror_mode": {
    "name": "ipython",
    "version": 3
   },
   "file_extension": ".py",
   "mimetype": "text/x-python",
   "name": "python",
   "nbconvert_exporter": "python",
   "pygments_lexer": "ipython3",
   "version": "3.13.6"
  }
 },
 "nbformat": 4,
 "nbformat_minor": 5
}
