{
 "cells": [
  {
   "cell_type": "markdown",
   "id": "57d30d9e",
   "metadata": {},
   "source": [
    "14º) Escreva um programa que pergunte o valor inicial de uma dívida e o juro mensal. Pergunte também o valor mensal que será pago. Imprima o número de meses para que a dívida seja paga, o total pago e o total de juros pago."
   ]
  },
  {
   "cell_type": "markdown",
   "id": "e1d1e5da",
   "metadata": {},
   "source": [
    "#### Sem juros compostos"
   ]
  },
  {
   "cell_type": "code",
   "execution_count": 9,
   "id": "59cc600c",
   "metadata": {},
   "outputs": [
    {
     "name": "stdout",
     "output_type": "stream",
     "text": [
      "Meses necessários: 5.0\n",
      "Total de juros pago: R$500.0\n",
      "Total pago: R$1500.0\n"
     ]
    }
   ],
   "source": [
    "divida = float(input(\"Dívida: \"))\n",
    "jurosMensal = float(input(\"Digite o juros mensal (em %): \")) / 100\n",
    "valorMensal = float(input(\"Digite o valor mensal: \"))\n",
    "\n",
    "mesesNecessarios = divida / valorMensal\n",
    "totalJuros = mesesNecessarios * (divida * jurosMensal)\n",
    "\n",
    "print(f\"Meses necessários: {mesesNecessarios}\")\n",
    "print(f\"Total de juros pago: R${totalJuros}\")\n",
    "print(f\"Total pago: R${divida + totalJuros}\")"
   ]
  },
  {
   "cell_type": "markdown",
   "id": "f541f092",
   "metadata": {},
   "source": [
    "#### Juros compostos"
   ]
  },
  {
   "cell_type": "code",
   "execution_count": 20,
   "id": "b5608239",
   "metadata": {},
   "outputs": [
    {
     "name": "stdout",
     "output_type": "stream",
     "text": [
      "\n",
      "--- Resultado ---\n",
      "Número de meses para quitar a dívida: 4\n",
      "Total pago: R$ 522.97\n",
      "Total de juros pago: R$ 22.97\n"
     ]
    }
   ],
   "source": [
    "divida_inicial = float(input(\"Digite o valor inicial da dívida: R$ \"))\n",
    "juro_mensal_percentual = float(input(\"Digite o juro mensal (em %): \"))\n",
    "pagamento_mensal = float(input(\"Digite o valor mensal que será pago: R$ \"))\n",
    "\n",
    "juro_mensal = juro_mensal_percentual / 100\n",
    "\n",
    "meses = 0\n",
    "total_pago = 0\n",
    "divida_atual = divida_inicial\n",
    "\n",
    "if (divida_inicial * juro_mensal) >= pagamento_mensal:\n",
    "    print(\"\\nCom esse valor de pagamento, a dívida nunca será quitada, pois o valor pago é menor ou igual aos juros mensais.\")\n",
    "else:\n",
    "    while divida_atual > 0:\n",
    "        juros_do_mes = divida_atual * juro_mensal\n",
    "        divida_atual += juros_do_mes\n",
    "\n",
    "        if divida_atual >= pagamento_mensal:\n",
    "            divida_atual -= pagamento_mensal\n",
    "            total_pago += pagamento_mensal\n",
    "        else:\n",
    "            total_pago += divida_atual\n",
    "            divida_atual = 0\n",
    "\n",
    "        meses += 1\n",
    "\n",
    "    total_juros = total_pago - divida_inicial\n",
    "\n",
    "    print(\"\\n--- Resultado ---\")\n",
    "    print(f\"Número de meses para quitar a dívida: {meses}\")\n",
    "    print(f\"Total pago: R$ {total_pago:.2f}\")\n",
    "    print(f\"Total de juros pago: R$ {total_juros:.2f}\")"
   ]
  }
 ],
 "metadata": {
  "kernelspec": {
   "display_name": "Python 3",
   "language": "python",
   "name": "python3"
  },
  "language_info": {
   "codemirror_mode": {
    "name": "ipython",
    "version": 3
   },
   "file_extension": ".py",
   "mimetype": "text/x-python",
   "name": "python",
   "nbconvert_exporter": "python",
   "pygments_lexer": "ipython3",
   "version": "3.13.6"
  }
 },
 "nbformat": 4,
 "nbformat_minor": 5
}
