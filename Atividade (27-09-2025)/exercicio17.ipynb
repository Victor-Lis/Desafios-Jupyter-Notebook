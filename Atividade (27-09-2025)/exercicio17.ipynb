{
 "cells": [
  {
   "cell_type": "markdown",
   "id": "bb9478bd",
   "metadata": {},
   "source": [
    "17º) Faça um programa que carregue uma lista com os modelos de cinco carros (exemplo de modelos: FUSCA, GOL, VECTRA etc). Carregue uma outra lista com o consumo desses carros, isto é, quantos quilômetros cada um desses carros gastam com um litro de combustível. Calcule e mostre:\n",
    "\n",
    "a. O modelo do carro mais econômico;<br>\n",
    "b. Quantos litros de combustível cada um dos carros cadastrados consome para percorrer uma distância de 1000 quilômetros e quanto isto custará, considerando um que a gasolina custe 6,19 reais o litro. <br>\n",
    "Abaixo segue uma tela de exemplo. O disposição das informações deve ser o mais próxima possível ao exemplo. Os dados são fictícios e podem mudar a cada execução do programa.\n",
    "```\n",
    "Comparativo de Consumo de Combustível\n",
    "\n",
    "Veículo 1\n",
    "Nome: fusca\n",
    "Km por litro: 7\n",
    "\n",
    "Veículo 2\n",
    "Nome: gol\n",
    "Km por litro: 10\n",
    "\n",
    "Veículo 3\n",
    "Nome: uno\n",
    "Km por litro: 12.5\n",
    "\n",
    "Veículo 4\n",
    "Nome: Vectra\n",
    "Km por litro: 9\n",
    "\n",
    "Veículo 5\n",
    "Nome: Peugeot\n",
    "Km por litro: 14.5\n",
    "\n",
    "Relatório Final (Exemplo)\n",
    " 1 - fusca           -    7.0 -  142.9 litros - 321.43 reais\n",
    " 2 - gol             -   10.0 -  100.0 litros - 225.00 reais\n",
    " 3 - uno             -   12.5 -   80.0 litros - 180.00 reais\n",
    " 4 - vectra          -    9.0 -  111.1 litros - 250.00 reais\n",
    " 5 - peugeot        -   14.5 -   69.0 litros -  155.17 reais\n",
    "O menor consumo é do peugeot.\n",
    "```"
   ]
  },
  {
   "cell_type": "code",
   "execution_count": 21,
   "id": "784872d3",
   "metadata": {},
   "outputs": [
    {
     "name": "stdout",
     "output_type": "stream",
     "text": [
      "1° - O Peugeot faz 14.5 Km/L. E vai gastar R$ 426.90 em 68.97L para percorrer 1000.0 km.\n",
      "2° - O Uno faz 12.5 Km/L. E vai gastar R$ 495.20 em 80.00L para percorrer 1000.0 km.\n",
      "3° - O Gol faz 10 Km/L. E vai gastar R$ 619.00 em 100.00L para percorrer 1000.0 km.\n",
      "4° - O Vectra faz 9 Km/L. E vai gastar R$ 687.78 em 111.11L para percorrer 1000.0 km.\n",
      "5° - O Fusca faz 7 Km/L. E vai gastar R$ 884.29 em 142.86L para percorrer 1000.0 km.\n",
      "\n",
      "O carro mais econômico é: Peugeot\n"
     ]
    }
   ],
   "source": [
    "lista_carros = [\"Fusca\", \"Gol\", \"Uno\", \"Vectra\", \"Peugeot\"]\n",
    "lista_consumo = [7, 10, 12.5, 9, 14.5]\n",
    "\n",
    "carros_consumo = zip(lista_carros, lista_consumo) # Vai transformar em algo tipo:  {\"Uno\": 10, ...}\n",
    "\n",
    "relatorio_final = []\n",
    "\n",
    "kilometros = float(input(\"Quantos kilometros vai percorrer?\"))\n",
    "preco_gasolina = float(input(\"Quanto custa a gasolina?\"))\n",
    "\n",
    "for carro, consumo in carros_consumo:\n",
    "    litros_necessarios = (kilometros/consumo)\n",
    "    gasto_total = litros_necessarios * preco_gasolina\n",
    "    relatorio_final.append({\"nome\": carro, \"consumo\": consumo, \"litros_necessarios\": litros_necessarios, \"gasto_total\": gasto_total})\n",
    "\n",
    "relatorio_final = sorted(relatorio_final, key=lambda x: x[\"gasto_total\"])\n",
    "\n",
    "for i, carro in enumerate(relatorio_final, start=1):\n",
    "    print(f'{i}° - O {carro[\"nome\"]} faz {carro[\"consumo\"]} Km/L. E vai gastar R$ {carro[\"gasto_total\"]:.2f} em {carro[\"litros_necessarios\"]:.2f}L para percorrer {kilometros} km.')\n",
    "\n",
    "print(f\"\\nO carro mais econômico é: {relatorio_final[0]['nome']}\")"
   ]
  }
 ],
 "metadata": {
  "kernelspec": {
   "display_name": "Python 3",
   "language": "python",
   "name": "python3"
  },
  "language_info": {
   "codemirror_mode": {
    "name": "ipython",
    "version": 3
   },
   "file_extension": ".py",
   "mimetype": "text/x-python",
   "name": "python",
   "nbconvert_exporter": "python",
   "pygments_lexer": "ipython3",
   "version": "3.13.6"
  }
 },
 "nbformat": 4,
 "nbformat_minor": 5
}
