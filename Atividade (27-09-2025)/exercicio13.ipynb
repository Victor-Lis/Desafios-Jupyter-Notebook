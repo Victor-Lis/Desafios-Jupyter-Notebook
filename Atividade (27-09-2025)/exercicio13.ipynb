{
 "cells": [
  {
   "cell_type": "markdown",
   "id": "ed051d04",
   "metadata": {},
   "source": [
    "13º) Escreva um programa que pergunte o depósito inicial e a taxa de juros de uma poupança. Exiba os valores mês a mês para os 24 primeiros meses. Escreva o total ganho com juros no período. "
   ]
  },
  {
   "cell_type": "code",
   "execution_count": null,
   "id": "e475826b",
   "metadata": {},
   "outputs": [
    {
     "name": "stdout",
     "output_type": "stream",
     "text": [
      "Ganho do 1° mês: R$25.00\n",
      "Ganho do 2° mês: R$26.25\n",
      "Ganho do 3° mês: R$27.56\n",
      "Ganho do 4° mês: R$28.94\n",
      "Ganho do 5° mês: R$30.39\n",
      "Ganho do 6° mês: R$31.91\n",
      "Ganho do 7° mês: R$33.50\n",
      "Ganho do 8° mês: R$35.18\n",
      "Ganho do 9° mês: R$36.94\n",
      "Ganho do 10° mês: R$38.78\n",
      "Ganho do 11° mês: R$40.72\n",
      "Ganho do 12° mês: R$42.76\n",
      "Ganho do 13° mês: R$44.90\n",
      "Ganho do 14° mês: R$47.14\n",
      "Ganho do 15° mês: R$49.50\n",
      "Ganho do 16° mês: R$51.97\n",
      "Ganho do 17° mês: R$54.57\n",
      "Ganho do 18° mês: R$57.30\n",
      "Ganho do 19° mês: R$60.17\n",
      "Ganho do 20° mês: R$63.17\n",
      "Ganho do 21° mês: R$66.33\n",
      "Ganho do 22° mês: R$69.65\n",
      "Ganho do 23° mês: R$73.13\n",
      "Ganho do 24° mês: R$76.79\n",
      "Total ganho: R$1112.5499718568499\n"
     ]
    }
   ],
   "source": [
    "depositoInicial = float(input(\"Depósito inicial: \"))\n",
    "taxaDeJuros = float(input(\"Taxa de juros em %: \")) / 100 \n",
    "\n",
    "totalGanho = depositoInicial\n",
    "\n",
    "for i in range(24):\n",
    "    ganhoNesteMes = totalGanho * taxaDeJuros\n",
    "    totalGanho += ganhoNesteMes\n",
    "    print(f\"Ganho do {i+1}° mês: R${ganhoNesteMes:.2f}\")\n",
    "\n",
    "print(f\"Total ganho: R${totalGanho - depositoInicial:.2f}\")"
   ]
  }
 ],
 "metadata": {
  "kernelspec": {
   "display_name": "Python 3",
   "language": "python",
   "name": "python3"
  },
  "language_info": {
   "codemirror_mode": {
    "name": "ipython",
    "version": 3
   },
   "file_extension": ".py",
   "mimetype": "text/x-python",
   "name": "python",
   "nbconvert_exporter": "python",
   "pygments_lexer": "ipython3",
   "version": "3.13.6"
  }
 },
 "nbformat": 4,
 "nbformat_minor": 5
}
