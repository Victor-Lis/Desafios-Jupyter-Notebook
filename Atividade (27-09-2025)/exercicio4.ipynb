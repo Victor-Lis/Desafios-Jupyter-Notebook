{
 "cells": [
  {
   "cell_type": "markdown",
   "id": "49318290",
   "metadata": {},
   "source": [
    "4º) Faça um programa que solicite o preço de uma mercadoria e o percentual de desconto. Exiba o valor do desconto e o preço a pagar."
   ]
  },
  {
   "cell_type": "code",
   "execution_count": 1,
   "id": "04d8e99e",
   "metadata": {},
   "outputs": [
    {
     "name": "stdout",
     "output_type": "stream",
     "text": [
      "Preço original: R$100.0 | Desconto: R$10.0 | A pagar: R$90.0\n"
     ]
    }
   ],
   "source": [
    "preco = float(input(\"Preço do produto: \"))\n",
    "desconto = float(input(\"Percentual do desconto: \"))\n",
    "\n",
    "valorDesconto = preco * (desconto/100)\n",
    "\n",
    "print(f\"Preço original: R${preco} | Desconto: R${desconto} | A pagar: R${preco-valorDesconto}\")"
   ]
  }
 ],
 "metadata": {
  "kernelspec": {
   "display_name": "Python 3",
   "language": "python",
   "name": "python3"
  },
  "language_info": {
   "codemirror_mode": {
    "name": "ipython",
    "version": 3
   },
   "file_extension": ".py",
   "mimetype": "text/x-python",
   "name": "python",
   "nbconvert_exporter": "python",
   "pygments_lexer": "ipython3",
   "version": "3.13.6"
  }
 },
 "nbformat": 4,
 "nbformat_minor": 5
}
