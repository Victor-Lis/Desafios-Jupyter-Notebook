{
 "cells": [
  {
   "cell_type": "markdown",
   "id": "68d84c4f",
   "metadata": {},
   "source": [
    "15º) Supondo que a população de uma cidade A seja da ordem de 80.000 habitantes com uma taxa anual de crescimento de X% e que a população da cidade B seja 200.000 habitantes com uma taxa de crescimento de Y%, onde X% deverá ser maior que Y%. Faça um programa que calcule e escreva o número de anos necessários para que a população da cidade A ultrapasse ou iguale a população da cidade B, mantidas as taxas de crescimento X% e Y% fornecidas pelo usuário."
   ]
  },
  {
   "cell_type": "code",
   "execution_count": 7,
   "id": "1c34bf65",
   "metadata": {},
   "outputs": [
    {
     "name": "stdout",
     "output_type": "stream",
     "text": [
      "Taxa de crescimento da cidade A deve ser maior que a de B. Impossível calcular.\n"
     ]
    }
   ],
   "source": [
    "populacaoA = float(input(\"Digite a população da cidade A: \"))\n",
    "taxaA = float(input(\"Digite a taxa de crescimento da cidade A (em %): \")) / 100\n",
    "\n",
    "populacaoB = float(input(\"Digite a população da cidade B: \"))\n",
    "taxaB = float(input(\"Digite a taxa de crescimento da cidade B (em %): \")) / 100\n",
    "\n",
    "populacaoInicialA = populacaoA\n",
    "populacaoInicialB = populacaoB\n",
    "\n",
    "if populacaoA > populacaoB:\n",
    "    print(\"População A já é maior\")\n",
    "elif taxaA <= taxaB:\n",
    "    print(\"Taxa de crescimento da cidade A deve ser maior que a de B. Impossível calcular.\")\n",
    "else:\n",
    "    anos = 0\n",
    "    while populacaoA <= populacaoB:\n",
    "        populacaoA += populacaoA * taxaA\n",
    "        populacaoB += populacaoB * taxaB\n",
    "        anos += 1\n",
    "    print(f\"Para a população da cidade A ({populacaoInicialA:.2f}) igualar/superar a população da cidade B ({populacaoInicialB:.2f}) com taxa de {taxaA*100:.2f}% (A) contra {taxaB*100:.2f}% (B), serão necessários {anos} anos.\")"
   ]
  }
 ],
 "metadata": {
  "kernelspec": {
   "display_name": "Python 3",
   "language": "python",
   "name": "python3"
  },
  "language_info": {
   "codemirror_mode": {
    "name": "ipython",
    "version": 3
   },
   "file_extension": ".py",
   "mimetype": "text/x-python",
   "name": "python",
   "nbconvert_exporter": "python",
   "pygments_lexer": "ipython3",
   "version": "3.13.6"
  }
 },
 "nbformat": 4,
 "nbformat_minor": 5
}
