{
 "cells": [
  {
   "cell_type": "markdown",
   "id": "49318290",
   "metadata": {},
   "source": [
    "2º) Escreva um programa que leia a quantidade de dias, horas, minutos e segundos do usuário. Calcule o total em segundos."
   ]
  },
  {
   "cell_type": "code",
   "execution_count": 10,
   "id": "04d8e99e",
   "metadata": {},
   "outputs": [
    {
     "name": "stdout",
     "output_type": "stream",
     "text": [
      "Dias: 1.0 | Horas: 0.0 | Minutos: 0.0 | Segundos: 0.0\n",
      "Segundos totais: 86400\n"
     ]
    }
   ],
   "source": [
    "dias, horas, minutos, segundos = map(float, input(\"Digite respectivamente: dias, horas, minutos, segundos separados por vírgula: \").split(\",\"))\n",
    "print(f\"Dias: {dias} | Horas: {horas} | Minutos: {minutos} | Segundos: {segundos}\")\n",
    "\n",
    "convert = lambda x : x *60\n",
    "\n",
    "print(f'Segundos totais: {(convert(convert(dias*24)) + convert(convert(horas)) + convert(minutos) + segundos):.0f}')\n"
   ]
  }
 ],
 "metadata": {
  "kernelspec": {
   "display_name": "Python 3",
   "language": "python",
   "name": "python3"
  },
  "language_info": {
   "codemirror_mode": {
    "name": "ipython",
    "version": 3
   },
   "file_extension": ".py",
   "mimetype": "text/x-python",
   "name": "python",
   "nbconvert_exporter": "python",
   "pygments_lexer": "ipython3",
   "version": "3.13.6"
  }
 },
 "nbformat": 4,
 "nbformat_minor": 5
}
