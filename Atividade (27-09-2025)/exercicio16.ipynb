{
 "cells": [
  {
   "cell_type": "markdown",
   "id": "9706115b",
   "metadata": {},
   "source": [
    "16º) Utilize uma lista para resolver o problema a seguir. Uma empresa paga seus vendedores com base em comissões. O vendedor recebe 200.00 reais por semana mais 9 por cento de suas vendas brutas daquela semana.<br>\n",
    "Por exemplo, um vendedor que teve vendas brutas de 3000.00 reais em uma semana recebe 200.00 reais mais 9 por cento de 3000.00, ou seja, um total de 470.00 reais. Escreva um programa (usando uma lista de contadores) que determine quantos vendedores receberam salários nos seguintes intervalos de valores:<br>\n",
    "a.\t200.00 - 299.00<br>\n",
    "b.\t300.00 - 399.00<br>\n",
    "c.\t400.00 - 499.00<br>\n",
    "d.\t500.00 - 599.00<br>\n",
    "e.\t600.00 - 699.00<br>\n",
    "f.\t700.00 - 799.00<br>\n",
    "g.\t800.00 - 899.00<br>\n",
    "h.\t900.00 - 999.00<br>\n",
    "i.\t1000.00 em diante<br>\n"
   ]
  },
  {
   "cell_type": "code",
   "execution_count": 16,
   "id": "3ae50bde",
   "metadata": {},
   "outputs": [
    {
     "name": "stdout",
     "output_type": "stream",
     "text": [
      "Salários dos vendedores: [9120, 3943, 1150, 5918, 4126, 9642, 14397, 11203, 8461, 2229, 12522, 12717, 6641, 7226, 24, 4878, 10825, 3106, 11011, 14980, 3841, 2430, 5010, 4926, 14029]\n",
      "Comissões entre R$200 e R$299: 2\n",
      "Comissões entre R$300 e R$399: 3\n",
      "Comissões entre R$400 e R$499: 3\n",
      "Comissões entre R$500 e R$599: 2\n",
      "Comissões entre R$600 e R$699: 1\n",
      "Comissões entre R$700 e R$799: 1\n",
      "Comissões entre R$800 e R$899: 2\n",
      "Comissões entre R$900 e R$999: 3\n",
      "Comissões de R$1000 em diante: 5\n"
     ]
    }
   ],
   "source": [
    "import random\n",
    "\n",
    "lista_vendedores = [random.randint(0, 15000) for _ in range(25)]\n",
    "\n",
    "print(f'Salários dos vendedores: {lista_vendedores}')\n",
    "\n",
    "calcula_comissao = lambda x: x*0.09\n",
    "\n",
    "lista_comissoes = []\n",
    "\n",
    "for salario in lista_vendedores:\n",
    "    comissao = calcula_comissao(salario-200)\n",
    "    lista_comissoes.append(comissao)\n",
    "\n",
    "print(f'Comissões entre R$200 e R$299: {len([c for c in lista_comissoes if 200 < c <= 299])}')\n",
    "print(f'Comissões entre R$300 e R$399: {len([c for c in lista_comissoes if 300 < c <= 399])}')\n",
    "print(f'Comissões entre R$400 e R$499: {len([c for c in lista_comissoes if 300 < c <= 399])}')\n",
    "print(f'Comissões entre R$500 e R$599: {len([c for c in lista_comissoes if 500 < c <= 599])}')\n",
    "print(f'Comissões entre R$600 e R$699: {len([c for c in lista_comissoes if 600 < c <= 699])}')\n",
    "print(f'Comissões entre R$700 e R$799: {len([c for c in lista_comissoes if 700 < c <= 799])}')\n",
    "print(f'Comissões entre R$800 e R$899: {len([c for c in lista_comissoes if 800 < c <= 899])}')\n",
    "print(f'Comissões entre R$900 e R$999: {len([c for c in lista_comissoes if 900 < c <= 999])}')\n",
    "print(f'Comissões de R$1000 em diante: {len([c for c in lista_comissoes if c >= 1000])}')\n"
   ]
  },
  {
   "cell_type": "code",
   "execution_count": null,
   "id": "29e5b5ca",
   "metadata": {},
   "outputs": [],
   "source": []
  }
 ],
 "metadata": {
  "kernelspec": {
   "display_name": "Python 3",
   "language": "python",
   "name": "python3"
  },
  "language_info": {
   "codemirror_mode": {
    "name": "ipython",
    "version": 3
   },
   "file_extension": ".py",
   "mimetype": "text/x-python",
   "name": "python",
   "nbconvert_exporter": "python",
   "pygments_lexer": "ipython3",
   "version": "3.13.6"
  }
 },
 "nbformat": 4,
 "nbformat_minor": 5
}
