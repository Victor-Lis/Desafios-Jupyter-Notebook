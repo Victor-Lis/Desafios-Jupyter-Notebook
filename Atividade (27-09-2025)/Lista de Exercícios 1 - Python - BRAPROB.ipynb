{
 "cells": [
  {
   "cell_type": "markdown",
   "metadata": {},
   "source": [
    "### Lista de Exercícios 1 - Python BRAPROB - Valor: 10 pontos<br>"
   ]
  },
  {
   "cell_type": "markdown",
   "metadata": {},
   "source": [
    "Prof. César A. S. Lima, Dr."
   ]
  },
  {
   "cell_type": "markdown",
   "metadata": {},
   "source": [
    "<b>Atenção:</b> Desenvolva cada questão na linha em branco abaixo de cada enunciado neste Notebook.<br>\n",
    "Ao finalizar tudo, reuna os arquivos numa pasta e compacte-os num único arquivo com o seguinte nome:<br>\n",
    "<b>Nome_Completo_do_Aluno_Exercicio1_BRAPROB_Turma_B</b> <br>\n",
    "Faça a postagem do arquivo compactado no Moodle no sábado (dia letivo) dia 27/09/2025 até o horário de 23:55 horas."
   ]
  }
 ],
 "metadata": {
  "kernelspec": {
   "display_name": "Python 3 (ipykernel)",
   "language": "python",
   "name": "python3"
  },
  "language_info": {
   "codemirror_mode": {
    "name": "ipython",
    "version": 3
   },
   "file_extension": ".py",
   "mimetype": "text/x-python",
   "name": "python",
   "nbconvert_exporter": "python",
   "pygments_lexer": "ipython3",
   "version": "3.9.13"
  }
 },
 "nbformat": 4,
 "nbformat_minor": 4
}
