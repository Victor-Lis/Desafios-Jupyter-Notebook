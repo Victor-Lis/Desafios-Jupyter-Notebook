{
 "cells": [
  {
   "cell_type": "markdown",
   "id": "61c184bf",
   "metadata": {},
   "source": [
    "10º) Escreva um programa que pergunte a distância que um passageiro deseja percorrer em km. Calcule o preço da passagem, cobrando 50 centavos por km para viagens de até de 200 km, e 45 centavos para viagens mais longas."
   ]
  },
  {
   "cell_type": "code",
   "execution_count": null,
   "id": "d797af66",
   "metadata": {},
   "outputs": [
    {
     "name": "stdout",
     "output_type": "stream",
     "text": [
      "Custo da Viagem: R$50.0\n"
     ]
    }
   ],
   "source": [
    "distancia = float(input(\"Distância em km: \"))\n",
    "\n",
    "custo = distancia * 0.5 if distancia < 200 else distancia * 0.45\n",
    "\n",
    "print(f\"Custo da Viagem: R${custo:.2f}\")"
   ]
  }
 ],
 "metadata": {
  "kernelspec": {
   "display_name": "Python 3",
   "language": "python",
   "name": "python3"
  },
  "language_info": {
   "codemirror_mode": {
    "name": "ipython",
    "version": 3
   },
   "file_extension": ".py",
   "mimetype": "text/x-python",
   "name": "python",
   "nbconvert_exporter": "python",
   "pygments_lexer": "ipython3",
   "version": "3.13.6"
  }
 },
 "nbformat": 4,
 "nbformat_minor": 5
}
