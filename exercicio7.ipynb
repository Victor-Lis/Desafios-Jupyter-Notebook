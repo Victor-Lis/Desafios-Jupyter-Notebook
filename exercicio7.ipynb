{
 "cells": [
  {
   "cell_type": "markdown",
   "id": "0a657c3d",
   "metadata": {},
   "source": [
    "7º) Escreva um programa para calcular a redução do tempo de vida de um fumante. Pergunte a quantidade de cigarros fumados por dia e quantos anos ele já fumou. Considere que um fumante perde 10 minutos de vida a cada cigarro, e calcule quantos dias de vida um fumante perderá. Exiba o total em dias. "
   ]
  },
  {
   "cell_type": "code",
   "execution_count": 6,
   "id": "eb3f8e35",
   "metadata": {},
   "outputs": [
    {
     "name": "stdout",
     "output_type": "stream",
     "text": [
      "Se perderam 101.46 dias\n"
     ]
    }
   ],
   "source": [
    "cigarrosPorDia = int(input(\"Cigarros por dia: \"))\n",
    "anos = int(input(\"Anos fumando: \"))\n",
    "\n",
    "# o 365.25 é pra considerar anos bisextos de forma aproximada\n",
    "cigarrosTotais = cigarrosPorDia * 365.25 * anos\n",
    "\n",
    "tempoPerdido = (cigarrosTotais * 10) / 60 / 24\n",
    "\n",
    "print(f\"Se perderam {tempoPerdido:.2f} dias\")"
   ]
  }
 ],
 "metadata": {
  "kernelspec": {
   "display_name": "Python 3",
   "language": "python",
   "name": "python3"
  },
  "language_info": {
   "codemirror_mode": {
    "name": "ipython",
    "version": 3
   },
   "file_extension": ".py",
   "mimetype": "text/x-python",
   "name": "python",
   "nbconvert_exporter": "python",
   "pygments_lexer": "ipython3",
   "version": "3.13.6"
  }
 },
 "nbformat": 4,
 "nbformat_minor": 5
}
