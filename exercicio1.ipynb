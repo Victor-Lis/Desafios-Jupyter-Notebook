{
 "cells": [
  {
   "cell_type": "markdown",
   "id": "49318290",
   "metadata": {},
   "source": [
    "1º) Escreva um programa que <b>leia</b> um valor em metros e o exiba convertido em milímetros."
   ]
  },
  {
   "cell_type": "code",
   "execution_count": null,
   "id": "04d8e99e",
   "metadata": {},
   "outputs": [
    {
     "name": "stdout",
     "output_type": "stream",
     "text": [
      "1m são 1000mm\n"
     ]
    }
   ],
   "source": [
    "metros = int(input(\"Digite um valor em metros: \"))\n",
    "milimetros = metros * 1000\n",
    "\n",
    "print(f\"{metros}m são {milimetros}mm\")"
   ]
  }
 ],
 "metadata": {
  "kernelspec": {
   "display_name": "Python 3",
   "language": "python",
   "name": "python3"
  },
  "language_info": {
   "codemirror_mode": {
    "name": "ipython",
    "version": 3
   },
   "file_extension": ".py",
   "mimetype": "text/x-python",
   "name": "python",
   "nbconvert_exporter": "python",
   "pygments_lexer": "ipython3",
   "version": "3.13.6"
  }
 },
 "nbformat": 4,
 "nbformat_minor": 5
}
