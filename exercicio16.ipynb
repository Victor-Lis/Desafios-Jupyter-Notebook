{
 "cells": [
  {
   "cell_type": "markdown",
   "id": "9706115b",
   "metadata": {},
   "source": [
    "16º) Utilize uma lista para resolver o problema a seguir. Uma empresa paga seus vendedores com base em comissões. O vendedor recebe 200.00 reais por semana mais 9 por cento de suas vendas brutas daquela semana.<br>\n",
    "Por exemplo, um vendedor que teve vendas brutas de 3000.00 reais em uma semana recebe 200.00 reais mais 9 por cento de 3000.00, ou seja, um total de 470.00 reais. Escreva um programa (usando uma lista de contadores) que determine quantos vendedores receberam salários nos seguintes intervalos de valores:<br>\n",
    "a.\t200.00 - 299.00<br>\n",
    "b.\t300.00 - 399.00<br>\n",
    "c.\t400.00 - 499.00<br>\n",
    "d.\t500.00 - 599.00<br>\n",
    "e.\t600.00 - 699.00<br>\n",
    "f.\t700.00 - 799.00<br>\n",
    "g.\t800.00 - 899.00<br>\n",
    "h.\t900.00 - 999.00<br>\n",
    "i.\t1000.00 em diante<br>\n"
   ]
  },
  {
   "cell_type": "code",
   "execution_count": null,
   "id": "3ae50bde",
   "metadata": {},
   "outputs": [
    {
     "name": "stdout",
     "output_type": "stream",
     "text": [
      "200.00 - 299.00: 3 vendedor(es)\n",
      "300.00 - 399.00: 1 vendedor(es)\n",
      "400.00 - 499.00: 2 vendedor(es)\n",
      "500.00 - 599.00: 1 vendedor(es)\n",
      "600.00 - 699.00: 1 vendedor(es)\n",
      "700.00 - 799.00: 0 vendedor(es)\n",
      "800.00 - 899.00: 1 vendedor(es)\n",
      "900.00 - 999.00: 0 vendedor(es)\n",
      "1000.00 em diante: 1 vendedor(es)\n"
     ]
    }
   ],
   "source": []
  }
 ],
 "metadata": {
  "kernelspec": {
   "display_name": "Python 3",
   "language": "python",
   "name": "python3"
  },
  "language_info": {
   "codemirror_mode": {
    "name": "ipython",
    "version": 3
   },
   "file_extension": ".py",
   "mimetype": "text/x-python",
   "name": "python",
   "nbconvert_exporter": "python",
   "pygments_lexer": "ipython3",
   "version": "3.13.6"
  }
 },
 "nbformat": 4,
 "nbformat_minor": 5
}
