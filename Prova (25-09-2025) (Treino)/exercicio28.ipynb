{
 "cells": [
  {
   "cell_type": "markdown",
   "id": "65075fb1",
   "metadata": {},
   "source": [
    "# Exercício 1: Decorador de Log de Função\n",
    "Um \"decorator\" em Python é uma função que modifica ou aprimora outra função sem alterar seu código-fonte. Seu desafio é criar um decorador chamado log_chamada que:\n",
    "\n",
    "- Receba qualquer função como argumento.\n",
    "- Antes de executar a função, imprima o nome dela e os argumentos com os quais foi chamada (*args e **kwargs).\n",
    "- Execute a função e armazene o resultado\n",
    "- Após a execução, imprima o valor que a função retornou.\n",
    "\n",
    "Finalmente, retorne o resultado da função original."
   ]
  },
  {
   "cell_type": "markdown",
   "id": "15e9dd21",
   "metadata": {},
   "source": [
    "## Sua Tarefa:\n",
    "- Crie o decorador log_chamada.\n",
    "- Aplique-o a duas funções de exemplo: uma que soma números e outra que cria uma saudação.\n",
    "- Chame as funções decoradas para ver o log em ação."
   ]
  },
  {
   "cell_type": "code",
   "execution_count": null,
   "id": "cdbbdb43",
   "metadata": {},
   "outputs": [],
   "source": [
    "# --- Chamando função: somar ---\n",
    "# Argumentos posicionais (args): (10, 20)\n",
    "# Argumentos nomeados (kwargs): {'c': 5}\n",
    "# >> 'somar' retornou: 35\n",
    "# ===============================\n",
    "# --- Chamando função: saudar ---\n",
    "# Argumentos posicionais (args): ('Mundo',)\n",
    "# Argumentos nomeados (kwargs): {'saudacao': 'Alô'}\n",
    "# >> 'saudar' retornou: 'Alô, Mundo!'\n",
    "# ==============================="
   ]
  },
  {
   "cell_type": "code",
   "execution_count": 6,
   "id": "236555d8",
   "metadata": {},
   "outputs": [],
   "source": [
    "def log_chamada(funcao):\n",
    "    def wrapper(*args, **kwargs):\n",
    "        print(f\"\\n--- Chamando função: {funcao.__name__} ---\")\n",
    "        \n",
    "        print(f\"Argumentos posicionais (args): {args}\")\n",
    "        print(f\"Argumentos nomeados (kwargs): {kwargs}\")\n",
    "        resultado = funcao(*args, **kwargs) # Executa a função original\n",
    "        \n",
    "        print(f\">> '{funcao.__name__}' retornou: {resultado}\")\n",
    "        \n",
    "        print(\"===============================\")\n",
    "        \n",
    "        return resultado\n",
    "    return wrapper"
   ]
  },
  {
   "cell_type": "code",
   "execution_count": 7,
   "id": "46b0c0de",
   "metadata": {},
   "outputs": [
    {
     "name": "stdout",
     "output_type": "stream",
     "text": [
      "\n",
      "--- Chamando função: somar ---\n",
      "Argumentos posicionais (args): (10, 20)\n",
      "Argumentos nomeados (kwargs): {'c': 5}\n",
      ">> 'somar' retornou: 35\n",
      "===============================\n",
      "\n",
      "--- Chamando função: saudar ---\n",
      "Argumentos posicionais (args): ('Mundo',)\n",
      "Argumentos nomeados (kwargs): {'saudacao': 'Alô'}\n",
      ">> 'saudar' retornou: Alô, Mundo!\n",
      "===============================\n"
     ]
    }
   ],
   "source": [
    "@log_chamada\n",
    "def somar(a, b, c):\n",
    "    return a + b + c\n",
    "\n",
    "@log_chamada\n",
    "def saudar(nome, saudacao=\"Olá\"):\n",
    "    return f\"{saudacao}, {nome}!\"\n",
    "\n",
    "# Exemplo de chamada:\n",
    "soma_resultado = somar(10, 20, c=5)\n",
    "saudacao_resultado = saudar(\"Mundo\", saudacao=\"Alô\")"
   ]
  }
 ],
 "metadata": {
  "kernelspec": {
   "display_name": "Python 3",
   "language": "python",
   "name": "python3"
  },
  "language_info": {
   "codemirror_mode": {
    "name": "ipython",
    "version": 3
   },
   "file_extension": ".py",
   "mimetype": "text/x-python",
   "name": "python",
   "nbconvert_exporter": "python",
   "pygments_lexer": "ipython3",
   "version": "3.13.7"
  }
 },
 "nbformat": 4,
 "nbformat_minor": 5
}
