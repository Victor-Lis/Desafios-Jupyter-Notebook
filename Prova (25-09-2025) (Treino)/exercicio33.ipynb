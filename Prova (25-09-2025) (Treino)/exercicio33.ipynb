{
 "cells": [
  {
   "cell_type": "markdown",
   "id": "3043540b",
   "metadata": {},
   "source": [
    "# Exercício 1: Gerador de Relatórios Dinâmico\n",
    "Você precisa criar uma função gerar_relatorio que seja extremamente flexível para gerar relatórios em formato de texto a partir de dados tabulares.\n",
    "\n",
    "## A função deve aceitar:\n",
    "- Uma lista de strings para o cabecalho como primeiro argumento.\n",
    "- Um número variável de linhas de dados, onde cada linha é uma tupla ou lista (*args_dados).\n",
    "- Opções de formatação do relatório como **kwargs (ex: titulo=\"Relatório de Vendas\", largura_total=80, alinhamento=\"esquerda\")."
   ]
  },
  {
   "cell_type": "markdown",
   "id": "e530d385",
   "metadata": {},
   "source": [
    "## Sua Tarefa:\n",
    "A função deve primeiro imprimir o título, centralizado com base na largura_total (valor padrão: 60).\n",
    "\n",
    "Depois, deve imprimir o cabeçalho, com cada coluna tendo uma largura igual para preencher a largura_total.\n",
    "\n",
    "Em seguida, deve iterar sobre cada linha de dados em *args_dados e imprimi-la, respeitando o alinhamento (\"esquerda\", \"direita\" ou \"centro\", padrão: \"esquerda\").\n",
    "\n",
    "Use os *args para os dados e os **kwargs para controlar a aparência do relatório."
   ]
  },
  {
   "cell_type": "code",
   "execution_count": 68,
   "id": "33a75de4",
   "metadata": {},
   "outputs": [],
   "source": [
    "def gerar_relatorio(cabecalho, *args_dados, **kwargs_formatacao):\n",
    "    largura_total = kwargs_formatacao.get('largura_total', 60)\n",
    "    separador = kwargs_formatacao.get('separador', '-') * int(largura_total+4)\n",
    "    titulo = kwargs_formatacao.get(\"titulo\", \"Relatório\")\n",
    "    alinhamento = kwargs_formatacao.get(\"alinhamento\", \"esquerda\")\n",
    "    \n",
    "    inicio_titulo = int(largura_total/2 - (len(titulo)/2))\n",
    "    print(f\"{\" \" * inicio_titulo}{titulo}\")\n",
    "    \n",
    "    print(separador)\n",
    "    \n",
    "    blocos_totais = len(cabecalho)\n",
    "    largura_coluna = largura_total // blocos_totais\n",
    "\n",
    "    linha_cabecalho = \"\"\n",
    "    for col in cabecalho:\n",
    "        linha_cabecalho += f\"{str(col).center(largura_coluna)}|\"\n",
    "    print(f\"|{linha_cabecalho}\")\n",
    "    \n",
    "    print(separador)\n",
    "    \n",
    "    for nome, quantidade, preco, total in args_dados:\n",
    "        if alinhamento == \"direita\":\n",
    "            linha_dados = (\n",
    "            f\"{str(nome):>{largura_coluna}}|\"\n",
    "            f\"{str(quantidade):>{largura_coluna}}|\"\n",
    "            f\"{'R$ ' + format(preco, ',.2f'):>{largura_coluna}}|\"\n",
    "            f\"{'R$ ' + format(total, ',.2f'):>{largura_coluna}}|\"\n",
    "            )\n",
    "        elif alinhamento == \"centro\":\n",
    "            linha_dados = (\n",
    "            f\"{str(nome):^{largura_coluna}}|\"\n",
    "            f\"{str(quantidade):^{largura_coluna}}|\"\n",
    "            f\"{('R$ ' + format(preco, ',.2f')):^{largura_coluna}}|\"\n",
    "            f\"{('R$ ' + format(total, ',.2f')):^{largura_coluna}}|\"\n",
    "            )\n",
    "        else:  # esquerda\n",
    "            linha_dados = (\n",
    "            f\"{str(nome):<{largura_coluna}}|\"\n",
    "            f\"{str(quantidade):<{largura_coluna}}|\"\n",
    "            f\"{'R$ ' + format(preco, ',.2f'):<{largura_coluna}}|\"\n",
    "            f\"{'R$ ' + format(total, ',.2f'):<{largura_coluna}}|\"\n",
    "            )\n",
    "        print(f\"|{linha_dados}\")\n",
    "        \n",
    "    print(separador)  "
   ]
  },
  {
   "cell_type": "code",
   "execution_count": 70,
   "id": "a0229ea0",
   "metadata": {},
   "outputs": [
    {
     "name": "stdout",
     "output_type": "stream",
     "text": [
      "                      Relatório Anual de Vendas\n",
      "--------------------------------------------------------------------------\n",
      "|     Produto     |    Quantidade   |   Preço Unit.   |      Total      |\n",
      "--------------------------------------------------------------------------\n",
      "| Notebook Gamer  |       10        |   R$ 8,500.00   |  R$ 85,000.00   |\n",
      "| Mouse Vertical  |       50        |    R$ 250.00    |  R$ 12,500.00   |\n",
      "|Teclado Mecânico |       30        |    R$ 450.00    |  R$ 13,500.00   |\n",
      "--------------------------------------------------------------------------\n"
     ]
    }
   ],
   "source": [
    "# Dados de exemplo\n",
    "cabecalho_vendas = [\"Produto\", \"Quantidade\", \"Preço Unit.\", \"Total\"]\n",
    "dados_vendas = [\n",
    "    (\"Notebook Gamer\", 10, 8500.00, 85000.00),\n",
    "    (\"Mouse Vertical\", 50, 250.00, 12500.00),\n",
    "    (\"Teclado Mecânico\", 30, 450.00, 13500.00)\n",
    "]\n",
    "\n",
    "# Exemplo de chamada:\n",
    "gerar_relatorio(\n",
    "    cabecalho_vendas,\n",
    "    *dados_vendas,\n",
    "    titulo=\"Relatório Anual de Vendas\",\n",
    "    largura_total=70,\n",
    "    alinhamento=\"centro\"\n",
    ")"
   ]
  },
  {
   "cell_type": "code",
   "execution_count": 28,
   "id": "5d95c2da",
   "metadata": {},
   "outputs": [],
   "source": [
    "#                      Relatório Anual de Vendas\n",
    "# ----------------------------------------------------------------------\n",
    "#         Produto       Quantidade    Preço Unit.          Total\n",
    "# ----------------------------------------------------------------------\n",
    "#  Notebook Gamer               10        8500.00        85000.00\n",
    "#  Mouse Vertical               50         250.00        12500.00\n",
    "# Teclado Mecânico              30         450.00        13500.00\n",
    "# ----------------------------------------------------------------------"
   ]
  },
  {
   "cell_type": "code",
   "execution_count": 71,
   "id": "275eb4c0",
   "metadata": {},
   "outputs": [
    {
     "name": "stdout",
     "output_type": "stream",
     "text": [
      "                                     Relatório Mensal de Vendas\n",
      "--------------------------------------------------------------------------------------------------------\n",
      "|         Produto         |        Quantidade       |       Preço Unit.       |          Total          |\n",
      "--------------------------------------------------------------------------------------------------------\n",
      "|           Notebook Gamer|                       10|              R$ 8,500.00|             R$ 85,000.00|\n",
      "|           Mouse Vertical|                       50|                R$ 250.00|             R$ 12,500.00|\n",
      "|         Teclado Mecânico|                       30|                R$ 450.00|             R$ 13,500.00|\n",
      "--------------------------------------------------------------------------------------------------------\n"
     ]
    }
   ],
   "source": [
    "gerar_relatorio(\n",
    "    cabecalho_vendas,\n",
    "    *dados_vendas,\n",
    "    titulo=\"Relatório Mensal de Vendas\",\n",
    "    largura_total=100,\n",
    "    alinhamento=\"direita\"\n",
    ")\n"
   ]
  }
 ],
 "metadata": {
  "kernelspec": {
   "display_name": "Python 3",
   "language": "python",
   "name": "python3"
  },
  "language_info": {
   "codemirror_mode": {
    "name": "ipython",
    "version": 3
   },
   "file_extension": ".py",
   "mimetype": "text/x-python",
   "name": "python",
   "nbconvert_exporter": "python",
   "pygments_lexer": "ipython3",
   "version": "3.13.7"
  }
 },
 "nbformat": 4,
 "nbformat_minor": 5
}
