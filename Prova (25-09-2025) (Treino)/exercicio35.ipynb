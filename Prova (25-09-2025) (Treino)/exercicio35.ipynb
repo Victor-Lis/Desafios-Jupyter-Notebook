{
 "cells": [
  {
   "cell_type": "markdown",
   "id": "fc092b4c",
   "metadata": {},
   "source": [
    "## Exercício 3: Simulador de Transações Bancárias\n",
    "Crie uma função simular_transacoes que opera sobre um dicionário representando contas bancárias.\n",
    "\n",
    "A função deve aceitar:\n",
    "\n",
    "Uma lista de tuplas, onde cada tupla é um comando de transação (*args_comandos).\n",
    "\n",
    "O estado inicial das contas como **kwargs_contas."
   ]
  },
  {
   "cell_type": "markdown",
   "id": "08fec3fb",
   "metadata": {},
   "source": [
    "## Sua Tarefa:\n",
    "\n",
    "A função deve começar com os saldos iniciais fornecidos em **kwargs_contas.\n",
    "\n",
    "Ela deve processar cada comando em *args_comandos. Os comandos podem ser:\n",
    "\n",
    "('DEPOSITO', 'nome_conta', valor)\n",
    "\n",
    "('SAQUE', 'nome_conta', valor)\n",
    "\n",
    "('TRANSFERENCIA', 'conta_origem', 'conta_destino', valor)\n",
    "\n",
    "A função deve realizar as operações, atualizando os saldos. Se uma conta não existir ou o saldo for insuficiente, deve imprimir uma mensagem de erro.\n",
    "\n",
    "Ao final, a função deve retornar o dicionário com os saldos atualizados."
   ]
  },
  {
   "cell_type": "code",
   "execution_count": 4,
   "id": "d5d22b3e",
   "metadata": {},
   "outputs": [],
   "source": [
    "def simular_transacoes(*args_comandos, **kwargs_contas):\n",
    "    contas = dict(kwargs_contas)\n",
    "    for comando in args_comandos:\n",
    "        if comando[0] == 'DEPOSITO':\n",
    "            _, nome, valor = comando\n",
    "            if nome in contas:\n",
    "                contas[nome] += valor\n",
    "            else:\n",
    "                print(f\"Erro: Conta '{nome}' não existe.\")\n",
    "        elif comando[0] == 'SAQUE':\n",
    "            _, nome, valor = comando\n",
    "            if nome in contas:\n",
    "                if contas[nome] >= valor:\n",
    "                    contas[nome] -= valor\n",
    "                else:\n",
    "                    print(f\"Erro: Saldo insuficiente na conta '{nome}'.\")\n",
    "            else:\n",
    "                print(f\"Erro: Conta '{nome}' não existe.\")\n",
    "        elif comando[0] == 'TRANSFERENCIA':\n",
    "            _, origem, destino, valor = comando\n",
    "            if origem not in contas:\n",
    "                print(f\"Erro: Conta de origem '{origem}' não existe.\")\n",
    "            elif destino not in contas:\n",
    "                print(f\"Erro: Conta de destino '{destino}' não existe.\")\n",
    "            elif contas[origem] < valor:\n",
    "                print(f\"Erro: Saldo insuficiente na conta '{origem}'.\")\n",
    "            else:\n",
    "                contas[origem] -= valor\n",
    "                contas[destino] += valor\n",
    "        else:\n",
    "            print(f\"Erro: Comando '{comando[0]}' inválido.\")\n",
    "    return contas"
   ]
  },
  {
   "cell_type": "code",
   "execution_count": 5,
   "id": "2af3e07b",
   "metadata": {},
   "outputs": [],
   "source": [
    "# Comandos e contas iniciais\n",
    "comandos = [\n",
    "    ('DEPOSITO', 'Ana', 500),\n",
    "    ('SAQUE', 'Bruno', 200),\n",
    "    ('TRANSFERENCIA', 'Ana', 'Carlos', 300),\n",
    "    ('SAQUE', 'Carlos', 500) # Saldo insuficiente\n",
    "]"
   ]
  },
  {
   "cell_type": "code",
   "execution_count": null,
   "id": "ee1fb026",
   "metadata": {},
   "outputs": [
    {
     "name": "stdout",
     "output_type": "stream",
     "text": [
      "\\nSaldos Finais:\n",
      "{'Ana': 1200, 'Bruno': 1300, 'Carlos': 0}\n"
     ]
    }
   ],
   "source": [
    "# Exemplo de chamada:\n",
    "saldos_finais = simular_transacoes(*comandos, Ana=1000, Bruno=1500, Carlos=200)\n",
    "\n",
    "print(\"\\nSaldos Finais:\")\n",
    "print(saldos_finais)"
   ]
  }
 ],
 "metadata": {
  "kernelspec": {
   "display_name": "Python 3",
   "language": "python",
   "name": "python3"
  },
  "language_info": {
   "codemirror_mode": {
    "name": "ipython",
    "version": 3
   },
   "file_extension": ".py",
   "mimetype": "text/x-python",
   "name": "python",
   "nbconvert_exporter": "python",
   "pygments_lexer": "ipython3",
   "version": "3.13.7"
  }
 },
 "nbformat": 4,
 "nbformat_minor": 5
}
