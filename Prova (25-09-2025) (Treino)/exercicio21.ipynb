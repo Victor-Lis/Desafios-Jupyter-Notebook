{
 "cells": [
  {
   "cell_type": "markdown",
   "id": "6c5645c7",
   "metadata": {},
   "source": [
    "# Exercício 2: Análise de Despesas Pessoais\n",
    "Você registrou suas despesas mensais em uma lista de dicionários. Cada dicionário representa uma despesa, com descrição, valor e categoria. O objetivo é criar um resumo financeiro.\n",
    "\n",
    "## Sua Tarefa:\n",
    "Calcule o total gasto no mês.\n",
    "- Crie um dicionário que agrupe os gastos por categoria, somando o total de cada uma.\n",
    "- Identifique a categoria com o maior gasto.\n",
    "- Encontre a despesa individual mais cara.\n",
    "\n",
    "> Exiba um relatório com o total gasto, o resumo por categoria e as outras informações encontradas."
   ]
  },
  {
   "cell_type": "code",
   "execution_count": 37,
   "id": "3e0b98f3",
   "metadata": {},
   "outputs": [],
   "source": [
    "# Resumo Financeiro Mensal:\n",
    "# ------------------------------------\n",
    "# Total de Despesas: R$ 1166.10\n",
    "\n",
    "# Gastos por Categoria:\n",
    "# - Alimentação: R$ 570.70\n",
    "# - Moradia: R$ 280.40\n",
    "# - Lazer: R$ 65.00\n",
    "# - Transporte: R$ 250.00\n",
    "\n",
    "# Categoria com maior gasto: Alimentação\n",
    "# Despesa mais cara: Supermercado (R$ 450.70)"
   ]
  },
  {
   "cell_type": "code",
   "execution_count": 38,
   "id": "c7703c29",
   "metadata": {},
   "outputs": [],
   "source": [
    "despesas = [\n",
    "    {'descricao': 'Supermercado', 'valor': 450.70, 'categoria': 'Alimentação'},\n",
    "    {'descricao': 'Conta de Luz', 'valor': 180.50, 'categoria': 'Moradia'},\n",
    "    {'descricao': 'Internet', 'valor': 99.90, 'categoria': 'Moradia'},\n",
    "    {'descricao': 'Restaurante', 'valor': 120.00, 'categoria': 'Alimentação'},\n",
    "    {'descricao': 'Cinema', 'valor': 65.00, 'categoria': 'Lazer'},\n",
    "    {'descricao': 'Gasolina', 'valor': 250.00, 'categoria': 'Transporte'}\n",
    "]"
   ]
  },
  {
   "cell_type": "code",
   "execution_count": 46,
   "id": "28d2efd7",
   "metadata": {},
   "outputs": [
    {
     "name": "stdout",
     "output_type": "stream",
     "text": [
      "Total de despesas:  1166.1\n",
      "Total de categoria:  {'Alimentação': 570.7, 'Moradia': 280.4, 'Lazer': 65.0, 'Transporte': 250.0}\n"
     ]
    }
   ],
   "source": [
    "total = 0;\n",
    "categorias = {}\n",
    "for despesa in despesas:\n",
    "    total += despesa['valor'];\n",
    "    if despesa[\"categoria\"] not in categorias:\n",
    "        categorias[despesa[\"categoria\"]] = despesa['valor']\n",
    "    else:\n",
    "        categorias[despesa[\"categoria\"]] += despesa['valor']\n",
    "    \n",
    "print(\"Total de despesas: \", total);\n",
    "print(\"Total de categoria: \", categorias);\n",
    "    "
   ]
  },
  {
   "cell_type": "code",
   "execution_count": null,
   "id": "6e15953c",
   "metadata": {},
   "outputs": [
    {
     "name": "stdout",
     "output_type": "stream",
     "text": [
      "Resumo Financeiro Mensal:\n",
      "------------------------------\n",
      "\n",
      "Total de Despesas: R$ 1166.1\n",
      "\n",
      "Gastos por Categoria:\n",
      "- Alimentação: R$ 570.70\n",
      "- Moradia: R$ 280.40\n",
      "- Lazer: R$ 65.00\n",
      "- Transporte: R$ 250.00\n",
      "\n",
      "Categoria com maior gasto: Alimentação\n",
      "Alimentação\n"
     ]
    }
   ],
   "source": [
    "print(\"Resumo Financeiro Mensal:\")\n",
    "print(\"-\" * 30)\n",
    "print(f\"\\nTotal de Despesas: R$ {total}\")\n",
    "\n",
    "print(\"\\nGastos por Categoria:\")\n",
    "for nome, valor in categorias.items():\n",
    "    print(f\"- {nome}: R$ {valor:.2f}\")\n",
    "\n",
    "maior_gasto = max(categorias, key=lambda x: categorias[x])\n",
    "print(f\"\\nCategoria com maior gasto: {maior_gasto}\")"
   ]
  }
 ],
 "metadata": {
  "kernelspec": {
   "display_name": "Python 3",
   "language": "python",
   "name": "python3"
  },
  "language_info": {
   "codemirror_mode": {
    "name": "ipython",
    "version": 3
   },
   "file_extension": ".py",
   "mimetype": "text/x-python",
   "name": "python",
   "nbconvert_exporter": "python",
   "pygments_lexer": "ipython3",
   "version": "3.13.7"
  }
 },
 "nbformat": 4,
 "nbformat_minor": 5
}
