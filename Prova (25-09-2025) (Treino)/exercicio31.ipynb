{
 "cells": [
  {
   "cell_type": "markdown",
   "id": "62586209",
   "metadata": {},
   "source": [
    "# A. A+B (Trial Problem)\n",
    "\n",
    "**Time limit per test:** 1 second  \n",
    "**Memory limit per test:** 256 megabytes\n",
    "\n",
    "You are given two integers `a` and `b`. Print `a + b`.\n",
    "\n",
    "---\n",
    "\n",
    "## Input\n",
    "\n",
    "- The first line contains an integer `t` (`1 ≤ t ≤ 10⁴`) — the number of test cases.\n",
    "- Each of the next `t` lines contains two integers `a` and `b` (`-1000 ≤ a, b ≤ 1000`).\n",
    "\n",
    "## Output\n",
    "\n",
    "- Print `t` integers — each integer is the sum `a + b` for each test case.\n",
    "\n",
    "---\n"
   ]
  },
  {
   "cell_type": "code",
   "execution_count": null,
   "id": "ba0b4c14",
   "metadata": {},
   "outputs": [
    {
     "name": "stdout",
     "output_type": "stream",
     "text": [
      "6\n",
      "329\n",
      "0\n",
      "1110\n"
     ]
    }
   ],
   "source": [
    "rows = int(input(\"\"))\n",
    "\n",
    "results = []\n",
    "\n",
    "for i in range(rows):\n",
    "    a, b = [int(i) for i in input().split(\" \")]\n",
    "    results.append(a + b)\n",
    "    \n",
    "for result in results:\n",
    "    print(result)"
   ]
  }
 ],
 "metadata": {
  "kernelspec": {
   "display_name": "Python 3",
   "language": "python",
   "name": "python3"
  },
  "language_info": {
   "codemirror_mode": {
    "name": "ipython",
    "version": 3
   },
   "file_extension": ".py",
   "mimetype": "text/x-python",
   "name": "python",
   "nbconvert_exporter": "python",
   "pygments_lexer": "ipython3",
   "version": "3.13.7"
  }
 },
 "nbformat": 4,
 "nbformat_minor": 5
}
