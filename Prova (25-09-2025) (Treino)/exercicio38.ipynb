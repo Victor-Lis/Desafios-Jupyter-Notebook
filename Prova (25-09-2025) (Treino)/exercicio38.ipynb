{
 "cells": [
  {
   "cell_type": "markdown",
   "id": "9fcccdf5",
   "metadata": {},
   "source": [
    "# Exercício 3: Transformação de Matriz de Pontuações\n",
    "Você tem uma matriz (uma lista de listas) representando as pontuações de vários jogadores em diferentes rodadas. Cada linha é um jogador e cada coluna é uma rodada."
   ]
  },
  {
   "cell_type": "markdown",
   "id": "0d9015fb",
   "metadata": {},
   "source": [
    "## Sua Tarefa:\n",
    "\n",
    "- Calcular Pontuações Totais: Usando list comprehension, crie uma lista totais que contenha a soma das pontuações de cada jogador (a soma de cada linha).\n",
    "\n",
    "- Encontrar a Maior Pontuação por Rodada: Itere de forma aninhada (ou de maneira mais inteligente) para encontrar a maior pontuação em cada rodada (coluna). Armazene esses valores em uma lista chamada maiores_pontuacoes_rodada.\n",
    "\n",
    "- Criar Dicionário de Desempenho: Crie um dicionário chamado desempenho_jogadores. As chaves devem ser \"Jogador 1\", \"Jogador 2\", etc., e o valor para cada chave deve ser outra tupla contendo (pontuacao_total, maior_pontuacao_individual)."
   ]
  },
  {
   "cell_type": "code",
   "execution_count": 1,
   "id": "0c145f0a",
   "metadata": {},
   "outputs": [],
   "source": [
    "pontuacoes = [\n",
    "    [85, 92, 88, 78],  # Jogador 1\n",
    "    [90, 88, 94, 89],  # Jogador 2\n",
    "    [76, 80, 85, 90]   # Jogador 3\n",
    "]"
   ]
  },
  {
   "cell_type": "code",
   "execution_count": null,
   "id": "cda0bb2f",
   "metadata": {},
   "outputs": [],
   "source": [
    "# --- Análise de Pontuações ---\n",
    "\n",
    "# Pontuações Totais por Jogador:\n",
    "# [343, 361, 331]\n",
    "\n",
    "# Maiores Pontuações por Rodada:\n",
    "# [90, 92, 94, 90]\n",
    "\n",
    "# Desempenho dos Jogadores:\n",
    "# {\n",
    "#     'Jogador 1': (343, 92),\n",
    "#     'Jogador 2': (361, 94),\n",
    "#     'Jogador 3': (331, 90)\n",
    "# }"
   ]
  },
  {
   "cell_type": "code",
   "execution_count": 21,
   "id": "694fbd36",
   "metadata": {},
   "outputs": [],
   "source": [
    "analises = [(f\"Jogador {i+1}\",sum(partidas)/len(partidas), max(partidas)) for i, partidas in enumerate(pontuacoes)]\n",
    "\n",
    "maiores_pontuacoes_rodada = [max(rodada) for rodada in zip(*pontuacoes)]"
   ]
  },
  {
   "cell_type": "code",
   "execution_count": null,
   "id": "a8d45721",
   "metadata": {},
   "outputs": [
    {
     "name": "stdout",
     "output_type": "stream",
     "text": [
      "--- Análise de Pontuações ---\n",
      "Pontuações Totais por Jogador:\n",
      "[85.75, 90.25, 82.75]\n",
      "\n",
      "Maiores Pontuações por Rodada:\n",
      "[92, 94, 90]\n",
      "\n",
      "Desempenho dos Jogadores:\n",
      "{'Jogador 1': (85.75, 92), 'Jogador 2': (90.25, 94), 'Jogador 3': (82.75, 90)}\n"
     ]
    }
   ],
   "source": [
    "print(\"--- Análise de Pontuações ---\")\n",
    "\n",
    "print(\"Pontuações Totais por Jogador:\")\n",
    "print([analise[1] for analise in analises])\n",
    "\n",
    "print(\"\\nMaiores Pontuações por Rodada:\")\n",
    "print(maiores_pontuacoes_rodada)\n",
    "\n",
    "dicionario_jogadores = {}\n",
    "print(\"\\nDesempenho dos Jogadores:\")\n",
    "for jogador, total, maior in analises:\n",
    "    dicionario_jogadores[jogador]= (total, maior)\n",
    "print(dicionario_jogadores)"
   ]
  }
 ],
 "metadata": {
  "kernelspec": {
   "display_name": "Python 3",
   "language": "python",
   "name": "python3"
  },
  "language_info": {
   "codemirror_mode": {
    "name": "ipython",
    "version": 3
   },
   "file_extension": ".py",
   "mimetype": "text/x-python",
   "name": "python",
   "nbconvert_exporter": "python",
   "pygments_lexer": "ipython3",
   "version": "3.13.7"
  }
 },
 "nbformat": 4,
 "nbformat_minor": 5
}
