{
 "cells": [
  {
   "cell_type": "markdown",
   "id": "fed3b51b",
   "metadata": {},
   "source": [
    "# Exercício 1: Análise de Notas de Alunos\n",
    "Você recebeu uma lista de tuplas, onde cada tupla contém o nome de um aluno e suas duas notas no semestre. Sua tarefa é calcular a média de cada aluno e determinar se ele foi aprovado ou reprovado.\n",
    "\n",
    "Critérios:\n",
    "\n",
    "A média para aprovação é 7.0.\n",
    "\n",
    "> Sua resposta deve exibir o nome do aluno, suas duas notas, a média calculada e seu status (\"Aprovado\" ou \"Reprovado\")."
   ]
  },
  {
   "cell_type": "code",
   "execution_count": 3,
   "id": "c7b6b425",
   "metadata": {},
   "outputs": [],
   "source": [
    "alunos_notas = [\n",
    "    ('Alice', 8.5, 9.0),\n",
    "    ('Bruno', 6.0, 7.5),\n",
    "    ('Carla', 7.0, 7.0),\n",
    "    ('Daniel', 5.5, 6.0),\n",
    "    ('Elena', 9.5, 10.0),\n",
    "    ('Fábio', 4.0, 5.5)\n",
    "]"
   ]
  },
  {
   "cell_type": "code",
   "execution_count": 17,
   "id": "f48d0f39",
   "metadata": {},
   "outputs": [],
   "source": [
    "aprovados = [(nome, (nota1 + nota2) / 2, \"Aprovado\" if (nota1 + nota2) / 2 >= 7.0 else \"Reprovado\") for nome, nota1, nota2 in alunos_notas]"
   ]
  },
  {
   "cell_type": "code",
   "execution_count": 35,
   "id": "a35dbe1a",
   "metadata": {},
   "outputs": [
    {
     "name": "stdout",
     "output_type": "stream",
     "text": [
      "-------------------------\n",
      " Nome  | Nota | Status\n",
      "-------------------------\n",
      "Alice  | 8.75 | Aprovado  \n",
      "Bruno  | 6.75 | Reprovado \n",
      "Carla  | 7.00 | Aprovado  \n",
      "Daniel | 5.75 | Reprovado \n",
      "Elena  | 9.75 | Aprovado  \n",
      "Fábio  | 4.75 | Reprovado \n"
     ]
    }
   ],
   "source": [
    "print(\"-\" * 25)\n",
    "print(\" Nome  | Nota | Status\" )\n",
    "print(\"-\" * 25)\n",
    "for nome, media, aprovado in aprovados:\n",
    "    print(f\"{nome:<6} | {media:.2f} | {aprovado:<10}\") "
   ]
  }
 ],
 "metadata": {
  "kernelspec": {
   "display_name": "Python 3",
   "language": "python",
   "name": "python3"
  },
  "language_info": {
   "codemirror_mode": {
    "name": "ipython",
    "version": 3
   },
   "file_extension": ".py",
   "mimetype": "text/x-python",
   "name": "python",
   "nbconvert_exporter": "python",
   "pygments_lexer": "ipython3",
   "version": "3.13.7"
  }
 },
 "nbformat": 4,
 "nbformat_minor": 5
}
