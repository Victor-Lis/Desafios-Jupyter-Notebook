{
 "cells": [
  {
   "cell_type": "markdown",
   "id": "56f0eb28",
   "metadata": {},
   "source": [
    "# Exercício 1: Análise de Desempenho de Vendedores\n",
    "Você tem uma lista de dicionários, onde cada um representa os dados de um vendedor, incluindo o total de vendas e o número de vendas realizadas. Sua tarefa é calcular o \"ticket médio\" de cada vendedor e identificar o vendedor com o melhor desempenho.\n",
    "\n",
    "## Critérios:\n",
    "- O ticket médio é calculado por: total_de_vendas / numero_de_vendas.\n",
    "- Você deve criar uma nova lista de tuplas, onde cada tupla conterá o nome do vendedor e seu ticket médio.\n",
    "\n",
    "> Ao final, anuncie o nome do vendedor com o maior ticket médio."
   ]
  },
  {
   "cell_type": "code",
   "execution_count": 22,
   "id": "09516905",
   "metadata": {},
   "outputs": [],
   "source": [
    "dados_vendedores = [\n",
    "    {'nome': 'Julia', 'total_vendas': 18000, 'numero_vendas': 80},\n",
    "    {'nome': 'Marcos', 'total_vendas': 15000, 'numero_vendas': 50},\n",
    "    {'nome': 'Ana', 'total_vendas': 12000, 'numero_vendas': 90},\n",
    "    {'nome': 'Ricardo', 'total_vendas': 25000, 'numero_vendas': 60},\n",
    "]"
   ]
  },
  {
   "cell_type": "code",
   "execution_count": 27,
   "id": "dac546ae",
   "metadata": {},
   "outputs": [
    {
     "name": "stdout",
     "output_type": "stream",
     "text": [
      "- Julia: Ticket Médio de R$225.0\n",
      "- Marcos: Ticket Médio de R$300.0\n",
      "- Ana: Ticket Médio de R$133.33333333333334\n",
      "- Ricardo: Ticket Médio de R$416.6666666666667\n",
      "\n",
      "O vendedor com o melhor desempenho foi Ricardo, com um ticket médio de R$416.6666666666667.\n"
     ]
    }
   ],
   "source": [
    "vendedores_formatados = [(vendedor[\"nome\"], vendedor[\"total_vendas\"] / vendedor[\"numero_vendas\"]) for vendedor in dados_vendedores]\n",
    "\n",
    "maiorVendedor = max(vendedores_formatados, key=lambda x: x[1])\n",
    "\n",
    "for nome, media in vendedores_formatados:\n",
    "    print(f\"- {nome}: Ticket Médio de R${media}\")\n",
    "\n",
    "print(f\"\\nO vendedor com o melhor desempenho foi {maiorVendedor[0]}, com um ticket médio de R${maiorVendedor[1]}.\")"
   ]
  }
 ],
 "metadata": {
  "kernelspec": {
   "display_name": "Python 3",
   "language": "python",
   "name": "python3"
  },
  "language_info": {
   "codemirror_mode": {
    "name": "ipython",
    "version": 3
   },
   "file_extension": ".py",
   "mimetype": "text/x-python",
   "name": "python",
   "nbconvert_exporter": "python",
   "pygments_lexer": "ipython3",
   "version": "3.13.7"
  }
 },
 "nbformat": 4,
 "nbformat_minor": 5
}
