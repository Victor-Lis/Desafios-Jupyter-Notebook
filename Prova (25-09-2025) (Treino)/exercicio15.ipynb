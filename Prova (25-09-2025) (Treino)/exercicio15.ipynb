{
 "cells": [
  {
   "cell_type": "markdown",
   "id": "5bc48b65",
   "metadata": {},
   "source": [
    "# Exercício 2: Consolidação de Vendas por Categoria\n",
    "Você recebeu uma lista de tuplas, onde cada tupla representa uma venda e contém o nome do produto, a categoria e o valor da venda. Seu objetivo é consolidar esses dados para saber o total de vendas de cada categoria.\n",
    "\n",
    "## Sua Tarefa:\n",
    "Crie um dicionário para armazenar o total de vendas por categoria.\n",
    "- Itere sobre a lista de vendas. Para cada venda, adicione o valor ao total da categoria correspondente no seu dicionário.\n",
    "- Após processar todas as vendas, exiba um relatório com o total de vendas para cada categoria.\n",
    "\n",
    "> Identifique e anuncie a categoria com o maior volume de vendas."
   ]
  },
  {
   "cell_type": "code",
   "execution_count": null,
   "id": "265320fb",
   "metadata": {},
   "outputs": [],
   "source": [
    "# Total de Vendas por Categoria:\n",
    "# ------------------------------------\n",
    "# - Eletrônicos: R$ 1450.00\n",
    "# - Móveis: R$ 2120.00\n",
    "\n",
    "# Categoria com maior volume de vendas: Móveis (R$ 2120.00)"
   ]
  },
  {
   "cell_type": "code",
   "execution_count": 2,
   "id": "a5dd94b6",
   "metadata": {},
   "outputs": [],
   "source": [
    "vendas = [\n",
    "    ('Monitor LED 24\"', 'Eletrônicos', 950.00),\n",
    "    ('Cadeira Gamer', 'Móveis', 1200.00),\n",
    "    ('Teclado Mecânico', 'Eletrônicos', 350.00),\n",
    "    ('Mesa de Escritório', 'Móveis', 800.00),\n",
    "    ('Mouse sem Fio', 'Eletrônicos', 150.00),\n",
    "    ('Luminária de Mesa', 'Móveis', 120.00)\n",
    "]"
   ]
  },
  {
   "cell_type": "code",
   "execution_count": 11,
   "id": "29314798",
   "metadata": {},
   "outputs": [
    {
     "name": "stdout",
     "output_type": "stream",
     "text": [
      "Total de Vendas por Categoria:\n",
      "------------------------------\n",
      "- Eletrônicos: R$ 1450.0\n",
      "- Móveis: R$ 2120.0\n",
      "\n",
      "Categoria com maior volume de vendas: Móveis (R$ 2120.00)\n"
     ]
    }
   ],
   "source": [
    "totais_por_categoria = {}\n",
    "\n",
    "for venda in vendas:\n",
    "    categoria, preco = venda[1], venda[2]\n",
    "    if categoria in totais_por_categoria:\n",
    "        totais_por_categoria[categoria] += preco\n",
    "    else:\n",
    "        totais_por_categoria[categoria] = preco\n",
    "\n",
    "print(\"Total de Vendas por Categoria:\")\n",
    "print(\"-\" * 30)\n",
    "for categoria in totais_por_categoria.keys():\n",
    "    print(f\"- {categoria}: R$ {totais_por_categoria[categoria]}\")\n",
    "\n",
    "maior_categoria = max(totais_por_categoria)\n",
    "print(f\"\\nCategoria com maior volume de vendas: {categoria} (R$ {totais_por_categoria[categoria]:.2f})\")"
   ]
  }
 ],
 "metadata": {
  "kernelspec": {
   "display_name": "Python 3",
   "language": "python",
   "name": "python3"
  },
  "language_info": {
   "codemirror_mode": {
    "name": "ipython",
    "version": 3
   },
   "file_extension": ".py",
   "mimetype": "text/x-python",
   "name": "python",
   "nbconvert_exporter": "python",
   "pygments_lexer": "ipython3",
   "version": "3.13.7"
  }
 },
 "nbformat": 4,
 "nbformat_minor": 5
}
