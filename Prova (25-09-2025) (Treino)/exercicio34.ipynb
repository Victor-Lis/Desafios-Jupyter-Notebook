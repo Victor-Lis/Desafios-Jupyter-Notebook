{
 "cells": [
  {
   "cell_type": "markdown",
   "id": "7937670a",
   "metadata": {},
   "source": [
    "# Exercício 2: Pipeline de Processamento de Dados\n",
    "Crie uma função executar_pipeline que aplica uma sequência de funções de transformação a um dado inicial.\n",
    "\n",
    "A função deve aceitar:\n",
    "\n",
    "O dado_inicial a ser processado.\n",
    "\n",
    "Um número variável de funções de transformação como *args_funcoes."
   ]
  },
  {
   "cell_type": "markdown",
   "id": "0cca7840",
   "metadata": {},
   "source": [
    "## Sua Tarefa:\n",
    "\n",
    "A função deve pegar o dado_inicial e passá-lo como argumento para a primeira função em *args_funcoes.\n",
    "\n",
    "O resultado da primeira função deve ser passado como argumento para a segunda, e assim por diante, em uma \"esteira\" de processamento.\n",
    "\n",
    "A função deve retornar o resultado final após a última transformação.\n",
    "\n",
    "Isso simula um pipeline de ETL (Extração, Transformação, Carga) de forma simples."
   ]
  },
  {
   "cell_type": "code",
   "execution_count": 1,
   "id": "e2b96cd5",
   "metadata": {},
   "outputs": [],
   "source": [
    "def executar_pipeline(dado_inicial, *args_funcoes):\n",
    "    dado = dado_inicial\n",
    "    for funcao in args_funcoes:\n",
    "        dado = funcao(dado)\n",
    "    return dado"
   ]
  },
  {
   "cell_type": "code",
   "execution_count": null,
   "id": "09e4e7a1",
   "metadata": {},
   "outputs": [],
   "source": [
    "def para_maiusculas(texto):\n",
    "    return texto.upper()\n",
    "\n",
    "def adicionar_exclamacao(texto):\n",
    "    return f\"{texto}!\"\n",
    "\n",
    "def remover_espacos(texto):\n",
    "    return texto.replace(\" \", \"_\")"
   ]
  },
  {
   "cell_type": "code",
   "execution_count": 3,
   "id": "7b5d8afd",
   "metadata": {},
   "outputs": [
    {
     "name": "stdout",
     "output_type": "stream",
     "text": [
      "Resultado do pipeline: BEM_VINDO_AO_DESAFIO!\n"
     ]
    }
   ],
   "source": [
    "# Exemplo de chamada:\n",
    "resultado = executar_pipeline(\n",
    "    \"bem vindo ao desafio\",\n",
    "    remover_espacos,\n",
    "    para_maiusculas,\n",
    "    adicionar_exclamacao\n",
    ")\n",
    "\n",
    "print(f\"Resultado do pipeline: {resultado}\")"
   ]
  }
 ],
 "metadata": {
  "kernelspec": {
   "display_name": "Python 3",
   "language": "python",
   "name": "python3"
  },
  "language_info": {
   "codemirror_mode": {
    "name": "ipython",
    "version": 3
   },
   "file_extension": ".py",
   "mimetype": "text/x-python",
   "name": "python",
   "nbconvert_exporter": "python",
   "pygments_lexer": "ipython3",
   "version": "3.13.7"
  }
 },
 "nbformat": 4,
 "nbformat_minor": 5
}
