{
 "cells": [
  {
   "cell_type": "markdown",
   "id": "170f89d5",
   "metadata": {},
   "source": [
    "# Exercício 3: Controle de Estoque de uma Loja\n",
    "Você tem uma lista de dicionários, onde cada dicionário representa um produto em estoque, contendo seu nome, quantidade e preço unitário. O objetivo é criar um relatório final do estoque.\n",
    "\n",
    "## Sua Tarefa:\n",
    "- Calcular o valor total de cada produto em estoque (quantidade × preço).\n",
    "- Calcular o valor total de todo o estoque (a soma do valor de todos os produtos).\n",
    "- Identificar o produto com o maior valor total em estoque."
   ]
  },
  {
   "cell_type": "code",
   "execution_count": null,
   "id": "7b436c73",
   "metadata": {},
   "outputs": [],
   "source": [
    "print(\"Relatório de Estoque:\")\n",
    "print(\"------------------------------------\")\n",
    "print(\"- Teclado Mecânico: 50 un. | Preço: R$ 250.00 | Total: R$ 12500.00\")\n",
    "print(\"- Mouse Gamer: 75 un. | Preço: R$ 120.50 | Total: R$ 9037.50\")\n",
    "\n",
    "print(\"Valor total do estoque: R$ 64067.50\")\n",
    "print(\"Produto mais valioso em estoque: Monitor 24\")"
   ]
  },
  {
   "cell_type": "code",
   "execution_count": null,
   "id": "96a72aaf",
   "metadata": {},
   "outputs": [],
   "source": [
    "estoque = [\n",
    "    {'nome': 'Teclado Mecânico', 'quantidade': 50, 'preco': 250.00},\n",
    "    {'nome': 'Mouse Gamer', 'quantidade': 75, 'preco': 120.50},\n",
    "    {'nome': 'Monitor 24\"', 'quantidade': 30, 'preco': 950.00},\n",
    "    {'nome': 'Headset Surround', 'quantidade': 40, 'preco': 350.75}\n",
    "]"
   ]
  },
  {
   "cell_type": "code",
   "execution_count": 20,
   "id": "a385c21a",
   "metadata": {},
   "outputs": [
    {
     "name": "stdout",
     "output_type": "stream",
     "text": [
      "---- Relatório do Estoque ----\n",
      "\n",
      "Teclado Mecânico: 50un. | Preço R$250.0 | Total: R$12500.0\n",
      "Mouse Gamer: 75un. | Preço R$120.5 | Total: R$9037.5\n",
      "Monitor 24\": 30un. | Preço R$950.0 | Total: R$28500.0\n",
      "Headset Surround: 40un. | Preço R$350.75 | Total: R$14030.0\n",
      "\n",
      "Valor total do estoque: R$64067.5\n",
      "\n",
      "Produto mais valioso: Monitor 24\"\n"
     ]
    }
   ],
   "source": [
    "print(f\"{\"-\" * 4} Relatório do Estoque {\"-\" * 4}\\n\")\n",
    "\n",
    "totalEstoque = 0\n",
    "maisValioso = {'nome': 'Não definido', 'quantidade': 0, 'preco': 0.00}\n",
    "\n",
    "for item in estoque:\n",
    "    nome, quantidade, preco = item['nome'], item['quantidade'], item['preco']\n",
    "    total = quantidade * preco\n",
    "    totalEstoque += total\n",
    "    if (not maisValioso[\"preco\"]) or (maisValioso[\"preco\"] <= preco): maisValioso = item\n",
    "    print(f\"{nome}: {quantidade}un. | Preço R${preco} | Total: R${total}\")\n",
    "\n",
    "print(f\"\\nValor total do estoque: R${totalEstoque}\")\n",
    "print(f\"\\nProduto mais valioso: {maisValioso[\"nome\"]}\")"
   ]
  },
  {
   "cell_type": "code",
   "execution_count": 21,
   "id": "db39b5c3",
   "metadata": {},
   "outputs": [
    {
     "name": "stdout",
     "output_type": "stream",
     "text": [
      "------------------------------------------------------------\n",
      "|                     Relatório Anual                      |\n",
      "------------------------------------------------------------\n",
      "- Teclado Mecânico: 50 un. | Preço: R$250.0 | Total: R$12500.0\n",
      "- Mouse Gamer: 75 un. | Preço: R$120.5 | Total: R$9037.5\n",
      "- Monitor 24\": 30 un. | Preço: R$950.0 | Total: R$28500.0\n",
      "- Headset Surround: 40 un. | Preço: R$350.75 | Total: R$14030.0\n",
      "\n",
      "Valor total do estoque: R$ 64067.5\n",
      "Produto mais valioso em estoque: Monitor 24\" (R$950.0)\n"
     ]
    }
   ],
   "source": [
    "print(\"-\" * 60)\n",
    "print(f\"|{\"Relatório Anual\".center(58)}|\")\n",
    "print(\"-\" * 60)\n",
    "\n",
    "total_estoque = 0\n",
    "mais_valioso = {\"nome\": \"Não definido\", \"quantidade\": 0, \"preco\": 0}\n",
    "\n",
    "for item in estoque:\n",
    "  nome, quantidade, preco = item[\"nome\"], item[\"quantidade\"], item[\"preco\"]\n",
    "  total = preco * quantidade\n",
    "  total_estoque += total\n",
    "  print(f\"- {nome}: {quantidade} un. | Preço: R${preco} | Total: R${total}\")\n",
    "  if (not mais_valioso[\"preco\"] or mais_valioso[\"preco\"] < preco):\n",
    "    mais_valioso = item\n",
    "\n",
    "print(f\"\\nValor total do estoque: R$ {total_estoque}\")\n",
    "print(f\"Produto mais valioso em estoque: {mais_valioso['nome']} (R${mais_valioso[\"preco\"]})\")\n"
   ]
  }
 ],
 "metadata": {
  "kernelspec": {
   "display_name": "Python 3",
   "language": "python",
   "name": "python3"
  },
  "language_info": {
   "codemirror_mode": {
    "name": "ipython",
    "version": 3
   },
   "file_extension": ".py",
   "mimetype": "text/x-python",
   "name": "python",
   "nbconvert_exporter": "python",
   "pygments_lexer": "ipython3",
   "version": "3.13.6"
  }
 },
 "nbformat": 4,
 "nbformat_minor": 5
}
