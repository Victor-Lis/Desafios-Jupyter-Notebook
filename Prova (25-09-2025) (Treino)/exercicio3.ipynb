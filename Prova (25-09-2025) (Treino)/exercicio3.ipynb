{
 "cells": [
  {
   "cell_type": "markdown",
   "id": "170f89d5",
   "metadata": {},
   "source": [
    "# Exercício 3: Controle de Estoque de uma Loja\n",
    "Você tem uma lista de dicionários, onde cada dicionário representa um produto em estoque, contendo seu nome, quantidade e preço unitário. O objetivo é criar um relatório final do estoque.\n",
    "\n",
    "## Sua Tarefa:\n",
    "- Calcular o valor total de cada produto em estoque (quantidade × preço).\n",
    "- Calcular o valor total de todo o estoque (a soma do valor de todos os produtos).\n",
    "- Identificar o produto com o maior valor total em estoque."
   ]
  },
  {
   "cell_type": "code",
   "execution_count": 35,
   "id": "7b436c73",
   "metadata": {},
   "outputs": [
    {
     "name": "stdout",
     "output_type": "stream",
     "text": [
      "Relatório de Estoque:\n",
      "------------------------------------\n",
      "- Teclado Mecânico: 50 un. | Preço: R$ 250.00 | Total: R$ 12500.00\n",
      "- Mouse Gamer: 75 un. | Preço: R$ 120.50 | Total: R$ 9037.50\n",
      "Valor total do estoque: R$ 64067.50\n",
      "Produto mais valioso em estoque: Monitor 24\n"
     ]
    }
   ],
   "source": [
    "print(\"Relatório de Estoque:\")\n",
    "print(\"------------------------------------\")\n",
    "print(\"- Teclado Mecânico: 50 un. | Preço: R$ 250.00 | Total: R$ 12500.00\")\n",
    "print(\"- Mouse Gamer: 75 un. | Preço: R$ 120.50 | Total: R$ 9037.50\")\n",
    "\n",
    "print(\"Valor total do estoque: R$ 64067.50\")\n",
    "print(\"Produto mais valioso em estoque: Monitor 24\")"
   ]
  },
  {
   "cell_type": "code",
   "execution_count": 16,
   "id": "96a72aaf",
   "metadata": {},
   "outputs": [],
   "source": [
    "estoque = [\n",
    "    {'nome': 'Teclado Mecânico', 'quantidade': 50, 'preco': 250.00},\n",
    "    {'nome': 'Mouse Gamer', 'quantidade': 75, 'preco': 120.50},\n",
    "    {'nome': 'Monitor 24\"', 'quantidade': 30, 'preco': 950.00},\n",
    "    {'nome': 'Headset Surround', 'quantidade': 40, 'preco': 350.75}\n",
    "]"
   ]
  },
  {
   "cell_type": "code",
   "execution_count": 43,
   "id": "a385c21a",
   "metadata": {},
   "outputs": [
    {
     "name": "stdout",
     "output_type": "stream",
     "text": [
      "---- Relatório do Estoque ----\n",
      "\n",
      "Teclado Mecânico: 50un. | Preço R$250.0 | Total: R$12500.0\n",
      "Mouse Gamer: 75un. | Preço R$120.5 | Total: R$9037.5\n",
      "Monitor 24\": 30un. | Preço R$950.0 | Total: R$28500.0\n",
      "Headset Surround: 40un. | Preço R$350.75 | Total: R$14030.0\n",
      "\n",
      "Valor total do estoque: R$64067.5\n",
      "\n",
      "Produto mais valioso: Monitor 24\"\n"
     ]
    }
   ],
   "source": [
    "print(f\"{\"-\" * 4} Relatório do Estoque {\"-\" * 4}\\n\")\n",
    "\n",
    "totalEstoque = 0\n",
    "maisValioso = {'nome': 'Não definido', 'quantidade': 0, 'preco': 0.00}\n",
    "\n",
    "for item in estoque:\n",
    "    nome, quantidade, preco = item['nome'], item['quantidade'], item['preco']\n",
    "    total = quantidade * preco\n",
    "    totalEstoque += total\n",
    "    if (not maisValioso[\"preco\"]) or (maisValioso[\"preco\"] <= preco): maisValioso = item\n",
    "    print(f\"{nome}: {quantidade}un. | Preço R${preco} | Total: R${total}\")\n",
    "\n",
    "print(f\"\\nValor total do estoque: R${totalEstoque}\")\n",
    "print(f\"\\nProduto mais valioso: {maisValioso[\"nome\"]}\")"
   ]
  }
 ],
 "metadata": {
  "language_info": {
   "name": "python"
  }
 },
 "nbformat": 4,
 "nbformat_minor": 5
}
