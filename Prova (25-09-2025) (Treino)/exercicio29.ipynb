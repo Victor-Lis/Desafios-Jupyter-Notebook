{
 "cells": [
  {
   "cell_type": "markdown",
   "id": "bd18e641",
   "metadata": {},
   "source": [
    "# Exercício 2: Validador de Tipos de Dados Dinâmico\n",
    "Crie uma função validar_dados que verifique se os dados de entrada correspondem aos tipos esperados. A função deve aceitar:\n",
    "\n",
    "Um dicionário de dados a ser validado como primeiro argumento (dados).\n",
    "\n",
    "As regras de validação como **kwargs, onde a chave é o nome do campo e o valor é o tipo de dado esperado (ex: str, int, float)."
   ]
  },
  {
   "cell_type": "markdown",
   "id": "80c30981",
   "metadata": {},
   "source": [
    "## Sua Tarefa:\n",
    "\n",
    "A função deve iterar pelas regras em **kwargs.\n",
    "\n",
    "Para cada regra, ela deve verificar se a chave existe no dicionário dados e se o tipo do valor corresponde ao tipo esperado.\n",
    "\n",
    "A função deve retornar uma lista de tuplas, onde cada tupla contém o nome do campo e uma mensagem de erro, caso a validação falhe.\n",
    "\n",
    "Se todos os dados forem válidos, a função deve retornar uma lista vazia."
   ]
  },
  {
   "cell_type": "code",
   "execution_count": null,
   "id": "a84e2596",
   "metadata": {},
   "outputs": [],
   "source": [
    "# Erros de validação (usuário 1): [('cidade', 'Campo ausente nos dados')]\n",
    "# Erros de validação (usuário 2): [('idade', \"Tipo inválido: esperado <class 'int'>, mas recebeu <class 'str'>\")]"
   ]
  },
  {
   "cell_type": "code",
   "execution_count": 9,
   "id": "b23bdccf",
   "metadata": {},
   "outputs": [],
   "source": [
    "def validar_dados(dados, **kwargs_regras):\n",
    "    erros = []\n",
    "    for key in kwargs_regras.keys():\n",
    "        if key not in dados:\n",
    "            erros.append((key, \"Campo ausente nos dados\"))\n",
    "        elif not isinstance(dados[key], kwargs_regras[key]):\n",
    "            erros.append((key, f\"Tipo inválido: esperado {kwargs_regras[key]}, mas recebeu {type(dados[key])}\"))\n",
    "    return erros"
   ]
  },
  {
   "cell_type": "code",
   "execution_count": 10,
   "id": "5fdc6d7e",
   "metadata": {},
   "outputs": [
    {
     "name": "stdout",
     "output_type": "stream",
     "text": [
      "Erros de validação (usuário 1): [('cidade', 'Campo ausente nos dados')]\n",
      "Erros de validação (usuário 2): [('idade', \"Tipo inválido: esperado <class 'int'>, mas recebeu <class 'str'>\")]\n"
     ]
    }
   ],
   "source": [
    "# Dados de exemplo\n",
    "usuario1 = {'nome': 'Carlos', 'idade': 35, 'altura': 1.80}\n",
    "usuario2 = {'nome': 'Mariana', 'idade': 'vinte e oito', 'cidade': 'São Paulo'}\n",
    "\n",
    "# Regras de validação\n",
    "regras = {'nome': str, 'idade': int, 'cidade': str}\n",
    "\n",
    "# Exemplo de chamada:\n",
    "erros1 = validar_dados(usuario1, **regras)\n",
    "erros2 = validar_dados(usuario2, **regras)\n",
    "\n",
    "print(f\"Erros de validação (usuário 1): {erros1}\")\n",
    "print(f\"Erros de validação (usuário 2): {erros2}\")"
   ]
  }
 ],
 "metadata": {
  "kernelspec": {
   "display_name": "Python 3",
   "language": "python",
   "name": "python3"
  },
  "language_info": {
   "codemirror_mode": {
    "name": "ipython",
    "version": 3
   },
   "file_extension": ".py",
   "mimetype": "text/x-python",
   "name": "python",
   "nbconvert_exporter": "python",
   "pygments_lexer": "ipython3",
   "version": "3.13.7"
  }
 },
 "nbformat": 4,
 "nbformat_minor": 5
}
