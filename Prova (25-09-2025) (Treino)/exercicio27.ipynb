{
 "cells": [
  {
   "cell_type": "markdown",
   "id": "d8f31e22",
   "metadata": {},
   "source": [
    "# Exercício 3: Montador de Sanduíche Flexível\n",
    "Crie uma função montar_sanduiche para montar um sanduíche customizado. A função deve aceitar:\n",
    "\n",
    "- O tipo de pão como primeiro argumento.\n",
    "- Uma lista variável de recheios principais como *args.\n",
    "- Uma lista variável de molhos e extras como **kwargs (onde a chave é o nome do molho/extra e o valor é um booleano True)."
   ]
  },
  {
   "cell_type": "markdown",
   "id": "bc44db31",
   "metadata": {},
   "source": [
    "## Sua Tarefa:\n",
    "- A função deve imprimir a receita do sanduíche de forma clara.\n",
    "- Se nenhum recheio for passado em *args, a função deve imprimir \"Sanduíche simples, apenas com pão.\".\n",
    "- Se **kwargs contiver mostarda=True e ketchup=True ao mesmo tempo, imprima uma mensagem extra: \"Combinação clássica!\"."
   ]
  },
  {
   "cell_type": "code",
   "execution_count": null,
   "id": "e8e9fcc7",
   "metadata": {},
   "outputs": [],
   "source": [
    "# --- Montando seu Sanduíche ---\n",
    "# Pão: Italiano Branco\n",
    "# Recheios:\n",
    "# - Frango Teriyaki\n",
    "# - Queijo Suíço\n",
    "# - Alface\n",
    "# - Tomate\n",
    "# Extras:\n",
    "# - Maionese\n",
    "# - Azeite\n",
    "# =========================\n",
    "\n",
    "# --- Montando seu Sanduíche ---\n",
    "# Pão: Integral\n",
    "# Recheios:\n",
    "# - Peito de Peru\n",
    "# - Queijo Minas\n",
    "# Extras:\n",
    "# - Ketchup\n",
    "# - Mostarda\n",
    "# Combinação clássica!\n",
    "# =========================\n",
    "\n",
    "# --- Montando seu Sanduíche ---\n",
    "# Pão: Parmesão e Orégano\n",
    "# Sanduíche simples, apenas com pão.\n",
    "# ========================="
   ]
  },
  {
   "cell_type": "code",
   "execution_count": null,
   "id": "edcd8163",
   "metadata": {},
   "outputs": [],
   "source": [
    "def montar_sanduiche(pao, *args, **kwargs):\n",
    "    lanche = {\n",
    "        \"lanche\": pao\n",
    "    }\n",
    "    \n",
    "    print(\"\\n--- Montando seu Sanduíche ---\")\n",
    "    print(f\"Pão: {pao}\")\n",
    "    \n",
    "    lanche[\"recheios\"] = list(args)\n",
    "    print(\"\\nRecheios: \")\n",
    "    if not args:\n",
    "        print(\"Sanduíche simples, apenas com pão.\")\n",
    "    for recheio in args:\n",
    "        print(f\"- {recheio}\")\n",
    "        \n",
    "    lanche[\"extras\"] = [nome for nome, valor in kwargs.items() if valor]\n",
    "    print(f\"\\nExtras:\")\n",
    "    if not kwargs:\n",
    "        print(\"- Nenhuma opção adicional.\")\n",
    "        \n",
    "    if \"mostarda\" in lanche[\"extras\"] and \"ketchup\" in lanche[\"extras\"]:\n",
    "        print(\"- Combinação Clássica!\")\n",
    "        \n",
    "    for extra in lanche[\"extras\"]:\n",
    "        if extra not in [\"ketchup\", \"mostarda\"]:\n",
    "            print(f\"- {extra.capitalize()}\")\n",
    "        \n",
    "    print(\"=\" * 30)\n",
    "    return lanche"
   ]
  },
  {
   "cell_type": "code",
   "execution_count": 46,
   "id": "58b84533",
   "metadata": {},
   "outputs": [
    {
     "name": "stdout",
     "output_type": "stream",
     "text": [
      "\n",
      "--- Montando seu Sanduíche ---\n",
      "Pão: Italiano Branco\n",
      "\n",
      "Recheios: \n",
      "- Frango Teriyaki\n",
      "- Queijo Suíço\n",
      "- Alface\n",
      "- Tomate\n",
      "\n",
      "Extras:\n",
      "- Maionese\n",
      "- Azeite\n",
      "==============================\n",
      "{'lanche': 'Italiano Branco', 'recheios': ('Frango Teriyaki', 'Queijo Suíço', 'Alface', 'Tomate'), 'extras': ['maionese', 'azeite']}\n",
      "\n",
      "--- Montando seu Sanduíche ---\n",
      "Pão: Integral\n",
      "\n",
      "Recheios: \n",
      "- Peito de Peru\n",
      "- Queijo Minas\n",
      "\n",
      "Extras:\n",
      "- Combinação Clássica!\n",
      "==============================\n",
      "{'lanche': 'Integral', 'recheios': ('Peito de Peru', 'Queijo Minas'), 'extras': ['ketchup', 'mostarda']}\n",
      "\n",
      "--- Montando seu Sanduíche ---\n",
      "Pão: Parmesão e Orégano\n",
      "\n",
      "Recheios: \n",
      "Sanduíche simples, apenas com pão.\n",
      "\n",
      "Extras:\n",
      "- Nenhuma opção adicional.\n",
      "==============================\n",
      "{'lanche': 'Parmesão e Orégano', 'recheios': (), 'extras': []}\n"
     ]
    }
   ],
   "source": [
    "print(montar_sanduiche(\"Italiano Branco\", \"Frango Teriyaki\", \"Queijo Suíço\", \"Alface\", \"Tomate\", maionese=True, azeite=True))\n",
    "print(montar_sanduiche(\"Integral\", \"Peito de Peru\", \"Queijo Minas\", ketchup=True, mostarda=True))\n",
    "print(montar_sanduiche(\"Parmesão e Orégano\"))"
   ]
  }
 ],
 "metadata": {
  "kernelspec": {
   "display_name": "Python 3",
   "language": "python",
   "name": "python3"
  },
  "language_info": {
   "codemirror_mode": {
    "name": "ipython",
    "version": 3
   },
   "file_extension": ".py",
   "mimetype": "text/x-python",
   "name": "python",
   "nbconvert_exporter": "python",
   "pygments_lexer": "ipython3",
   "version": "3.13.7"
  }
 },
 "nbformat": 4,
 "nbformat_minor": 5
}
