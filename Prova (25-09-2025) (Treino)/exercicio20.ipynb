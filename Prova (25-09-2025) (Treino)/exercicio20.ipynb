{
 "cells": [
  {
   "cell_type": "markdown",
   "id": "a52b949e",
   "metadata": {},
   "source": [
    "# Exercício 1: Sistema de Reservas de Hotel\n",
    "Você está criando um sistema para gerenciar as reservas de um hotel. Os dados estão em um dicionário onde a chave é o número do quarto e o valor é outro dicionário com o status do quarto ('livre' ou 'ocupado') e, se ocupado, uma lista de tuplas com os nomes dos hóspedes e por quantas noites ficarão.\n",
    "\n",
    "## Sua Tarefa:\n",
    "Calcular a taxa de ocupação do hotel (percentual de quartos ocupados).\n",
    "- Encontrar o hóspede com a estadia mais longa em todo o hotel.\n",
    "- Gerar uma lista de todos os quartos que estão livres.\n",
    "\n",
    "> Exiba um relatório com a taxa de ocupação, a lista de quartos livres e o hóspede com a estadia mais longa."
   ]
  },
  {
   "cell_type": "code",
   "execution_count": null,
   "id": "bc6ece93",
   "metadata": {},
   "outputs": [],
   "source": [
    "# Relatório de Ocupação do Hotel:\n",
    "# ------------------------------------\n",
    "# Taxa de Ocupação: 60.0%\n",
    "# Quartos Livres: ['102', '301']\n",
    "# Hóspede com a estadia mais longa: Rogerio Paiva (7 noites)"
   ]
  },
  {
   "cell_type": "code",
   "execution_count": 1,
   "id": "484c558a",
   "metadata": {},
   "outputs": [],
   "source": [
    "hotel = {\n",
    "    '101': {'status': 'ocupado', 'hospedes': [('Ana Silva', 5)]},\n",
    "    '102': {'status': 'livre'},\n",
    "    '201': {'status': 'ocupado', 'hospedes': [('Carlos Souza', 2), ('Bia Lima', 2)]},\n",
    "    '202': {'status': 'ocupado', 'hospedes': [('Rogerio Paiva', 7)]},\n",
    "    '301': {'status': 'livre'}\n",
    "}"
   ]
  },
  {
   "cell_type": "code",
   "execution_count": null,
   "id": "455e786e",
   "metadata": {},
   "outputs": [],
   "source": [
    "quartos_livres = []\n",
    "maior_hospede = (\"Ninguém\", 0)\n",
    "\n",
    "for quarto in hotel.keys():\n",
    "    if hotel[quarto][\"status\"] == \"livre\":\n",
    "        quartos_livres.append(quarto)\n",
    "    else: \n",
    "        hospedes = hotel[quarto][\"hospedes\"]\n",
    "        for nome, tempo in hospedes:\n",
    "            if tempo > maior_hospede[1]:\n",
    "                maior_hospede = (nome, tempo)\n",
    "        "
   ]
  },
  {
   "cell_type": "code",
   "execution_count": 9,
   "id": "86feaba5",
   "metadata": {},
   "outputs": [
    {
     "name": "stdout",
     "output_type": "stream",
     "text": [
      "Relatório de Ocupação do Hotel:\n",
      "------------------------------------\n",
      "Taxa de Ocupação: 60.0%\n",
      "Quartos Livres: ['102', '301']\n",
      "Hóspede com a estadia mais longa: Rogerio Paiva (7 noites)\n"
     ]
    }
   ],
   "source": [
    "print(\"Relatório de Ocupação do Hotel:\")\n",
    "print(\"------------------------------------\")\n",
    "print(f\"Taxa de Ocupação: {100 - (len(quartos_livres) / len(hotel.keys()) * 100)}%\")\n",
    "print(f\"Quartos Livres: {quartos_livres}\")\n",
    "print(f\"Hóspede com a estadia mais longa: {maior_hospede[0]} ({maior_hospede[1]} noites)\")"
   ]
  }
 ],
 "metadata": {
  "kernelspec": {
   "display_name": "Python 3",
   "language": "python",
   "name": "python3"
  },
  "language_info": {
   "codemirror_mode": {
    "name": "ipython",
    "version": 3
   },
   "file_extension": ".py",
   "mimetype": "text/x-python",
   "name": "python",
   "nbconvert_exporter": "python",
   "pygments_lexer": "ipython3",
   "version": "3.13.7"
  }
 },
 "nbformat": 4,
 "nbformat_minor": 5
}
