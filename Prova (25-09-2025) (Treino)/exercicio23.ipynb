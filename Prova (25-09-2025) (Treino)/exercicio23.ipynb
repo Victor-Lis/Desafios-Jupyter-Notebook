{
 "cells": [
  {
   "cell_type": "markdown",
   "id": "0ba9e2c7",
   "metadata": {},
   "source": [
    "# Exercício 2: Gerador de Relatório de Configuração com **kwargs\n",
    "Crie uma função chamada gerar_relatorio que aceita um número arbitrário de argumentos nomeados (**kwargs). A função deve iterar por esses argumentos e imprimir um relatório de configuração formatado, mostrando cada chave (nome da configuração) e seu valor.\n",
    "\n",
    "Além disso, a função deve ter um argumento obrigatório no início, nome_servidor.\n",
    "\n",
    "Sua Tarefa:\n",
    "- A função deve imprimir o nome do servidor.\n",
    "- Depois, deve listar cada par chave-valor de **kwargs.\n",
    "\n",
    "> Se nenhum **kwargs for passado, deve imprimir \"Nenhuma configuração adicional fornecida.\""
   ]
  },
  {
   "cell_type": "code",
   "execution_count": 4,
   "id": "66e0db4e",
   "metadata": {},
   "outputs": [],
   "source": [
    "def gerar_relatorio(nome_servidor, **kwargs):\n",
    "    print(f\"--- Relatório do Servidor: {nome_servidor} ---\")\n",
    "    if not kwargs:\n",
    "        print(\"Nenhuma configuração adicional fornecida.\")\n",
    "    else:\n",
    "        # print(\"Configurações:\")\n",
    "        for chave, valor in kwargs.items():\n",
    "            print(f\"- {chave.replace('_', ' ').title()}: {valor}\")\n",
    "    print(\"-\" * 30)"
   ]
  },
  {
   "cell_type": "code",
   "execution_count": 5,
   "id": "43bc72c7",
   "metadata": {},
   "outputs": [
    {
     "name": "stdout",
     "output_type": "stream",
     "text": [
      "--- Relatório do Servidor: Servidor Principal ---\n",
      "- Status: Ativo\n",
      "- Ip: 192.168.1.1\n",
      "- Porta: 8080\n",
      "------------------------------\n",
      "--- Relatório do Servidor: Servidor de Backup ---\n",
      "- Status: Inativo\n",
      "------------------------------\n"
     ]
    }
   ],
   "source": [
    "gerar_relatorio(\"Servidor Principal\", status=\"Ativo\", ip=\"192.168.1.1\", porta=8080)\n",
    "gerar_relatorio(\"Servidor de Backup\", status=\"Inativo\")"
   ]
  }
 ],
 "metadata": {
  "kernelspec": {
   "display_name": "Python 3",
   "language": "python",
   "name": "python3"
  },
  "language_info": {
   "codemirror_mode": {
    "name": "ipython",
    "version": 3
   },
   "file_extension": ".py",
   "mimetype": "text/x-python",
   "name": "python",
   "nbconvert_exporter": "python",
   "pygments_lexer": "ipython3",
   "version": "3.13.7"
  }
 },
 "nbformat": 4,
 "nbformat_minor": 5
}
