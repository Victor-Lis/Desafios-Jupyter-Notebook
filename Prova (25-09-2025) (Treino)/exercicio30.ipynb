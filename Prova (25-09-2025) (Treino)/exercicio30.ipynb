{
 "cells": [
  {
   "cell_type": "markdown",
   "id": "65fb25e6",
   "metadata": {},
   "source": [
    "# Exercício 3: Concatenador Universal de Coleções\n",
    "Crie uma função concatenar_tudo que aceite um número variável de coleções (list, tuple, set, dict) como *args e as una em uma única lista."
   ]
  },
  {
   "cell_type": "markdown",
   "id": "b0d59b1d",
   "metadata": {},
   "source": [
    "## Sua Tarefa:\n",
    "- A função deve inicializar uma lista vazia.\n",
    "- Ela deve iterar por cada coleção passada em *args.\n",
    "- Se a coleção for uma lista ou tupla, seus elementos devem ser adicionados à lista final.\n",
    "- Se for um set, seus elementos devem ser adicionados.\n",
    "- Se for um dict, apenas os seus valores (values) devem ser adicionados à lista final.\n",
    "\n",
    "> A função deve retornar a lista final consolidada."
   ]
  },
  {
   "cell_type": "code",
   "execution_count": 16,
   "id": "6899d498",
   "metadata": {},
   "outputs": [],
   "source": [
    "def concatenar_tudo(*args_colecoes):\n",
    "    lista_formatada = []\n",
    "    for key in args_colecoes:\n",
    "        if type (key) is dict:\n",
    "            for valor in key.values():\n",
    "                lista_formatada.append(valor)\n",
    "        elif type (key) is set or type (key) is list:\n",
    "            for valor in tuple(key):\n",
    "                lista_formatada.append(valor)\n",
    "        else:\n",
    "            for valor in key:\n",
    "                lista_formatada.append(valor)\n",
    "    return lista_formatada"
   ]
  },
  {
   "cell_type": "code",
   "execution_count": 17,
   "id": "a86adfc2",
   "metadata": {},
   "outputs": [
    {
     "name": "stdout",
     "output_type": "stream",
     "text": [
      "Resultado da concatenação: [1, 2, 3, 'a', 'b', 1, 4, 5, 100, 'Teclado', 150.0]\n"
     ]
    }
   ],
   "source": [
    "# Coleções de exemplo\n",
    "lista1 = [1, 2, 3]\n",
    "tupla1 = ('a', 'b')\n",
    "set1 = {4, 5, 1} # Note o '1' repetido para testar\n",
    "dict1 = {'id_produto': 100, 'nome': 'Teclado', 'preco': 150.0}\n",
    "\n",
    "# Exemplo de chamada:\n",
    "resultado_final = concatenar_tudo(lista1, tupla1, set1, dict1)\n",
    "print(f\"Resultado da concatenação: {resultado_final}\")"
   ]
  }
 ],
 "metadata": {
  "kernelspec": {
   "display_name": "Python 3",
   "language": "python",
   "name": "python3"
  },
  "language_info": {
   "codemirror_mode": {
    "name": "ipython",
    "version": 3
   },
   "file_extension": ".py",
   "mimetype": "text/x-python",
   "name": "python",
   "nbconvert_exporter": "python",
   "pygments_lexer": "ipython3",
   "version": "3.13.7"
  }
 },
 "nbformat": 4,
 "nbformat_minor": 5
}
