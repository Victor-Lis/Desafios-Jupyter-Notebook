{
 "cells": [
  {
   "cell_type": "markdown",
   "id": "e704d50d",
   "metadata": {},
   "source": [
    "# Exercício 2: Gerenciamento de Inventário de Produtos\n",
    "Você está gerenciando o inventário de uma loja. O inventário é representado por um dicionário onde as chaves são os nomes dos produtos e os valores são outros dicionários contendo quantidade e preco. Duas novas remessas de produtos chegaram, e você precisa atualizar o inventário.\n",
    "\n",
    "## Sua Tarefa:\n",
    "Comece com o dicionário de inventario inicial.\n",
    "\n",
    "- Você recebeu duas listas de tuplas: entradas e saidas, representando a chegada de novos produtos e as vendas realizadas.\n",
    "\n",
    "- Atualize o inventario com base nessas listas. Para as entradas, some as quantidades. Para as saídas, subtraia.\n",
    "\n",
    "- Após atualizar, calcule o valor total do inventário (soma de quantidade * preco para cada item).\n",
    "\n",
    "Exiba o inventário final e o valor total calculado."
   ]
  },
  {
   "cell_type": "code",
   "execution_count": null,
   "id": "06bd2fc9",
   "metadata": {},
   "outputs": [],
   "source": [
    "# Inventário Final:\n",
    "# ------------------------------------\n",
    "# - Caneta: 130 un. | Preço: R$ 1.50\n",
    "# - Caderno: 75 un. | Preço: R$ 15.00\n",
    "# - Borracha: 100 un. | Preço: R$ 0.75\n",
    "\n",
    "# Valor Total do Inventário: R$ 1395.00"
   ]
  },
  {
   "cell_type": "code",
   "execution_count": 12,
   "id": "6488195e",
   "metadata": {},
   "outputs": [],
   "source": [
    "inventario = {\n",
    "    'Caneta': {'quantidade': 100, 'preco': 1.50},\n",
    "    'Caderno': {'quantidade': 50, 'preco': 15.00},\n",
    "    'Borracha': {'quantidade': 200, 'preco': 0.75}\n",
    "}\n",
    "\n",
    "entradas = [('Caneta', 50), ('Caderno', 25)]\n",
    "saidas = [('Borracha', 100), ('Caneta', 20)]"
   ]
  },
  {
   "cell_type": "code",
   "execution_count": 13,
   "id": "c0f9a17c",
   "metadata": {},
   "outputs": [],
   "source": [
    "for entrada in entradas:\n",
    "    nome, quantidade = entrada\n",
    "    inventario[nome][\"quantidade\"] += quantidade\n",
    "\n",
    "for saida in saidas:\n",
    "    nome, quantidade = saida\n",
    "    inventario[nome][\"quantidade\"] -= quantidade"
   ]
  },
  {
   "cell_type": "code",
   "execution_count": 18,
   "id": "33c96f89",
   "metadata": {},
   "outputs": [
    {
     "name": "stdout",
     "output_type": "stream",
     "text": [
      "Inventário Final:\n",
      "------------------------------------\n",
      "Caneta: 130 un. | Preço: R$ 1.50\n",
      "Caderno: 75 un. | Preço: R$ 15.00\n",
      "Borracha: 100 un. | Preço: R$ 0.75\n",
      "\n",
      "Valor Total do Inventário: R$ 1395.00\n"
     ]
    }
   ],
   "source": [
    "print(\"Inventário Final:\")\n",
    "print(\"------------------------------------\")\n",
    "\n",
    "total = 0\n",
    "for produto in inventario.keys():\n",
    "    preco = inventario[produto][\"preco\"]\n",
    "    quantidade = inventario[produto][\"quantidade\"]\n",
    "    total += preco*quantidade\n",
    "    print(f\"{produto}: {quantidade} un. | Preço: R$ {preco:.2f}\")\n",
    "\n",
    "print(f\"\\nValor Total do Inventário: R$ {total:.2f}\")"
   ]
  }
 ],
 "metadata": {
  "kernelspec": {
   "display_name": "Python 3",
   "language": "python",
   "name": "python3"
  },
  "language_info": {
   "codemirror_mode": {
    "name": "ipython",
    "version": 3
   },
   "file_extension": ".py",
   "mimetype": "text/x-python",
   "name": "python",
   "nbconvert_exporter": "python",
   "pygments_lexer": "ipython3",
   "version": "3.13.7"
  }
 },
 "nbformat": 4,
 "nbformat_minor": 5
}
