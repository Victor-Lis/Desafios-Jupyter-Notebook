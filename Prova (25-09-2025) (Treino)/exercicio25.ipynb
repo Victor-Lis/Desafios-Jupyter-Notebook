{
 "cells": [
  {
   "cell_type": "markdown",
   "id": "bc1ad944",
   "metadata": {},
   "source": [
    "# Exercício 1: Criador de Perfil de Usuário com *args e **kwargs\n",
    "Crie uma função criar_perfil_usuario que aceite:\n",
    "- Um argumento posicional obrigatório: nome.\n",
    "- Um número variável de habilidades (skills) como *args.\n",
    "- Um número variável de perfis de redes sociais como **kwargs (ex: linkedin=\"...\", twitter=\"...\")."
   ]
  },
  {
   "cell_type": "markdown",
   "id": "81532124",
   "metadata": {},
   "source": [
    "## Sua Tarefa:\n",
    "- A função deve imprimir o nome do usuário.\n",
    "- Deve listar todas as habilidades fornecidas em *args.\n",
    "- Deve listar todos os perfis de redes sociais fornecidos em **kwargs.\n",
    "\n",
    "> A função deve retornar um dicionário consolidado com todas essas informações."
   ]
  },
  {
   "cell_type": "code",
   "execution_count": null,
   "id": "b084e033",
   "metadata": {},
   "outputs": [],
   "source": [
    "# --- Perfil de Usuário ---\n",
    "# Nome: Ana Clara\n",
    "# Habilidades:\n",
    "# - Python\n",
    "# - Análise de Dados\n",
    "# - SQL\n",
    "# Redes Sociais:\n",
    "# - Linkedin: ana-clara-dev\n",
    "# - Github: anaclara\n",
    "# =========================\n",
    "# --- Perfil de Usuário ---\n",
    "# Nome: João Pedro\n",
    "# Habilidades:\n",
    "# - JavaScript\n",
    "# - React\n",
    "# - Node.js\n",
    "# - CSS\n",
    "# Redes Sociais:\n",
    "# - Twitter: @jpedro\n",
    "# - Portfolio: jpedro.dev\n",
    "# =========================\n",
    "# {'nome': 'Ana Clara', 'habilidades': ('Python', 'Análise de Dados', 'SQL'), 'redes_sociais': {'linkedin': 'ana-clara-dev', 'github': 'anaclara'}}\n",
    "# {'nome': 'João Pedro', 'habilidades': ('JavaScript', 'React', 'Node.js', 'CSS'), 'redes_sociais': {'twitter': '@jpedro', 'portfolio': 'jpedro.dev'}}"
   ]
  },
  {
   "cell_type": "code",
   "execution_count": 37,
   "id": "4c363584",
   "metadata": {},
   "outputs": [],
   "source": [
    "def criar_perfil_usuario(nome, *habilidades, **redes_sociais):\n",
    "    if not nome or not habilidades or not redes_sociais:\n",
    "        print(\"\\nArgumentos obrigatórios não foram passados...\")\n",
    "        return\n",
    "\n",
    "    print(\"\\n--- Perfil de Usuário ---\")\n",
    "    print(f\"Nome: {nome}\")\n",
    "\n",
    "    print(\"Habilidades:\")\n",
    "    for habilidade in habilidades:\n",
    "        print(f\"- {habilidade}\")\n",
    "\n",
    "    print(\"Redes Sociais:\")\n",
    "    for rede, perfil in redes_sociais.items():\n",
    "        print(f\"- {rede.capitalize()}: {perfil}\")\n",
    "\n",
    "    perfil_completo = {\n",
    "        \"nome\": nome,\n",
    "        \"habilidades\": habilidades,\n",
    "        \"redes_sociais\": redes_sociais\n",
    "    }\n",
    "    \n",
    "    return perfil_completo"
   ]
  },
  {
   "cell_type": "code",
   "execution_count": 38,
   "id": "725a346c",
   "metadata": {},
   "outputs": [
    {
     "name": "stdout",
     "output_type": "stream",
     "text": [
      "\n",
      "--- Perfil de Usuário ---\n",
      "Nome: Ana Clara\n",
      "Habilidades:\n",
      "- Python\n",
      "- Análise de Dados\n",
      "- SQL\n",
      "Redes Sociais:\n",
      "- Linkedin: ana-clara-dev\n",
      "- Github: anaclara\n",
      "\n",
      "--- Perfil de Usuário ---\n",
      "Nome: João Pedro\n",
      "Habilidades:\n",
      "- JavaScript\n",
      "- React\n",
      "- Node.js\n",
      "- CSS\n",
      "Redes Sociais:\n",
      "- Twitter: @jpedro\n",
      "- Portfolio: jpedro.dev\n",
      "\n",
      "{'nome': 'Ana Clara', 'habilidades': ('Python', 'Análise de Dados', 'SQL'), 'redes_sociais': {'linkedin': 'ana-clara-dev', 'github': 'anaclara'}}\n",
      "{'nome': 'João Pedro', 'habilidades': ('JavaScript', 'React', 'Node.js', 'CSS'), 'redes_sociais': {'twitter': '@jpedro', 'portfolio': 'jpedro.dev'}}\n"
     ]
    }
   ],
   "source": [
    "# Exemplo de chamada:\n",
    "perfil1 = criar_perfil_usuario(\n",
    "    \"Ana Clara\",\n",
    "    \"Python\", \"Análise de Dados\", \"SQL\",\n",
    "    linkedin=\"ana-clara-dev\",\n",
    "    github=\"anaclara\"\n",
    ")\n",
    "\n",
    "perfil2 = criar_perfil_usuario(\n",
    "    \"João Pedro\",\n",
    "    \"JavaScript\", \"React\", \"Node.js\", \"CSS\",\n",
    "    twitter=\"@jpedro\",\n",
    "    portfolio=\"jpedro.dev\"\n",
    ")\n",
    "\n",
    "# Imprima os perfis retornados para verificar o resultado\n",
    "print(f\"\\n{perfil1}\")\n",
    "print(f\"{perfil2}\")"
   ]
  }
 ],
 "metadata": {
  "kernelspec": {
   "display_name": "Python 3",
   "language": "python",
   "name": "python3"
  },
  "language_info": {
   "codemirror_mode": {
    "name": "ipython",
    "version": 3
   },
   "file_extension": ".py",
   "mimetype": "text/x-python",
   "name": "python",
   "nbconvert_exporter": "python",
   "pygments_lexer": "ipython3",
   "version": "3.13.7"
  }
 },
 "nbformat": 4,
 "nbformat_minor": 5
}
