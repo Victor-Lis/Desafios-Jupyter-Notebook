{
 "cells": [
  {
   "cell_type": "markdown",
   "id": "2a10c4fb",
   "metadata": {},
   "source": [
    "# Exercício 4: Agrupando Palavras por Letra Inicial\n",
    "Dado uma lista de palavras, seu desafio é criar um dicionário que agrupe essas palavras com base em sua letra inicial.\n",
    "\n",
    "## Sua Tarefa:\n",
    "- Inicialize um dicionário vazio.\n",
    "- Itere sobre a lista de palavras.\n",
    "- Para cada palavra, verifique qual é a sua letra inicial.\n",
    "\n",
    "> Adicione a palavra a uma lista dentro do dicionário, usando a letra inicial como chave."
   ]
  },
  {
   "cell_type": "code",
   "execution_count": null,
   "id": "73e818b2",
   "metadata": {},
   "outputs": [],
   "source": [
    "# Palavras Agrupadas por Letra Inicial:\n",
    "# ------------------------------------\n",
    "# p: ['python', 'programacao', 'pandas']\n",
    "# a: ['aluno', 'analise']\n",
    "# d: ['desenvolvimento', 'dados']"
   ]
  },
  {
   "cell_type": "code",
   "execution_count": 21,
   "id": "2ed448d9",
   "metadata": {},
   "outputs": [
    {
     "name": "stdout",
     "output_type": "stream",
     "text": [
      "Palavras Agrupadas por Letra Inicial:\n",
      "----------------------------------------\n",
      "a: ['aluno', 'analise']\n",
      "d: ['desenvolvimento', 'dados']\n",
      "p: ['python', 'programacao', 'pandas']\n"
     ]
    }
   ],
   "source": [
    "agrupadas = {}\n",
    "\n",
    "for palavra in palavras:\n",
    "    letra = palavra[0]\n",
    "    if letra not in agrupadas:\n",
    "        agrupadas[letra] = []\n",
    "    agrupadas[letra].append(palavra)\n",
    "\n",
    "print(f'Palavras Agrupadas por Letra Inicial:')\n",
    "print(f'{\"-\" * 40}')\n",
    "\n",
    "for letra in sorted(agrupadas.keys()):\n",
    "    print(f'{letra}: {agrupadas[letra]}')"
   ]
  }
 ],
 "metadata": {
  "kernelspec": {
   "display_name": "Python 3",
   "language": "python",
   "name": "python3"
  },
  "language_info": {
   "codemirror_mode": {
    "name": "ipython",
    "version": 3
   },
   "file_extension": ".py",
   "mimetype": "text/x-python",
   "name": "python",
   "nbconvert_exporter": "python",
   "pygments_lexer": "ipython3",
   "version": "3.13.7"
  }
 },
 "nbformat": 4,
 "nbformat_minor": 5
}
