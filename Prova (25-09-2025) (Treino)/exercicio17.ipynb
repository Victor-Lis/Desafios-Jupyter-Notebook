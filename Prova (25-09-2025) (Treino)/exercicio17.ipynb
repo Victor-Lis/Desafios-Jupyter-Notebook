{
 "cells": [
  {
   "cell_type": "markdown",
   "id": "9348fdb3",
   "metadata": {},
   "source": [
    "# Exercício 1: Gerenciamento de Comandas de um Restaurante\n",
    "Você está desenvolvendo um sistema para um restaurante. Os pedidos são armazenados em um dicionário onde a chave é o número da mesa e o valor é uma lista de tuplas. Cada tupla representa um item pedido, contendo o nome do item e seu preço.\n",
    "\n",
    "## Sua Tarefa:\n",
    "Calcular o valor total a ser pago por cada mesa e armazenar isso em um novo dicionário.\n",
    "- Adicionar um novo pedido à Mesa 3: ('Café Expresso', 7.50).\n",
    "- Encontrar qual foi o item mais caro pedido em todo o restaurante (considerando todas as mesas).\n",
    "\n",
    "> Exibir o total de cada mesa e, ao final, anunciar o item mais caro encontrado."
   ]
  },
  {
   "cell_type": "code",
   "execution_count": null,
   "id": "001dcdbf",
   "metadata": {},
   "outputs": [],
   "source": [
    "# Fechamento de Contas:\n",
    "# ------------------------------------\n",
    "# - Mesa 1: Total a pagar = R$ 55.00\n",
    "# - Mesa 2: Total a pagar = R$ 58.50\n",
    "# - Mesa 3: Total a pagar = R$ 132.50\n",
    "\n",
    "# Item mais caro do restaurante: Vinho Tinto (R$ 70.00)"
   ]
  },
  {
   "cell_type": "code",
   "execution_count": 10,
   "id": "d5d90af5",
   "metadata": {},
   "outputs": [],
   "source": [
    "comandas = {\n",
    "    'Mesa 1': [('Pizza Calabresa', 45.00), ('Refrigerante 2L', 10.00)],\n",
    "    'Mesa 2': [('Hambúrguer Duplo', 35.50), ('Batata Frita G', 15.00), ('Suco de Laranja', 8.00)],\n",
    "    'Mesa 3': [('Porção de Frios', 55.00), ('Vinho Tinto', 70.00)]\n",
    "}"
   ]
  },
  {
   "cell_type": "code",
   "execution_count": 31,
   "id": "68631235",
   "metadata": {},
   "outputs": [
    {
     "name": "stdout",
     "output_type": "stream",
     "text": [
      "Fechamento de Contas:\n",
      "------------------------------------\n",
      "- Mesa 1: Total a pagar = R$ 55.0\n",
      "- Mesa 2: Total a pagar = R$ 58.5\n",
      "- Mesa 3: Total a pagar = R$ 132.5\n",
      "\n",
      "Item mais caro do restaurante: Vinho Tinto (R$ 70.00)\n"
     ]
    }
   ],
   "source": [
    "valor_mesa = {}\n",
    "\n",
    "# comandas[\"Mesa 3\"].append(('Café Expresso', 7.50))\n",
    "\n",
    "mais_caro = (\"Não registrado\", 0)\n",
    "\n",
    "def isMoreExpensive(pedido):\n",
    "    global mais_caro\n",
    "    if pedido[1] > mais_caro[1]: mais_caro = pedido\n",
    "\n",
    "for mesa in comandas.keys():\n",
    "    isMoreExpensive(max([(nome, preco) for nome, preco in comandas[mesa]]))\n",
    "    total = sum([preco for nome, preco in comandas[mesa]])\n",
    "    valor_mesa[mesa] = total\n",
    "\n",
    "print(\"Fechamento de Contas:\")\n",
    "print(\"------------------------------------\")\n",
    "for mesa in valor_mesa.keys():\n",
    "    print(f\"- {mesa}: Total a pagar = R$ {valor_mesa[mesa]}\")\n",
    "\n",
    "print(f\"\\nItem mais caro do restaurante: {mais_caro[0]} (R$ {mais_caro[1]:.2f})\")\n"
   ]
  }
 ],
 "metadata": {
  "kernelspec": {
   "display_name": "Python 3",
   "language": "python",
   "name": "python3"
  },
  "language_info": {
   "codemirror_mode": {
    "name": "ipython",
    "version": 3
   },
   "file_extension": ".py",
   "mimetype": "text/x-python",
   "name": "python",
   "nbconvert_exporter": "python",
   "pygments_lexer": "ipython3",
   "version": "3.13.7"
  }
 },
 "nbformat": 4,
 "nbformat_minor": 5
}
