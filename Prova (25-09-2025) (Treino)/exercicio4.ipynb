{
 "cells": [
  {
   "cell_type": "markdown",
   "id": "3610d39d",
   "metadata": {},
   "source": [
    "# Exercício 4: Sorteio de Números da Loteria\n",
    "Crie um programa que simule a geração de 5 jogos para a Mega-Sena. Cada jogo é uma tupla contendo 6 números únicos entre 1 e 60, sorteados aleatoriamente.\n",
    "\n",
    "## Sua Tarefa:\n",
    "- Gerar 5 jogos distintos.\n",
    "- Armazenar cada jogo como uma tupla dentro de uma lista principal.\n",
    "- Exibir os jogos gerados, garantindo que os números dentro de cada jogo estejam em ordem crescente.\n",
    "\n",
    "> Dica: Utilize o módulo random para gerar os números."
   ]
  },
  {
   "cell_type": "code",
   "execution_count": 7,
   "id": "992b707a",
   "metadata": {},
   "outputs": [
    {
     "name": "stdout",
     "output_type": "stream",
     "text": [
      "Jogo 1: (1, 3, 49, 38, 35, 46)\n",
      "Jogo 2: (53, 43, 21, 8, 16, 6)\n",
      "Jogo 3: (4, 20, 50, 30, 14, 29)\n",
      "Jogo 4: (53, 28, 38, 19, 1, 53)\n",
      "Jogo 5: (29, 44, 3, 1, 3, 12)\n"
     ]
    }
   ],
   "source": [
    "from random import randrange\n",
    "\n",
    "jogos = []\n",
    "for i in range(5):\n",
    "    jogos.append((randrange(60), randrange(60), randrange(60), randrange(60), randrange(60), randrange(60)))\n",
    "\n",
    "for i in range(5):\n",
    "    print(f\"Jogo {i+1}: {jogos[i]}\")"
   ]
  }
 ],
 "metadata": {
  "kernelspec": {
   "display_name": "Python 3",
   "language": "python",
   "name": "python3"
  },
  "language_info": {
   "codemirror_mode": {
    "name": "ipython",
    "version": 3
   },
   "file_extension": ".py",
   "mimetype": "text/x-python",
   "name": "python",
   "nbconvert_exporter": "python",
   "pygments_lexer": "ipython3",
   "version": "3.13.7"
  }
 },
 "nbformat": 4,
 "nbformat_minor": 5
}
