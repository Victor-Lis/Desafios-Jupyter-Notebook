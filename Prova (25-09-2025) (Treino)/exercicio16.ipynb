{
 "cells": [
  {
   "cell_type": "markdown",
   "id": "f222ea17",
   "metadata": {},
   "source": [
    "# Exercício 3: Análise de Filmes por Gênero e Diretor\n",
    "Você tem um dicionário que funciona como uma pequena biblioteca de filmes. A chave é o nome do filme e o valor é uma tupla contendo o diretor e uma lista de gêneros aos quais o filme pertence.\n",
    "\n",
    "## Sua Tarefa:\n",
    "- Contagem por Gênero: Crie um dicionário que conte quantos filmes de cada gênero existem na biblioteca.\n",
    "- Filmes por Diretor: Crie um dicionário que agrupe os nomes dos filmes por diretor. A chave será o nome do diretor e o valor será uma lista de filmes que ele dirigiu.\n",
    "\n",
    "> Exiba os dois relatórios criados."
   ]
  },
  {
   "cell_type": "code",
   "execution_count": null,
   "id": "9ba85019",
   "metadata": {},
   "outputs": [],
   "source": [
    "# Contagem de Filmes por Gênero:\n",
    "# ------------------------------------\n",
    "# - Ação: 1\n",
    "# - Ficção Científica: 2\n",
    "# - Suspense: 2\n",
    "# - Aventura: 2\n",
    "# - Drama: 2\n",
    "# - Comédia: 1\n",
    "# - Fantasia: 1\n",
    "\n",
    "# Filmografia por Diretor:\n",
    "# ------------------------------------\n",
    "# - Christopher Nolan: ['A Origem', 'Interestelar']\n",
    "# - Bong Joon-ho: ['Parasita']\n",
    "# - Peter Jackson: ['O Senhor dos Anéis: A Sociedade do Anel']"
   ]
  },
  {
   "cell_type": "code",
   "execution_count": 2,
   "id": "f3f9d4d8",
   "metadata": {},
   "outputs": [],
   "source": [
    "biblioteca_filmes = {\n",
    "    'A Origem': ('Christopher Nolan', ['Ação', 'Ficção Científica', 'Suspense']),\n",
    "    'Interestelar': ('Christopher Nolan', ['Aventura', 'Drama', 'Ficção Científica']),\n",
    "    'Parasita': ('Bong Joon-ho', ['Comédia', 'Drama', 'Suspense']),\n",
    "    'O Senhor dos Anéis: A Sociedade do Anel': ('Peter Jackson', ['Aventura', 'Fantasia'])\n",
    "}"
   ]
  },
  {
   "cell_type": "code",
   "execution_count": 15,
   "id": "b4fff2bb",
   "metadata": {},
   "outputs": [
    {
     "name": "stdout",
     "output_type": "stream",
     "text": [
      "Contagem de Filmes por Gênero:\n",
      "------------------------------------\n",
      "- Ação: 1\n",
      "- Ficção Científica: 2\n",
      "- Suspense: 2\n",
      "- Aventura: 2\n",
      "- Drama: 2\n",
      "- Comédia: 1\n",
      "- Fantasia: 1\n",
      "\n",
      "Filmografia por Diretor:\n",
      "------------------------------------\n",
      "- Christopher Nolan: ['A Origem', 'Interestelar']\n",
      "- Bong Joon-ho: ['Parasita']\n",
      "- Peter Jackson: ['O Senhor dos Anéis: A Sociedade do Anel']\n"
     ]
    }
   ],
   "source": [
    "contagem_categoria = {}\n",
    "contagem_diretor = {}\n",
    "\n",
    "for filme in biblioteca_filmes.keys():\n",
    "    diretor, categorias = biblioteca_filmes[filme]\n",
    "\n",
    "    for categoria in categorias:\n",
    "        if categoria in contagem_categoria:\n",
    "            contagem_categoria[categoria] += 1 \n",
    "        else:\n",
    "            contagem_categoria[categoria] = 1\n",
    "\n",
    "    if diretor in contagem_diretor:\n",
    "        contagem_diretor[diretor].append(filme)\n",
    "    else:\n",
    "        contagem_diretor[diretor] = [filme]\n",
    "\n",
    "print(\"Contagem de Filmes por Gênero:\")\n",
    "print(\"------------------------------------\")\n",
    "for categoria in contagem_categoria:\n",
    "    print(f\"- {categoria}: {contagem_categoria[categoria]}\")\n",
    "\n",
    "print(\"\\nFilmografia por Diretor:\")\n",
    "print(\"------------------------------------\")\n",
    "for diretor in contagem_diretor:\n",
    "    print(f\"- {diretor}: {contagem_diretor[diretor]}\")"
   ]
  }
 ],
 "metadata": {
  "kernelspec": {
   "display_name": "Python 3",
   "language": "python",
   "name": "python3"
  },
  "language_info": {
   "codemirror_mode": {
    "name": "ipython",
    "version": 3
   },
   "file_extension": ".py",
   "mimetype": "text/x-python",
   "name": "python",
   "nbconvert_exporter": "python",
   "pygments_lexer": "ipython3",
   "version": "3.13.7"
  }
 },
 "nbformat": 4,
 "nbformat_minor": 5
}
