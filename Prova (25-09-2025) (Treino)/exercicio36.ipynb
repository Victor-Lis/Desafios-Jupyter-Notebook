{
 "cells": [
  {
   "cell_type": "markdown",
   "id": "8b15de21",
   "metadata": {},
   "source": [
    "# Exercício 1: Consolidação de Dados de Vendas por Categoria\n",
    "\n",
    "Você recebeu uma lista de dicionários, onde cada dicionário representa uma venda individual. Sua tarefa é processar esses dados para criar um relatório que some as vendas totais por categoria e identifique os produtos vendidos em cada uma."
   ]
  },
  {
   "cell_type": "markdown",
   "id": "81f6b6ee",
   "metadata": {},
   "source": [
    "# Sua Tarefa:\n",
    "\n",
    "- Filtrar Vendas Relevantes: Usando list comprehension, crie uma nova lista contendo apenas as vendas com valor superior a R$ 50.00.\n",
    "- Calcular Total por Categoria: Itere sobre a lista filtrada. Crie um dicionário para armazenar o valor total de vendas para cada categoria ('Eletrônicos', 'Livros', etc.).\n",
    "- Listar Produtos por Categoria: Crie outro dicionário onde a chave é a categoria e o valor é uma lista com os nomes de todos os produtos vendidos naquela categoria (sem repetições).\n",
    "\n",
    "> Exiba os dois dicionários como um relatório final."
   ]
  },
  {
   "cell_type": "code",
   "execution_count": 1,
   "id": "51253523",
   "metadata": {},
   "outputs": [],
   "source": [
    "vendas = [\n",
    "    {'produto': 'Fone de Ouvido', 'valor': 150.00, 'categoria': 'Eletrônicos'},\n",
    "    {'produto': 'Livro de Python', 'valor': 80.00, 'categoria': 'Livros'},\n",
    "    {'produto': 'Mouse Pad', 'valor': 25.00, 'categoria': 'Acessórios'},\n",
    "    {'produto': 'Monitor 4K', 'valor': 1800.00, 'categoria': 'Eletrônicos'},\n",
    "    {'produto': 'Clean Code', 'valor': 95.00, 'categoria': 'Livros'},\n",
    "    {'produto': 'Cabo USB-C', 'valor': 45.00, 'categoria': 'Acessórios'}\n",
    "]"
   ]
  },
  {
   "cell_type": "code",
   "execution_count": null,
   "id": "2b4823c1",
   "metadata": {},
   "outputs": [],
   "source": [
    "# --- Relatório de Vendas (Acima de R$ 50.00) ---\n",
    "\n",
    "# Total de Vendas por Categoria:\n",
    "# - Eletrônicos: R$ 1950.00\n",
    "# - Livros: R$ 175.00\n",
    "\n",
    "# Produtos Vendidos por Categoria:\n",
    "# - Eletrônicos: ['Fone de Ouvido', 'Monitor 4K']\n",
    "# - Livros: ['Livro de Python', 'Clean Code']"
   ]
  },
  {
   "cell_type": "code",
   "execution_count": 12,
   "id": "9867a912",
   "metadata": {},
   "outputs": [],
   "source": [
    "vendas_mais_cinquenta = [(produto[\"produto\"], produto[\"valor\"], produto[\"categoria\"]) for produto in vendas if produto[\"valor\"] > 50]"
   ]
  },
  {
   "cell_type": "code",
   "execution_count": 13,
   "id": "6f6b5ed5",
   "metadata": {},
   "outputs": [],
   "source": [
    "categorias = {}\n",
    "produtos_organizados = {}\n",
    "\n",
    "for produto in vendas:\n",
    "    nome, valor, categoria = produto[\"produto\"], produto[\"valor\"], produto[\"categoria\"]\n",
    "    if categoria in categorias:\n",
    "        categorias[categoria] += valor\n",
    "    else:\n",
    "        categorias[categoria] = valor\n",
    "        \n",
    "    if categoria in produtos_organizados:\n",
    "        if nome not in produtos_organizados[categoria]:\n",
    "            produtos_organizados[categoria].append(nome)\n",
    "    else:\n",
    "        produtos_organizados[categoria] = [nome]"
   ]
  },
  {
   "cell_type": "code",
   "execution_count": 15,
   "id": "036734cb",
   "metadata": {},
   "outputs": [
    {
     "name": "stdout",
     "output_type": "stream",
     "text": [
      "--- Relatório de Vendas (Acima de R$ 50.00) ---\n",
      "Total de Vendas por Categoria:\n",
      "- Eletrônicos: R$ 1950.0\n",
      "- Livros: R$ 175.0\n",
      "- Acessórios: R$ 70.0\n",
      "\n",
      "Produtos Vendidos por Categoria:\n",
      "- Eletrônicos: ['Fone de Ouvido', 'Monitor 4K']\n",
      "- Livros: ['Livro de Python', 'Clean Code']\n",
      "- Acessórios: ['Mouse Pad', 'Cabo USB-C']\n"
     ]
    }
   ],
   "source": [
    "print(\"--- Relatório de Vendas (Acima de R$ 50.00) ---\")\n",
    "\n",
    "print(\"Total de Vendas por Categoria:\")\n",
    "for categoria, total in categorias.items():\n",
    "    print(f\"- {categoria}: R$ {total}\")\n",
    "    \n",
    "print(\"\\nProdutos Vendidos por Categoria:\")\n",
    "for categoria, produtos in produtos_organizados.items():\n",
    "    print(f\"- {categoria}: {produtos}\")"
   ]
  }
 ],
 "metadata": {
  "kernelspec": {
   "display_name": "Python 3",
   "language": "python",
   "name": "python3"
  },
  "language_info": {
   "codemirror_mode": {
    "name": "ipython",
    "version": 3
   },
   "file_extension": ".py",
   "mimetype": "text/x-python",
   "name": "python",
   "nbconvert_exporter": "python",
   "pygments_lexer": "ipython3",
   "version": "3.13.7"
  }
 },
 "nbformat": 4,
 "nbformat_minor": 5
}
