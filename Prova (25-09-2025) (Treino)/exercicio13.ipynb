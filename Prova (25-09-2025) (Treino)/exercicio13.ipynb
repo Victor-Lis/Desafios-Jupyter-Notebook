{
 "cells": [
  {
   "cell_type": "markdown",
   "id": "ccc6cf53",
   "metadata": {},
   "source": [
    "# Exercício 4: Relatório de Notas de Alunos por Matéria\n",
    "Desta vez, a estrutura de dados é mais complexa. Você tem um dicionário onde cada chave é o nome de um aluno, e o valor é outro dicionário com as notas dele em diferentes matérias.\n",
    "\n",
    "## Sua Tarefa:\n",
    "- Para cada aluno, calcule a média geral (a média de todas as suas notas, independentemente da matéria).\n",
    "- Identifique a melhor matéria de cada aluno (a matéria em que ele tirou a maior nota).\n",
    "- Encontre o aluno com a maior média geral para premiá-lo.\n",
    "\n",
    "> Exiba um relatório completo para cada aluno."
   ]
  },
  {
   "cell_type": "code",
   "execution_count": null,
   "id": "5b20a576",
   "metadata": {},
   "outputs": [],
   "source": [
    "notas_turma = {\n",
    "    'Joana': {'Matemática': 8.5, 'Português': 9.0, 'Ciências': 7.5},\n",
    "    'Pedro': {'Matemática': 9.5, 'Português': 8.0, 'Ciências': 8.5, \"Boiologia\": 9},\n",
    "    'Lucas': {'Matemática': 7.0, 'Português': 7.5, 'Ciências': 8.0}\n",
    "}"
   ]
  },
  {
   "cell_type": "code",
   "execution_count": null,
   "id": "71988033",
   "metadata": {},
   "outputs": [
    {
     "name": "stdout",
     "output_type": "stream",
     "text": [
      "Aluno: Joana\n",
      "Média: 8.33\n",
      "Melhor matéria: Português (9.0)\n",
      "\n",
      "Aluno: Pedro\n",
      "Média: 8.75\n",
      "Melhor matéria: Matemática (9.5)\n",
      "\n",
      "Aluno: Lucas\n",
      "Média: 7.50\n",
      "Melhor matéria: Ciências (8.0)\n",
      "\n"
     ]
    }
   ],
   "source": [
    "for aluno, notas in notas_turma.items():\n",
    "    materias = {k: v for k, v in notas.items() if k != \"Média Final\"}\n",
    "    media = sum(materias.values()) / len(materias)\n",
    "    melhor_materia = max(materias, key=materias.get)\n",
    "    melhor_nota = materias[melhor_materia]\n",
    "\n",
    "    print(f\"Aluno: {aluno}\")\n",
    "    print(f\"Média: {media:.2f}\")\n",
    "    print(f\"Melhor matéria: {melhor_materia} ({melhor_nota})\\n\")"
   ]
  }
 ],
 "metadata": {
  "kernelspec": {
   "display_name": "Python 3",
   "language": "python",
   "name": "python3"
  },
  "language_info": {
   "codemirror_mode": {
    "name": "ipython",
    "version": 3
   },
   "file_extension": ".py",
   "mimetype": "text/x-python",
   "name": "python",
   "nbconvert_exporter": "python",
   "pygments_lexer": "ipython3",
   "version": "3.13.7"
  }
 },
 "nbformat": 4,
 "nbformat_minor": 5
}
