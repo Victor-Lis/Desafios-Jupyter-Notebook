{
 "cells": [
  {
   "cell_type": "markdown",
   "id": "5fde1f9e",
   "metadata": {},
   "source": [
    "## Casamento de inteiros\n",
    "\n",
    "A operação de casamento entre dois números inteiros A e B é definida da seguinte forma:\n",
    "\n",
    "1. Inicialmente, ambos os números são ajustados para terem o mesmo número de dígitos, adicionando zeros à esquerda conforme necessário.\n",
    "2. Cada dígito de A (do menos significativo ao mais significativo) é comparado com o dígito correspondente de B. O dígito de menor valor é eliminado do número ao qual pertence. Se os dígitos forem iguais, nenhum é eliminado.\n",
    "3. O resultado do casamento é o par de números inteiros formados pelos dígitos remanescentes de A e B. Se não houver dígitos remanescentes para um dos números, o resultado para esse número é -1.\n",
    "\n",
    "**Exemplo:**  \n",
    "Considere o casamento de 69961 com 487920:  \n",
    "O resultado do casamento é o par de números 489 e 9961.\n",
    "\n",
    "### Entrada\n",
    "- A primeira linha contém um número inteiro A.\n",
    "- A segunda linha contém um número inteiro B.\n",
    "\n",
    "### Saída\n",
    "- Seu programa deve produzir uma única linha, contendo os dois números inteiros produzidos pelo casamento dos números dados, em ordem não decrescente.\n",
    "\n",
    "### Restrições\n",
    "- 1 ≤ A ≤ 10⁹\n",
    "- 1 ≤ B ≤ 10⁹\n",
    "\n",
    "#### Informações sobre a pontuação\n",
    "- Para um conjunto de casos de testes valendo 22 pontos: 100 ≤ A ≤ 999 e 100 ≤ B ≤ 999.\n",
    "- Para um conjunto de casos de testes valendo outros 78 pontos: nenhuma restrição adicional.\n",
    "\n",
    "#### Referência\n",
    "https://olimpiada.ic.unicamp.br/pratique/p1/2021/f3/casamento/"
   ]
  },
  {
   "cell_type": "markdown",
   "id": "5ed861d5",
   "metadata": {},
   "source": [
    "### Exemplos\n",
    "\n",
    "**Entrada**  \n",
    "69961  \n",
    "487920  \n",
    "**Saída**  \n",
    "489 9961\n",
    "\n",
    "---\n",
    "\n",
    "**Entrada**  \n",
    "5678  \n",
    "1234  \n",
    "**Saída**  \n",
    "-1 5678\n",
    "\n",
    "---\n",
    "\n",
    "**Entrada**  \n",
    "21  \n",
    "12  \n",
    "**Saída**  \n",
    "2 2\n",
    "\n",
    "---\n",
    "\n",
    "**Entrada**  \n",
    "200  \n",
    "100  \n",
    "**Saída**  \n",
    "0 200"
   ]
  },
  {
   "cell_type": "code",
   "execution_count": null,
   "id": "5b87cf34",
   "metadata": {},
   "outputs": [
    {
     "name": "stdout",
     "output_type": "stream",
     "text": [
      "0 200\n"
     ]
    }
   ],
   "source": [
    "num_a = input()\n",
    "num_b = input()\n",
    "\n",
    "max_len = max(len(num_a), len(num_b))\n",
    "\n",
    "num_a = num_a.zfill(max_len)\n",
    "num_b = num_b.zfill(max_len)\n",
    "\n",
    "resultado_a = ''\n",
    "resultado_b = ''\n",
    "\n",
    "for i in range(max_len - 1, -1, -1):\n",
    "    digito_a = int(num_a[i])\n",
    "    digito_b = int(num_b[i])\n",
    "    \n",
    "    if digito_a > digito_b:\n",
    "        resultado_a = num_a[i] + resultado_a \n",
    "    elif digito_b > digito_a:\n",
    "        resultado_b = num_b[i] + resultado_b\n",
    "    else: \n",
    "        resultado_a = num_a[i] + resultado_a\n",
    "        resultado_b = num_b[i] + resultado_b\n",
    "\n",
    "final_a = -1 if resultado_a == '' else int(resultado_a)\n",
    "final_b = -1 if resultado_b == '' else int(resultado_b)\n",
    "\n",
    "if final_a < final_b:\n",
    "    print(final_a, final_b)\n",
    "else:\n",
    "    print(final_b, final_a)\n"
   ]
  }
 ],
 "metadata": {
  "kernelspec": {
   "display_name": "Python 3",
   "language": "python",
   "name": "python3"
  },
  "language_info": {
   "codemirror_mode": {
    "name": "ipython",
    "version": 3
   },
   "file_extension": ".py",
   "mimetype": "text/x-python",
   "name": "python",
   "nbconvert_exporter": "python",
   "pygments_lexer": "ipython3",
   "version": "3.13.7"
  }
 },
 "nbformat": 4,
 "nbformat_minor": 5
}
