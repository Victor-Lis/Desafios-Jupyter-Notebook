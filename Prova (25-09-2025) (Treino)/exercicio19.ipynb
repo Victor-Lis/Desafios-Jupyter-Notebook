{
 "cells": [
  {
   "cell_type": "markdown",
   "id": "1a053fe9",
   "metadata": {},
   "source": [
    "# Exercício 3: Análise de uma Carteira de Ações\n",
    "Você tem uma lista de dicionários representando uma carteira de ações. Cada dicionário contém o código da ação (ticker), a quantidade de ações e o preço médio de compra. Você também tem um dicionário com os preços atuais de cada ação.\n",
    "\n",
    "## Sua Tarefa:\n",
    "Para cada ação na carteira, calcule o valor total atual (quantidade * preço atual).\n",
    "- Calcule o resultado (lucro ou prejuízo) de cada ação, que é (preço atual - preço médio de compra) * quantidade.\n",
    "- Calcule o valor total da carteira (soma do valor total atual de todas as ações).\n",
    "- Identifique a ação que está dando o maior lucro e a que está dando o maior prejuízo.\n",
    "\n",
    "Exiba um relatório detalhado para cada ação e os resultados gerais."
   ]
  },
  {
   "cell_type": "code",
   "execution_count": null,
   "id": "88b6b9e9",
   "metadata": {},
   "outputs": [],
   "source": [
    "# Análise da Carteira de Ações:\n",
    "# ------------------------------------\n",
    "# - PETR4: Valor Atual: R$ 3000.00 | Resultado: +R$ 150.00\n",
    "# - VALE3: Valor Atual: R$ 3640.00 | Resultado: -R$ 110.00\n",
    "# - MGLU3: Valor Atual: R$ 1240.00 | Resultado: +R$ 140.00\n",
    "\n",
    "# Valor Total da Carteira: R$ 7880.00\n",
    "# Melhor desempenho: PETR4 (+R$ 150.00)\n",
    "# Pior desempenho: VALE3 (-R$ 110.00)"
   ]
  },
  {
   "cell_type": "code",
   "execution_count": 1,
   "id": "3f49b8db",
   "metadata": {},
   "outputs": [],
   "source": [
    "carteira = [\n",
    "    {'ticker': 'PETR4', 'quantidade': 100, 'preco_medio': 28.50},\n",
    "    {'ticker': 'VALE3', 'quantidade': 50, 'preco_medio': 75.00},\n",
    "    {'ticker': 'MGLU3', 'quantidade': 200, 'preco_medio': 5.50}\n",
    "]\n",
    "\n",
    "precos_atuais = {\n",
    "    'PETR4': 30.00,\n",
    "    'VALE3': 72.80,\n",
    "    'MGLU3': 6.20\n",
    "}"
   ]
  },
  {
   "cell_type": "code",
   "execution_count": 25,
   "id": "ed04db77",
   "metadata": {},
   "outputs": [],
   "source": [
    "analise_acoes = {}\n",
    "\n",
    "for item in carteira:\n",
    "    ticker, quantidade, preco_medio = item.values()\n",
    "    preco = precos_atuais[ticker]\n",
    "    \n",
    "    condicao = (preco - preco_medio) * quantidade\n",
    "    total = preco * quantidade\n",
    "    \n",
    "    analise_acoes[ticker] = (total, condicao)\n",
    "\n",
    "melhor_desempenho = max(analise_acoes, key=lambda x: analise_acoes[x][1])\n",
    "pior_desempenho = min(analise_acoes, key=lambda x: analise_acoes[x][1])\n",
    "total_carteira = sum([valor for valor, lucro in analise_acoes.values()])"
   ]
  },
  {
   "cell_type": "code",
   "execution_count": 28,
   "id": "18c4db55",
   "metadata": {},
   "outputs": [
    {
     "name": "stdout",
     "output_type": "stream",
     "text": [
      "Análise da Carteira de Ações:\n",
      "------------------------------------\n",
      "- PETR4: Valor Atual: R$ 3000.00 | Resultado: +R$ 150.00\n",
      "- VALE3: Valor Atual: R$ 3640.00 | Resultado: +R$ -110.00\n",
      "- MGLU3: Valor Atual: R$ 1240.00 | Resultado: +R$ 140.00\n",
      "\n",
      "Valor Total da Carteira: R$ 7880.0\n",
      "Melhor desempenho: PETR4 (+R$ 150.00)\n",
      "Pior desempenho: VALE3 (+R$ -110.00)\n"
     ]
    }
   ],
   "source": [
    "print(\"Análise da Carteira de Ações:\")\n",
    "print(\"------------------------------------\")\n",
    "\n",
    "for acao in analise_acoes.keys():\n",
    "    atual, resultado = analise_acoes[acao]\n",
    "    print(f\"- {acao}: Valor Atual: R$ {atual:.2f} | Resultado: +R$ {resultado:.2f}\")\n",
    "\n",
    "print(f\"\\nValor Total da Carteira: R$ {total_carteira}\")\n",
    "print(f\"Melhor desempenho: {melhor_desempenho} (+R$ {analise_acoes[melhor_desempenho][1]:.2f})\")\n",
    "print(f\"Pior desempenho: {pior_desempenho} (+R$ {analise_acoes[pior_desempenho][1]:.2f})\")"
   ]
  }
 ],
 "metadata": {
  "kernelspec": {
   "display_name": "Python 3",
   "language": "python",
   "name": "python3"
  },
  "language_info": {
   "codemirror_mode": {
    "name": "ipython",
    "version": 3
   },
   "file_extension": ".py",
   "mimetype": "text/x-python",
   "name": "python",
   "nbconvert_exporter": "python",
   "pygments_lexer": "ipython3",
   "version": "3.13.7"
  }
 },
 "nbformat": 4,
 "nbformat_minor": 5
}
