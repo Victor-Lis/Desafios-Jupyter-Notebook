{
 "cells": [
  {
   "cell_type": "markdown",
   "id": "7a9b34ab",
   "metadata": {},
   "source": [
    "# Exercício 5: Análise de Desempenho de Atletas\n",
    "Uma lista de tuplas armazena os resultados de vários atletas em uma competição de salto em distância. Cada tupla contém o nome do atleta e uma lista com seus três saltos. Você precisa determinar o vencedor com base na média dos saltos.\n",
    "\n",
    "## Sua Tarefa:\n",
    "- Iterar sobre a lista de atletas.\n",
    "- Para cada atleta, calcular a média de seus três saltos.\n",
    "- Exibir um relatório com o nome de cada atleta e sua média.\n",
    "\n",
    "> Ao final, anunciar o nome do atleta com a maior média como o grande campeão."
   ]
  },
  {
   "cell_type": "code",
   "execution_count": 2,
   "id": "196d07a9",
   "metadata": {},
   "outputs": [],
   "source": [
    "resultados = [\n",
    "    ('Carlos', [7.2, 7.5, 7.3]),\n",
    "    ('Juliana', [7.8, 7.6, 7.7]),\n",
    "    ('Ricardo', [7.1, 7.0, 7.4]),\n",
    "    ('Beatriz', [7.5, 7.9, 7.8])\n",
    "]"
   ]
  },
  {
   "cell_type": "code",
   "execution_count": 11,
   "id": "c8fb99f0",
   "metadata": {},
   "outputs": [
    {
     "name": "stdout",
     "output_type": "stream",
     "text": [
      "----- Desempenho dos Atletas -----\n",
      "- Carlos: Média de 7.33m\n",
      "- Juliana: Média de 7.70m\n",
      "- Ricardo: Média de 7.17m\n",
      "- Beatriz: Média de 7.73m\n",
      "\n",
      "O campeão foi Beatriz com a incrível média de 7.73m\n"
     ]
    }
   ],
   "source": [
    "campeao = (\"Ninguem\", 0)\n",
    "\n",
    "print(\"----- Desempenho dos Atletas -----\")\n",
    "for nome, saltos in resultados:\n",
    "    media = sum(saltos)/len(saltos)\n",
    "    if (media > campeao[1]): campeao = (nome, media)\n",
    "    print(f\"- {nome}: Média de {media:.2f}m\")\n",
    "\n",
    "print(f\"\\nO campeão foi {campeao[0]} com a incrível média de {campeao[1]:.2f}m\")"
   ]
  }
 ],
 "metadata": {
  "kernelspec": {
   "display_name": "Python 3",
   "language": "python",
   "name": "python3"
  },
  "language_info": {
   "codemirror_mode": {
    "name": "ipython",
    "version": 3
   },
   "file_extension": ".py",
   "mimetype": "text/x-python",
   "name": "python",
   "nbconvert_exporter": "python",
   "pygments_lexer": "ipython3",
   "version": "3.13.7"
  }
 },
 "nbformat": 4,
 "nbformat_minor": 5
}
