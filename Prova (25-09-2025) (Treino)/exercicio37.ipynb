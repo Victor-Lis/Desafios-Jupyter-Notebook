{
 "cells": [
  {
   "cell_type": "markdown",
   "id": "ae1422ce",
   "metadata": {},
   "source": [
    "# Exercício 2: Análise de Dados de GPS\n",
    "Você recebeu uma lista de tuplas, onde cada tupla contém as coordenadas (latitude, longitude) e a altitude de um ponto geográfico. O objetivo é analisar esses pontos."
   ]
  },
  {
   "cell_type": "markdown",
   "id": "a8d400d4",
   "metadata": {},
   "source": [
    "# Sua Tarefa:\n",
    "\n",
    "- Identificar Pontos de Alta Altitude: Usando list comprehension, crie uma nova lista chamada pontos_altos contendo apenas as tuplas cuja altitude seja maior que 500 metros.\n",
    "\n",
    "- Calcular Coordenadas Médias: Itere sobre a lista original de dados_gps. Calcule a latitude média e a longitude média de todos os pontos.\n",
    "\n",
    "- Organizar por Quadrante: Crie um dicionário para agrupar os pontos por quadrante. As chaves serão os nomes dos quadrantes (ex: \"Norte-Leste\", \"Sul-Oeste\") e os valores serão listas das coordenadas (latitude, longitude) que pertencem a cada um.\n",
    "\n",
    "> Norte-Leste: lat > 0, lon > 0\n",
    "\n",
    "> Norte-Oeste: lat > 0, lon < 0\n",
    "\n",
    "> Sul-Leste: lat < 0, lon > 0\n",
    "\n",
    "> Sul-Oeste: lat < 0, lon < 0"
   ]
  },
  {
   "cell_type": "code",
   "execution_count": 25,
   "id": "f80c7711",
   "metadata": {},
   "outputs": [],
   "source": [
    "dados_gps = [\n",
    "    (23.55, 46.63, 760),   # São Paulo (Norte-Leste no mapa mundi - lat S, lon O)\n",
    "    (-34.60, -58.38, 25),  # Buenos Aires (Sul-Oeste)\n",
    "    (38.90, -77.03, 10),   # Washington D.C. (Norte-Oeste)\n",
    "    (40.71, -74.00, 1000), # Nova York (Norte-Oeste, ponto alto)\n",
    "    (-22.90, -43.17, 800)  # Rio de Janeiro (Sul-Oeste, ponto alto)\n",
    "]"
   ]
  },
  {
   "cell_type": "code",
   "execution_count": 26,
   "id": "1c8a8624",
   "metadata": {},
   "outputs": [],
   "source": [
    "maior_500 = [(latitude, longitude, altura) for latitude, longitude, altura in dados_gps if altura > 500]"
   ]
  },
  {
   "cell_type": "code",
   "execution_count": 27,
   "id": "87b4d333",
   "metadata": {},
   "outputs": [],
   "source": [
    "calcular_media = lambda lista : sum(lista) / len(lista)\n",
    "\n",
    "latitude_media = calcular_media([latitude for latitude, longitude, altura in dados_gps])\n",
    "longitude_media = calcular_media([longitude for latitude, longitude, altura in dados_gps])"
   ]
  },
  {
   "cell_type": "code",
   "execution_count": 28,
   "id": "5786451c",
   "metadata": {},
   "outputs": [],
   "source": [
    "quadrantes = {\n",
    "    \"Norte-Leste\": [(latitude, longitude) for latitude, longitude, altura in dados_gps if latitude > 0 and longitude > 0],\n",
    "    \"Norte-Oeste\": [(latitude, longitude) for latitude, longitude, altura in dados_gps if latitude > 0 and longitude < 0],\n",
    "    \"Sul-Leste\": [(latitude, longitude) for latitude, longitude, altura in dados_gps if latitude < 0 and longitude > 0],\n",
    "    \"Sul-Oeste\": [(latitude, longitude) for latitude, longitude, altura in dados_gps if latitude < 0 and longitude < 0],\n",
    "}"
   ]
  },
  {
   "cell_type": "code",
   "execution_count": 30,
   "id": "8f6fb074",
   "metadata": {},
   "outputs": [
    {
     "name": "stdout",
     "output_type": "stream",
     "text": [
      "--- Análise de Dados GPS ---\n",
      "Pontos com Altitude > 500m:\n",
      "[(23.55, 46.63, 760), (40.71, -74.0, 1000), (-22.9, -43.17, 800)]\n",
      "\n",
      "Coordenadas Médias:\n",
      "- Latitude Média: 9.132\n",
      "- Longitude Média: -41.19\n",
      "\n",
      "Pontos por Quadrante:\n",
      "- Norte-Leste: [(23.55, 46.63)]\n",
      "- Norte-Oeste: [(38.9, -77.03), (40.71, -74.0)]\n",
      "- Sul-Oeste: [(-34.6, -58.38), (-22.9, -43.17)]\n"
     ]
    }
   ],
   "source": [
    "print(\"--- Análise de Dados GPS ---\")\n",
    "\n",
    "print(\"Pontos com Altitude > 500m:\")\n",
    "print(maior_500)\n",
    "\n",
    "print(\"\\nCoordenadas Médias:\")\n",
    "print(f\"- Latitude Média: {latitude_media}\")\n",
    "print(f\"- Longitude Média: {longitude_media}\")\n",
    "\n",
    "print(\"\\nPontos por Quadrante:\")\n",
    "for quadrante, pontos in quadrantes.items():\n",
    "    if len(pontos):\n",
    "        print(f\"- {quadrante}: {pontos}\")"
   ]
  }
 ],
 "metadata": {
  "kernelspec": {
   "display_name": "Python 3",
   "language": "python",
   "name": "python3"
  },
  "language_info": {
   "codemirror_mode": {
    "name": "ipython",
    "version": 3
   },
   "file_extension": ".py",
   "mimetype": "text/x-python",
   "name": "python",
   "nbconvert_exporter": "python",
   "pygments_lexer": "ipython3",
   "version": "3.13.7"
  }
 },
 "nbformat": 4,
 "nbformat_minor": 5
}
