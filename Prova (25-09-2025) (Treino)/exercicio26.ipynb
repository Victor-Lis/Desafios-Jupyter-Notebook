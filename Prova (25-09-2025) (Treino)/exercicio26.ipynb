{
 "cells": [
  {
   "cell_type": "markdown",
   "id": "2a4aacff",
   "metadata": {},
   "source": [
    "# Exercício 2: Registro de Eventos com *args e **kwargs\n",
    "Crie uma função registrar_evento que registre os detalhes de um evento. A função deve aceitar:\n",
    "\n",
    "- O nome do evento como primeiro argumento.\n",
    "- Uma lista de participantes como *args.\n",
    "- Detalhes adicionais sobre o evento (como local, data, organizador) como **kwargs."
   ]
  },
  {
   "cell_type": "markdown",
   "id": "7a43334d",
   "metadata": {},
   "source": [
    "## Sua Tarefa:\n",
    "- Dentro da função, imprima um resumo formatado do evento.\n",
    "\n",
    "- A função deve verificar se data e local foram fornecidos em **kwargs. Se não, deve usar valores padrão: \"Data a confirmar\" e \"Local a confirmar\".\n",
    "\n",
    "> A função deve retornar um dicionário contendo todos os detalhes do evento."
   ]
  },
  {
   "cell_type": "code",
   "execution_count": 19,
   "id": "ea0e51e3",
   "metadata": {},
   "outputs": [],
   "source": [
    "def registrar_evento(nome_evento, *args, **kwargs):\n",
    "    relatorio_do_evento = {\n",
    "        \"evento\": nome_evento,\n",
    "    }\n",
    "    \n",
    "    print(\"\\n----- Detalhes do Evento -----\")\n",
    "    \n",
    "    print(f\"Evento: {nome_evento}\")\n",
    "    \n",
    "    for informacao, valor in kwargs.items():\n",
    "        print(f\"{informacao.capitalize()}: {valor}\")\n",
    "        relatorio_do_evento[informacao] = valor\n",
    "        \n",
    "    print(\"Participantes:\")\n",
    "    relatorio_do_evento[\"participantes\"] = list(args)\n",
    "    for participante in args:\n",
    "        print(f\"- {participante}\")\n",
    "        \n",
    "    print(\"=\" * 28)\n",
    "    \n",
    "    return relatorio_do_evento\n",
    "    "
   ]
  },
  {
   "cell_type": "code",
   "execution_count": 20,
   "id": "4adede88",
   "metadata": {},
   "outputs": [
    {
     "name": "stdout",
     "output_type": "stream",
     "text": [
      "\n",
      "----- Detalhes do Evento -----\n",
      "Evento: Hackathon de Python\n",
      "Local: Centro de Convenções\n",
      "Data: 2025-10-25\n",
      "Organizador: Comunidade Python\n",
      "Participantes:\n",
      "- Mariana\n",
      "- Felipe\n",
      "- Laura\n",
      "============================\n",
      "\n",
      "----- Detalhes do Evento -----\n",
      "Evento: Workshop de Design\n",
      "Organizador: Escola de Artes\n",
      "Participantes:\n",
      "- Carlos\n",
      "- Beatriz\n",
      "============================\n",
      "\n",
      "{'evento': 'Hackathon de Python', 'local': 'Centro de Convenções', 'data': '2025-10-25', 'organizador': 'Comunidade Python', 'participantes': ['Mariana', 'Felipe', 'Laura']}\n",
      "{'evento': 'Workshop de Design', 'organizador': 'Escola de Artes', 'participantes': ['Carlos', 'Beatriz']}\n"
     ]
    }
   ],
   "source": [
    "evento1 = registrar_evento(\n",
    "    \"Hackathon de Python\",\n",
    "    \"Mariana\", \"Felipe\", \"Laura\",\n",
    "    local=\"Centro de Convenções\",\n",
    "    data=\"2025-10-25\",\n",
    "    organizador=\"Comunidade Python\"\n",
    ")\n",
    "\n",
    "evento2 = registrar_evento(\n",
    "    \"Workshop de Design\",\n",
    "    \"Carlos\", \"Beatriz\",\n",
    "    organizador=\"Escola de Artes\"\n",
    ")\n",
    "\n",
    "print(f\"\\n{evento1}\")\n",
    "print(evento2)"
   ]
  }
 ],
 "metadata": {
  "kernelspec": {
   "display_name": "Python 3",
   "language": "python",
   "name": "python3"
  },
  "language_info": {
   "codemirror_mode": {
    "name": "ipython",
    "version": 3
   },
   "file_extension": ".py",
   "mimetype": "text/x-python",
   "name": "python",
   "nbconvert_exporter": "python",
   "pygments_lexer": "ipython3",
   "version": "3.13.7"
  }
 },
 "nbformat": 4,
 "nbformat_minor": 5
}
