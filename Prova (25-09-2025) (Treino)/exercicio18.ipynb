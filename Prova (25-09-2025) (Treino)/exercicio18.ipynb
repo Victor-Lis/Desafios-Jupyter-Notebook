{
 "cells": [
  {
   "cell_type": "markdown",
   "id": "bd0a2f8a",
   "metadata": {},
   "source": [
    "# Exercício 2: Sistema de Frequência de Alunos\n",
    "Você precisa analisar a frequência dos alunos em um curso. Os dados estão em um dicionário onde a chave é o nome do aluno e o valor é uma lista de strings, representando a presença ('P') ou ausência ('A') em cada aula.\n",
    "\n",
    "## Sua Tarefa:\n",
    "Para cada aluno, calcule a porcentagem de presença. A fórmula é: (número de presenças / número total de aulas) * 100.\n",
    "- Identifique e crie uma lista com os nomes dos alunos que têm uma frequência inferior a 75%.\n",
    "- Exiba um relatório com o nome de cada aluno e sua porcentagem de frequência.\n",
    "\n",
    "> Ao final, mostre a lista de alunos com baixa frequência que precisam de atenção."
   ]
  },
  {
   "cell_type": "code",
   "execution_count": null,
   "id": "a200b85a",
   "metadata": {},
   "outputs": [],
   "source": [
    "# Relatório de Frequência:\n",
    "# ------------------------------------\n",
    "# - Mariana: 80.0% de presença\n",
    "# - Felipe: 30.0% de presença\n",
    "# - Laura: 100.0% de presença\n",
    "# - Gustavo: 60.0% de presença\n",
    "\n",
    "# Alunos com frequência abaixo de 75%:\n",
    "# ['Felipe', 'Gustavo']"
   ]
  },
  {
   "cell_type": "code",
   "execution_count": 2,
   "id": "9bde7048",
   "metadata": {},
   "outputs": [],
   "source": [
    "frequencia_alunos = {\n",
    "    'Mariana': ['P', 'P', 'A', 'P', 'P', 'P', 'A', 'P', 'P', 'P'],\n",
    "    'Felipe': ['P', 'A', 'A', 'A', 'P', 'A', 'P', 'A', 'A', 'A'],\n",
    "    'Laura': ['P', 'P', 'P', 'P', 'P', 'P', 'P', 'P', 'P', 'P'],\n",
    "    'Gustavo': ['A', 'P', 'P', 'P', 'A', 'P', 'P', 'A', 'P', 'A']\n",
    "}"
   ]
  },
  {
   "cell_type": "code",
   "execution_count": 6,
   "id": "1a198ee7",
   "metadata": {},
   "outputs": [],
   "source": [
    "def verifica_status(lista, status):\n",
    "    return sum(1 for s in lista if s == status)"
   ]
  },
  {
   "cell_type": "code",
   "execution_count": 15,
   "id": "7c2f7bff",
   "metadata": {},
   "outputs": [
    {
     "name": "stdout",
     "output_type": "stream",
     "text": [
      "Relatório de Frequência:\n",
      "------------------------------------\n",
      "- Mariana: 80.00% de presença\n",
      "- Felipe: 30.00% de presença\n",
      "- Laura: 100.00% de presença\n",
      "- Gustavo: 60.00% de presença\n",
      "\n",
      "Alunos com frequência abaixo de 75%:\n",
      "['Felipe', 'Gustavo']\n"
     ]
    }
   ],
   "source": [
    "alunos = {}\n",
    "\n",
    "for aluno in frequencia_alunos.keys():\n",
    "    presencas = verifica_status(frequencia_alunos[aluno], \"P\")\n",
    "    ausencias = verifica_status(frequencia_alunos[aluno], \"A\")\n",
    "    porcentagem = (presencas / len(frequencia_alunos[aluno])) * 100\n",
    "    alunos[aluno] = porcentagem\n",
    "    \n",
    "print(\"Relatório de Frequência:\")\n",
    "print(\"------------------------------------\")\n",
    "for aluno, presenca in alunos.items():\n",
    "    print(f\"- {aluno}: {presenca:.2f}% de presença\")\n",
    "    \n",
    "print(\"\\nAlunos com frequência abaixo de 75%:\")\n",
    "baixa_frequencia = [aluno for aluno, presenca in alunos.items() if presenca < 75]\n",
    "print(baixa_frequencia)"
   ]
  }
 ],
 "metadata": {
  "kernelspec": {
   "display_name": "Python 3",
   "language": "python",
   "name": "python3"
  },
  "language_info": {
   "codemirror_mode": {
    "name": "ipython",
    "version": 3
   },
   "file_extension": ".py",
   "mimetype": "text/x-python",
   "name": "python",
   "nbconvert_exporter": "python",
   "pygments_lexer": "ipython3",
   "version": "3.13.7"
  }
 },
 "nbformat": 4,
 "nbformat_minor": 5
}
