{
 "cells": [
  {
   "cell_type": "markdown",
   "id": "4ccbc0b8",
   "metadata": {},
   "source": [
    "# Exercício 3: Processador de Pedidos Flexível com *args e **kwargs\n",
    "Crie uma função chamada processar_pedido que simule o processamento de um pedido online. A função deve aceitar:\n",
    "\n",
    "- Um argumento posicional obrigatório: id_cliente.\n",
    "- Um número arbitrário de itens do pedido (*args).\n",
    "- Um número arbitrário de opções de pedido (**kwargs), como metodo_pagamento, entrega_expressa, cupom_desconto, etc.\n",
    "\n",
    "## Sua Tarefa:\n",
    "- A função deve imprimir o ID do cliente.\n",
    "- Listar todos os itens do pedido.\n",
    "- Listar todas as opções de configuração do pedido. Se o dicionário de kwargs tiver uma chave cupom_desconto, a função deve imprimir uma mensagem especial dizendo \"Cupom aplicado!\"."
   ]
  },
  {
   "cell_type": "code",
   "execution_count": 7,
   "id": "4106fb7d",
   "metadata": {},
   "outputs": [],
   "source": [
    "def processar_pedido(id_cliente, *args, **kwargs):\n",
    "    print(f\"Processando pedido para o cliente: {id_cliente}\")\n",
    "    print(\"Itens do pedido:\")\n",
    "    if not args:\n",
    "        print(\"- Nenhum item no pedido.\")\n",
    "    else:\n",
    "        for item in args:\n",
    "            print(f\"- {item}\")\n",
    "\n",
    "    print(\"\\nOpções do Pedido:\")\n",
    "    if not kwargs:\n",
    "        print(\"- Nenhuma opção adicional.\")\n",
    "    else:\n",
    "        for chave, valor in kwargs.items():\n",
    "            print(f\"- {chave.title()}: {valor}\")\n",
    "        if 'cupom_desconto' in kwargs:\n",
    "            print(\"\\n*** Cupom aplicado com sucesso! ***\")\n",
    "    print(\"=\"*30)"
   ]
  },
  {
   "cell_type": "code",
   "execution_count": null,
   "id": "cde61d73",
   "metadata": {},
   "outputs": [
    {
     "name": "stdout",
     "output_type": "stream",
     "text": [
      "Processando pedido para o cliente: 101\n",
      "Itens do pedido:\n",
      "- Livro de Python\n",
      "- Caneca\n",
      "\n",
      "Opções do Pedido:\n",
      "- Metodo_Pagamento: Cartão de Crédito\n",
      "- Entrega_Expressa: True\n",
      "==============================\n",
      "Processando pedido para o cliente: 205\n",
      "Itens do pedido:\n",
      "- Notebook\n",
      "- Mouse sem fio\n",
      "- Teclado\n",
      "\n",
      "Opções do Pedido:\n",
      "- Metodo_Pagamento: Boleto\n",
      "- Cupom_Desconto: PROMO15\n",
      "\n",
      "*** Cupom aplicado com sucesso! ***\n",
      "==============================\n"
     ]
    }
   ],
   "source": [
    "processar_pedido(101, \"Livro de Python\", \"Caneca\", metodo_pagamento=\"Cartão de Crédito\", entrega_expressa=True)\n",
    "processar_pedido(205, \"Notebook\", \"Mouse sem fio\", \"Teclado\", metodo_pagamento=\"Boleto\", cupom_desconto=\"PROMO15\")"
   ]
  }
 ],
 "metadata": {
  "kernelspec": {
   "display_name": "Python 3",
   "language": "python",
   "name": "python3"
  },
  "language_info": {
   "codemirror_mode": {
    "name": "ipython",
    "version": 3
   },
   "file_extension": ".py",
   "mimetype": "text/x-python",
   "name": "python",
   "nbconvert_exporter": "python",
   "pygments_lexer": "ipython3",
   "version": "3.13.7"
  }
 },
 "nbformat": 4,
 "nbformat_minor": 5
}
