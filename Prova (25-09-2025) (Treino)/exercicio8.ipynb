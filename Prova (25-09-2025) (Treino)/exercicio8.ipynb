{
 "cells": [
  {
   "cell_type": "markdown",
   "id": "8b5dcdef",
   "metadata": {},
   "source": [
    "# Exercício 3: Filtragem de Dados de Voos\n",
    "Você tem uma lista de tuplas com informações sobre voos: (código do voo, origem, destino, número de passageiros). Sua missão é filtrar e exibir apenas os voos que atendem a um critério específico.\n",
    "\n",
    "## Sua Tarefa:\n",
    "- Criar uma nova lista contendo apenas os voos com mais de 200 passageiros.\n",
    "- Criar outra lista apenas com os voos que partem de \"São Paulo\" (GRU).\n",
    "\n",
    "> Exibir as duas listas filtradas de forma organizada."
   ]
  },
  {
   "cell_type": "code",
   "execution_count": null,
   "id": "7e96a9be",
   "metadata": {},
   "outputs": [],
   "source": [
    "# Voos com mais de 200 passageiros:\n",
    "# ------------------------------------\n",
    "# - Voo TP1920: Lisboa (LIS) -> São Paulo (GRU) - 250 passageiros\n",
    "# - Voo G32010: São Paulo (GRU) -> Salvador (SSA) - 210 passageiros\n",
    "# - Voo AZ674: Roma (FCO) -> São Paulo (GRU) - 280 passageiros\n",
    "\n",
    "# Voos partindo de São Paulo (GRU):\n",
    "# ------------------------------------\n",
    "# - Voo G32010: São Paulo (GRU) -> Salvador (SSA) - 210 passageiros"
   ]
  },
  {
   "cell_type": "code",
   "execution_count": 1,
   "id": "f35b9b40",
   "metadata": {},
   "outputs": [],
   "source": [
    "lista_voos = [\n",
    "    ('TP1920', 'Lisboa (LIS)', 'São Paulo (GRU)', 250),\n",
    "    ('AD4050', 'Campinas (VCP)', 'Recife (REC)', 180),\n",
    "    ('G32010', 'São Paulo (GRU)', 'Salvador (SSA)', 210),\n",
    "    ('LA3340', 'Rio de Janeiro (GIG)', 'Fortaleza (FOR)', 195),\n",
    "    ('AZ674', 'Roma (FCO)', 'São Paulo (GRU)', 280)\n",
    "]"
   ]
  },
  {
   "cell_type": "code",
   "execution_count": 2,
   "id": "e89a4dfd",
   "metadata": {},
   "outputs": [],
   "source": [
    "voos_grandes = [(codigo, partida, chegada, passageiros) for codigo, partida, chegada, passageiros in lista_voos if passageiros > 200]"
   ]
  },
  {
   "cell_type": "code",
   "execution_count": null,
   "id": "94bc6671",
   "metadata": {},
   "outputs": [],
   "source": [
    "voos_sao_paulo = [(codigo, partida, chegada, passageiros) for codigo, partida, chegada, passageiros in lista_voos if \"São Paulo (GRU)\" in partida]"
   ]
  },
  {
   "cell_type": "code",
   "execution_count": null,
   "id": "15f61839",
   "metadata": {},
   "outputs": [
    {
     "name": "stdout",
     "output_type": "stream",
     "text": [
      "Voos com mais de 200 passageiros:\n",
      "-------------------------------------------------------\n",
      "- Voo TP1920: Lisboa (LIS) -> São Paulo (GRU) - 250 passageiros\n",
      "- Voo G32010: São Paulo (GRU) -> Salvador (SSA) - 210 passageiros\n",
      "- Voo AZ674: Roma (FCO) -> São Paulo (GRU) - 280 passageiros\n"
     ]
    }
   ],
   "source": [
    "print(f\"Voos com mais de 200 passageiros:\")\n",
    "print(f\"{\"-\"*55}\")\n",
    "for codigo, partida, chegada, passageiros in voos_grandes:\n",
    "    print(f\"- Voo {codigo}: {partida} -> {chegada} - {passageiros} passageiros\")"
   ]
  },
  {
   "cell_type": "code",
   "execution_count": 16,
   "id": "083e74b6",
   "metadata": {},
   "outputs": [
    {
     "name": "stdout",
     "output_type": "stream",
     "text": [
      "Voos partindo de São Paulo (GRU):\n",
      "-------------------------------------------------------\n",
      "- Voo G32010: São Paulo (GRU) -> Salvador (SSA) - 210 passageiros\n"
     ]
    }
   ],
   "source": [
    "print(f\"Voos partindo de São Paulo (GRU):\")\n",
    "print(f\"{\"-\"*55}\")\n",
    "for codigo, partida, chegada, passageiros in voos_sao_paulo:\n",
    "    print(f\"- Voo {codigo}: {partida} -> {chegada} - {passageiros} passageiros\")"
   ]
  }
 ],
 "metadata": {
  "kernelspec": {
   "display_name": "Python 3",
   "language": "python",
   "name": "python3"
  },
  "language_info": {
   "codemirror_mode": {
    "name": "ipython",
    "version": 3
   },
   "file_extension": ".py",
   "mimetype": "text/x-python",
   "name": "python",
   "nbconvert_exporter": "python",
   "pygments_lexer": "ipython3",
   "version": "3.13.7"
  }
 },
 "nbformat": 4,
 "nbformat_minor": 5
}
