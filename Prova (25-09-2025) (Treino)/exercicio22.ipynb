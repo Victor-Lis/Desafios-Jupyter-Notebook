{
 "cells": [
  {
   "cell_type": "markdown",
   "id": "266fdb24",
   "metadata": {},
   "source": [
    "# Exercício 1: Calculadora de Estatísticas com *args\n",
    "Crie uma função chamada calcular_estatisticas que aceita um número arbitrário de argumentos numéricos (*args) e retorna um dicionário com as seguintes estatísticas:\n",
    "\n",
    "- soma: A soma de todos os números.\n",
    "- media: A média dos números.\n",
    "- maximo: O maior número.\n",
    "- minimo: O menor número.\n",
    "\n",
    "> A função deve ser capaz de lidar com qualquer quantidade de números passados como argumento."
   ]
  },
  {
   "cell_type": "code",
   "execution_count": 1,
   "id": "96dd7fda",
   "metadata": {},
   "outputs": [],
   "source": [
    "def calcular_estatisticas(*args):\n",
    "    if not args:\n",
    "        return None # Retorna None se nenhum argumento for passado\n",
    "\n",
    "    soma = sum(args)\n",
    "    media = soma / len(args)\n",
    "    maximo = max(args)\n",
    "    minimo = min(args)\n",
    "\n",
    "    return {\n",
    "        'soma': soma,\n",
    "        'media': media,\n",
    "        'maximo': maximo,\n",
    "        'minimo': minimo\n",
    "    }"
   ]
  },
  {
   "cell_type": "code",
   "execution_count": 2,
   "id": "a286146e",
   "metadata": {},
   "outputs": [
    {
     "name": "stdout",
     "output_type": "stream",
     "text": [
      "Estatísticas 1: {'soma': 150, 'media': 30.0, 'maximo': 50, 'minimo': 10}\n",
      "Estatísticas 2: {'soma': 45, 'media': 15.0, 'maximo': 25, 'minimo': 5}\n"
     ]
    }
   ],
   "source": [
    "stats1 = calcular_estatisticas(10, 20, 30, 40, 50)\n",
    "print(f\"Estatísticas 1: {stats1}\")\n",
    "# Saída esperada: {'soma': 150, 'media': 30.0, 'maximo': 50, 'minimo': 10}\n",
    "\n",
    "stats2 = calcular_estatisticas(5, 15, 25)\n",
    "print(f\"Estatísticas 2: {stats2}\")\n",
    "# Saída esperada: {'soma': 45, 'media': 15.0, 'maximo': 25, 'minimo': 5}"
   ]
  }
 ],
 "metadata": {
  "kernelspec": {
   "display_name": "Python 3",
   "language": "python",
   "name": "python3"
  },
  "language_info": {
   "codemirror_mode": {
    "name": "ipython",
    "version": 3
   },
   "file_extension": ".py",
   "mimetype": "text/x-python",
   "name": "python",
   "nbconvert_exporter": "python",
   "pygments_lexer": "ipython3",
   "version": "3.13.7"
  }
 },
 "nbformat": 4,
 "nbformat_minor": 5
}
