{
 "cells": [
  {
   "cell_type": "markdown",
   "id": "6b2dc6ac",
   "metadata": {},
   "source": [
    "# Exercício 1: Processamento de Pedidos de E-commerce\n",
    "Você está trabalhando no sistema de um e-commerce e precisa processar uma lista de pedidos. Cada pedido é um dicionário que contém o ID do cliente e uma lista de produtos comprados. Cada produto na lista é, por sua vez, um dicionário com nome, preço e quantidade.\n",
    "\n",
    "## Sua Tarefa:\n",
    "Para cada pedido, calcule o valor total (a soma do preço * quantidade de todos os produtos).\n",
    "- Identifique o cliente que fez a compra de maior valor.\n",
    "- Crie um novo dicionário que resuma o total gasto por cada cliente.\n",
    "\n",
    "> Exiba um relatório final com o total de cada pedido e anuncie o cliente que mais gastou."
   ]
  },
  {
   "cell_type": "code",
   "execution_count": null,
   "id": "152e7f31",
   "metadata": {},
   "outputs": [],
   "source": [
    "# Relatório de Pedidos:\n",
    "# ------------------------------------\n",
    "# - Pedido do Cliente 101: Total R$ 210.00\n",
    "# - Pedido do Cliente 203: Total R$ 1190.00\n",
    "# - Pedido do Cliente 101: Total R$ 220.00\n",
    "\n",
    "# Gastos Totais por Cliente:\n",
    "# {'101': 430.00, '203': 1190.00}\n",
    "\n",
    "# Cliente com a compra de maior valor: Cliente 203 (R$ 1190.00)"
   ]
  },
  {
   "cell_type": "code",
   "execution_count": 2,
   "id": "83c9f8f6",
   "metadata": {},
   "outputs": [],
   "source": [
    "pedidos = [\n",
    "    {\n",
    "        'cliente_id': 101,\n",
    "        'produtos': [\n",
    "            {'nome': 'Fone de Ouvido', 'preco': 150.00, 'quantidade': 1},\n",
    "            {'nome': 'Capa para Celular', 'preco': 30.00, 'quantidade': 2}\n",
    "        ]\n",
    "    },\n",
    "    {\n",
    "        'cliente_id': 203,\n",
    "        'produtos': [\n",
    "            {'nome': 'Teclado', 'preco': 250.00, 'quantidade': 1},\n",
    "            {'nome': 'Mouse', 'preco': 90.00, 'quantidade': 1},\n",
    "            {'nome': 'Monitor', 'preco': 850.00, 'quantidade': 1}\n",
    "        ]\n",
    "    },\n",
    "    {\n",
    "        'cliente_id': 101, # Mesmo cliente do primeiro pedido\n",
    "        'produtos': [\n",
    "            {'nome': 'Webcam', 'preco': 220.00, 'quantidade': 1}\n",
    "        ]\n",
    "    }\n",
    "]"
   ]
  },
  {
   "cell_type": "code",
   "execution_count": 94,
   "id": "0cb82f59",
   "metadata": {},
   "outputs": [
    {
     "name": "stdout",
     "output_type": "stream",
     "text": [
      "Relatório de Pedidos:\n",
      "----------------------------------------\n",
      "- Pedido do Cliente 101: Total R$ 210.0\n",
      "- Pedido do Cliente 203: Total R$ 1190.0\n",
      "- Pedido do Cliente 101: Total R$ 220.0\n",
      "\n",
      "\n",
      "Relatório Total por cliente:\n",
      "----------------------------------------\n",
      "- Cliente 101: R$ 430.0\n",
      "- Cliente 203: R$ 1190.0\n",
      "\n",
      "\n",
      "--------------------------------------------------------------\n",
      "Cliente com a compra de maior valor: Cliente 203 (R$ 1190.00)\n"
     ]
    }
   ],
   "source": [
    "total_clientes = {}\n",
    "\n",
    "print(\"Relatório de Pedidos:\")\n",
    "print(\"-\" * 40)\n",
    "for pedido in pedidos:\n",
    "    cid = pedido[\"cliente_id\"]\n",
    "    produtos = pedido[\"produtos\"]\n",
    "    total = sum([produto[\"quantidade\"] * produto[\"preco\"] for produto in produtos])\n",
    "    print(f\"- Pedido do Cliente {cid}: Total R$ {total}\")\n",
    "    if cid not in total_clientes:\n",
    "        total_clientes[cid] = total\n",
    "    else:\n",
    "        total_clientes[cid] += total\n",
    "\n",
    "print(\"\\n\\nRelatório Total por cliente:\")\n",
    "print(\"-\" * 40)\n",
    "for cid in total_clientes.keys():\n",
    "    print(f\"- Cliente {cid}: R$ {total_clientes[cid]}\")\n",
    "\n",
    "maior_cliente, maior_cliente_total = (max(total_clientes), total_clientes[max(total_clientes)])\n",
    "print(f\"\\n\\n{\"-\" * 62}\")\n",
    "print(f\"Cliente com a compra de maior valor: Cliente {maior_cliente} (R$ {maior_cliente_total:.2f})\")"
   ]
  }
 ],
 "metadata": {
  "kernelspec": {
   "display_name": "Python 3",
   "language": "python",
   "name": "python3"
  },
  "language_info": {
   "codemirror_mode": {
    "name": "ipython",
    "version": 3
   },
   "file_extension": ".py",
   "mimetype": "text/x-python",
   "name": "python",
   "nbconvert_exporter": "python",
   "pygments_lexer": "ipython3",
   "version": "3.13.7"
  }
 },
 "nbformat": 4,
 "nbformat_minor": 5
}
