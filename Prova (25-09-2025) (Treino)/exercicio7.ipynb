{
 "cells": [
  {
   "cell_type": "markdown",
   "id": "d6e8047e",
   "metadata": {},
   "source": [
    "# Exercício 2: Processamento de Cesta de Compras\n",
    "Você recebeu uma lista de tuplas que representa uma cesta de compras. Cada tupla contém o nome do produto, o preço unitário e a quantidade comprada. Calcule o subtotal de cada item e o valor total da compra.\n",
    "\n",
    "## Sua Tarefa:\n",
    "- Iterar pela lista da cesta de compras.\n",
    "- Para cada item, calcular o subtotal (preço × quantidade).\n",
    "- Exibir o nome do produto, a quantidade, o preço unitário e o subtotal.\n",
    "\n",
    "> Calcular e exibir o valor total da compra."
   ]
  },
  {
   "cell_type": "code",
   "execution_count": null,
   "id": "fcd6f63f",
   "metadata": {},
   "outputs": [],
   "source": [
    "# Itens na sua Cesta:\n",
    "# ------------------------------------\n",
    "# - Arroz 5kg (2 un.): R$ 25.00 cada -> Subtotal: R$ 50.00\n",
    "# - Feijão 1kg (3 un.): R$ 8.50 cada -> Subtotal: R$ 25.50\n",
    "# ... (e assim por diante)\n",
    "\n",
    "# Valor total da compra: R$ 193.90"
   ]
  },
  {
   "cell_type": "code",
   "execution_count": 1,
   "id": "9d1ae66f",
   "metadata": {},
   "outputs": [],
   "source": [
    "cesta_compras = [\n",
    "    ('Arroz 5kg', 25.00, 2),\n",
    "    ('Feijão 1kg', 8.50, 3),\n",
    "    ('Café 500g', 15.00, 1),\n",
    "    ('Azeite 500ml', 22.90, 2),\n",
    "    ('Leite 1L', 4.80, 12)\n",
    "]"
   ]
  },
  {
   "cell_type": "code",
   "execution_count": 4,
   "id": "b8d5f350",
   "metadata": {},
   "outputs": [
    {
     "name": "stdout",
     "output_type": "stream",
     "text": [
      "Arroz 5kg (2 un.): R$ 25.00 cada -> Subtotal: R$ 50.00\n",
      "Feijão 1kg (3 un.): R$ 8.50 cada -> Subtotal: R$ 25.50\n",
      "Café 500g (1 un.): R$ 15.00 cada -> Subtotal: R$ 15.00\n",
      "Azeite 500ml (2 un.): R$ 22.90 cada -> Subtotal: R$ 45.80\n",
      "Leite 1L (12 un.): R$ 4.80 cada -> Subtotal: R$ 57.60\n",
      "\n",
      "Valor total da compra: R$ 193.9\n"
     ]
    }
   ],
   "source": [
    "total = 0\n",
    "for item in cesta_compras:\n",
    "    nome, preco, quantidade = item\n",
    "    subtotal = preco * quantidade\n",
    "    total += subtotal\n",
    "    print(f'{nome} ({quantidade} un.): R$ {preco:.2f} cada -> Subtotal: R$ {subtotal:.2f}')\n",
    "\n",
    "print(f'\\nValor total da compra: R$ {total}')"
   ]
  }
 ],
 "metadata": {
  "kernelspec": {
   "display_name": "Python 3",
   "language": "python",
   "name": "python3"
  },
  "language_info": {
   "codemirror_mode": {
    "name": "ipython",
    "version": 3
   },
   "file_extension": ".py",
   "mimetype": "text/x-python",
   "name": "python",
   "nbconvert_exporter": "python",
   "pygments_lexer": "ipython3",
   "version": "3.13.7"
  }
 },
 "nbformat": 4,
 "nbformat_minor": 5
}
