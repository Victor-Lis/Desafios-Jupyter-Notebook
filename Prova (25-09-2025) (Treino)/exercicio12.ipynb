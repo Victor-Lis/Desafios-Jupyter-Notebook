{
 "cells": [
  {
   "cell_type": "markdown",
   "id": "41ec7930",
   "metadata": {},
   "source": [
    "# Exercício 3: Análise de Temperaturas Mensais\n",
    "Você recebeu uma lista com as temperaturas máximas diárias registradas durante um mês. Sua tarefa é analisar esses dados para extrair informações relevantes.\n",
    "\n",
    "## Sua Tarefa:\n",
    "Dada a lista de temperaturas, encontre a temperatura máxima e mínima do mês.\n",
    "- Calcule a temperatura média do período.\n",
    "- Conte quantos dias a temperatura ficou acima da média.\n",
    "\n",
    "Crie uma nova lista contendo apenas as temperaturas da primeira quinzena (os primeiros 15 dias)."
   ]
  },
  {
   "cell_type": "code",
   "execution_count": null,
   "id": "eee3c65f",
   "metadata": {},
   "outputs": [],
   "source": [
    "# Análise Climática do Mês:\n",
    "# ------------------------------------\n",
    "# Temperatura Máxima: 36°C\n",
    "# Temperatura Mínima: 25°C\n",
    "# Temperatura Média: 29.87°C\n",
    "# Dias acima da média: 14\n",
    "\n",
    "# Temperaturas da Primeira Quinzena:\n",
    "# [28, 30, 31, 29, 27, 26, 25, 28, 32, 33, 34, 31, 30, 29, 28]"
   ]
  },
  {
   "cell_type": "code",
   "execution_count": 2,
   "id": "2f7a4fc5",
   "metadata": {},
   "outputs": [],
   "source": [
    "temperaturas = [28, 30, 31, 29, 27, 26, 25, 28, 32, 33, 34, 31, 30, 29, 28, 27, 26, 29, 30, 31, 33, 35, 36, 34, 32, 30, 29, 28, 27, 26]"
   ]
  },
  {
   "cell_type": "code",
   "execution_count": 6,
   "id": "a8d7493a",
   "metadata": {},
   "outputs": [],
   "source": [
    "media = sum(temperaturas)/len(temperaturas)\n",
    "minima = min(temperaturas)\n",
    "maxima = max(temperaturas)\n",
    "acima = len([temperatura for temperatura in temperaturas if temperatura > media])"
   ]
  },
  {
   "cell_type": "code",
   "execution_count": 11,
   "id": "23e50dc2",
   "metadata": {},
   "outputs": [],
   "source": [
    "quinzena = temperaturas[:15]"
   ]
  },
  {
   "cell_type": "code",
   "execution_count": 12,
   "id": "ea8d8ebc",
   "metadata": {},
   "outputs": [
    {
     "name": "stdout",
     "output_type": "stream",
     "text": [
      "Análise Climática do Mês:\n",
      "------------------------------------\n",
      "Temperatura Máxima: 36°C\n",
      "Temperatura Mínima: 25°C\n",
      "Temperatura Média: 29.80°C\n",
      "Dias acima da média: 15\n",
      "[28, 30, 31, 29, 27, 26, 25, 28, 32, 33, 34, 31, 30, 29, 28]\n"
     ]
    }
   ],
   "source": [
    "print(\"Análise Climática do Mês:\")\n",
    "print(\"------------------------------------\")\n",
    "print(f\"Temperatura Máxima: {maxima}°C\")\n",
    "print(f\"Temperatura Mínima: {minima}°C\")\n",
    "print(f\"Temperatura Média: {media:.2f}°C\")\n",
    "print(f\"Dias acima da média: {acima}\")\n",
    "\n",
    "# Temperaturas da Primeira Quinzena:\n",
    "print(quinzena)"
   ]
  }
 ],
 "metadata": {
  "kernelspec": {
   "display_name": "Python 3",
   "language": "python",
   "name": "python3"
  },
  "language_info": {
   "codemirror_mode": {
    "name": "ipython",
    "version": 3
   },
   "file_extension": ".py",
   "mimetype": "text/x-python",
   "name": "python",
   "nbconvert_exporter": "python",
   "pygments_lexer": "ipython3",
   "version": "3.13.7"
  }
 },
 "nbformat": 4,
 "nbformat_minor": 5
}
