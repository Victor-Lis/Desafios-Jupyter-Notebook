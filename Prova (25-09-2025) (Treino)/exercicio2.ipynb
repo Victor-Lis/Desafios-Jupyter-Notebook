{
 "cells": [
  {
   "cell_type": "markdown",
   "id": "7853dd34",
   "metadata": {},
   "source": [
    "# Exercício 2: Análise de Dados de Vendas\n",
    "Uma empresa registrou as vendas diárias de um produto durante duas semanas em uma lista. Você precisa processar esses dados para extrair informações valiosas sem usar as funções min(), max() ou sum().\n",
    "\n",
    "## Sua Tarefa:\n",
    "- Iterar pela lista de vendas para encontrar o dia de maior e menor venda.\n",
    "- Calcular o total de vendas e a média de vendas no período.\n",
    "- Contar quantos dias as vendas ficaram acima da média."
   ]
  },
  {
   "cell_type": "code",
   "execution_count": 1,
   "id": "4463692e",
   "metadata": {},
   "outputs": [
    {
     "name": "stdout",
     "output_type": "stream",
     "text": [
      "Análise de Vendas do Período:\n",
      "------------------------------------\n",
      "Menor venda registrada: 110 unidades.\n",
      "Maior venda registrada: 300 unidades.\n",
      "Total de vendas: 2960 unidades.\n",
      "Média de vendas: 211.43 unidades.\n",
      "Dias com vendas acima da média: 8 dias.\n"
     ]
    }
   ],
   "source": [
    "print(\"Análise de Vendas do Período:\")\n",
    "print(\"------------------------------------\")\n",
    "print(\"Menor venda registrada: 110 unidades.\")\n",
    "print(\"Maior venda registrada: 300 unidades.\")\n",
    "print(\"Total de vendas: 2960 unidades.\")\n",
    "print(\"Média de vendas: 211.43 unidades.\")\n",
    "print(\"Dias com vendas acima da média: 8 dias.\")"
   ]
  },
  {
   "cell_type": "code",
   "execution_count": 2,
   "id": "756a6c7c",
   "metadata": {},
   "outputs": [],
   "source": [
    "vendas_diarias = [150, 220, 180, 250, 300, 120, 190, 210, 280, 160, 230, 270, 110, 290]"
   ]
  },
  {
   "cell_type": "code",
   "execution_count": 11,
   "id": "4e97d243",
   "metadata": {},
   "outputs": [],
   "source": [
    "menor = min(vendas_diarias)\n",
    "maior = max(vendas_diarias)\n",
    "total = sum(vendas_diarias)\n",
    "media = sum(vendas_diarias) / len(vendas_diarias)\n",
    "dias_acima_da_media = len([venda for venda in vendas_diarias if venda > media])"
   ]
  },
  {
   "cell_type": "code",
   "execution_count": 13,
   "id": "bbf921ef",
   "metadata": {},
   "outputs": [
    {
     "name": "stdout",
     "output_type": "stream",
     "text": [
      "Análise de Vendas do Período:\n",
      "------------------------------------\n",
      "Menor venda registrada: 110 unidades.\n",
      "Maior venda registrada: 300 unidades.\n",
      "Total de vendas: 2960 unidades.\n",
      "Média de vendas: 211.43 unidades.\n",
      "Dias com vendas acima da média: 7 dias.\n"
     ]
    }
   ],
   "source": [
    "print(\"Análise de Vendas do Período:\")\n",
    "print(\"------------------------------------\")\n",
    "print(f\"Menor venda registrada: {menor} unidades.\")\n",
    "print(f\"Maior venda registrada: {maior} unidades.\")\n",
    "print(f\"Total de vendas: {total} unidades.\")\n",
    "print(f\"Média de vendas: {media:.2f} unidades.\")\n",
    "print(f\"Dias com vendas acima da média: {dias_acima_da_media} dias.\")"
   ]
  }
 ],
 "metadata": {
  "kernelspec": {
   "display_name": "Python 3",
   "language": "python",
   "name": "python3"
  },
  "language_info": {
   "codemirror_mode": {
    "name": "ipython",
    "version": 3
   },
   "file_extension": ".py",
   "mimetype": "text/x-python",
   "name": "python",
   "nbconvert_exporter": "python",
   "pygments_lexer": "ipython3",
   "version": "3.13.7"
  }
 },
 "nbformat": 4,
 "nbformat_minor": 5
}
