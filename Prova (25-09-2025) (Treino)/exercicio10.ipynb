{
 "cells": [
  {
   "cell_type": "markdown",
   "id": "4ada1734",
   "metadata": {},
   "source": [
    "# Exercício 1: Agenda de Contatos Dinâmica\n",
    "Você vai criar um programa para gerenciar uma agenda de contatos. A agenda será um dicionário onde a chave é o nome do contato e o valor é uma tupla contendo o telefone e o e-mail.\n",
    "\n",
    "## Sua Tarefa:\n",
    "Comece com o dicionário de contatos fornecido.\n",
    "- Adicione um novo contato: ('Fernanda', ('11 98765-4321', 'fernanda@email.com')).\n",
    "- Atualize o telefone de um contato existente: O telefone de 'Ana' mudou para '21 99999-8888'.\n",
    "- Remova um contato: 'Carlos' deve ser removido da agenda.\n",
    "\n",
    "> Ao final, itere pelo dicionário e exiba a lista de contatos final, formatada de maneira clara."
   ]
  },
  {
   "cell_type": "code",
   "execution_count": null,
   "id": "4c2aa500",
   "metadata": {},
   "outputs": [],
   "source": [
    "# Agenda de Contatos Atualizada:\n",
    "# ------------------------------------\n",
    "# - Nome: Ana | Telefone: 21 99999-8888 | E-mail: ana@email.com\n",
    "# - Nome: Bruno | Telefone: 11 91234-5678 | E-mail: bruno@email.com\n",
    "# - Nome: Fernanda | Telefone: 11 98765-4321 | E-mail: fernanda@email.com"
   ]
  },
  {
   "cell_type": "code",
   "execution_count": 1,
   "id": "ef8c2b91",
   "metadata": {},
   "outputs": [],
   "source": [
    "agenda = {\n",
    "    'Ana': ('21 98765-4321', 'ana@email.com'),\n",
    "    'Bruno': ('11 91234-5678', 'bruno@email.com'),\n",
    "    'Carlos': ('31 95555-4444', 'carlos@email.com')\n",
    "}"
   ]
  },
  {
   "cell_type": "code",
   "execution_count": 4,
   "id": "f16e2ddd",
   "metadata": {},
   "outputs": [],
   "source": [
    "agenda['Fernanda'] = ('11 98765-4321', 'fernanda@email.com')"
   ]
  },
  {
   "cell_type": "code",
   "execution_count": 9,
   "id": "2a717382",
   "metadata": {},
   "outputs": [],
   "source": [
    "agenda['Ana'] = ('21 99999-8888', agenda['Ana'][1])"
   ]
  },
  {
   "cell_type": "code",
   "execution_count": 6,
   "id": "9b5d52ba",
   "metadata": {},
   "outputs": [],
   "source": [
    "del agenda[\"Carlos\"]"
   ]
  },
  {
   "cell_type": "code",
   "execution_count": 11,
   "id": "efd49f46",
   "metadata": {},
   "outputs": [
    {
     "name": "stdout",
     "output_type": "stream",
     "text": [
      "Agenda de Contatos Atualizada:\n",
      "------------------------------------\n",
      "- Nome: Ana | Telefone: 21 99999-8888 | E-mail: ana@email.com\n",
      "- Nome: Bruno | Telefone: 11 91234-5678 | E-mail: bruno@email.com\n",
      "- Nome: Fernanda | Telefone: 11 98765-4321 | E-mail: fernanda@email.com\n"
     ]
    }
   ],
   "source": [
    "print(\"Agenda de Contatos Atualizada:\")\n",
    "print(\"------------------------------------\")\n",
    "\n",
    "for nome in agenda.keys():\n",
    "    telefone, email = agenda[nome]\n",
    "    print(f'- Nome: {nome} | Telefone: {telefone} | E-mail: {email}')"
   ]
  }
 ],
 "metadata": {
  "kernelspec": {
   "display_name": "Python 3",
   "language": "python",
   "name": "python3"
  },
  "language_info": {
   "codemirror_mode": {
    "name": "ipython",
    "version": 3
   },
   "file_extension": ".py",
   "mimetype": "text/x-python",
   "name": "python",
   "nbconvert_exporter": "python",
   "pygments_lexer": "ipython3",
   "version": "3.13.7"
  }
 },
 "nbformat": 4,
 "nbformat_minor": 5
}
