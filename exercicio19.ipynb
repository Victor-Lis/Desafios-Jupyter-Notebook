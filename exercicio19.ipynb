{
 "cells": [
  {
   "cell_type": "markdown",
   "id": "d4944c46",
   "metadata": {},
   "source": [
    "19º) Identificando Locais de Risco\n",
    "\n",
    "(Não conhecemos muito dos números e indicadores reais, esse é um exercício imaginário para treinarmos com um cenário mais prático)\n",
    "\n",
    "Digamos que você está construindo um programa para identificar níveis de CO2 (gás carbônico) em determinados locais para evitar potenciais acidentes. Em cada um desses locais a sua empresa tem 5 sensores que captam o nível de CO2 do local.\n",
    "\n",
    "Os níveis normais de CO2 são em média 350. O nível de CO2 de um local é dado pela média captada pelos 5 sensores.\n",
    "\n",
    "Isso significa que se tivermos os 5 sensores do Rio de Janeiro marcando: 350, 400, 450, 350, 300, o nível de CO2 do Rio de Janeiro será dado por: (350 + 400 + 450 + 350 + 300) / 5 = 370.\n",
    "\n",
    "Caso o nível seja maior do que 450, um aviso deve ser exibido pelo seu programa dizendo, por exemplo: Rio de Janeiro está com níveis altíssimos de CO2 (490), chamar equipe especializada para verificar a região.\n",
    "\n",
    "Os resultados dos sensores são monitorados frequentemente e são dados para o sistema em forma de dicionário:"
   ]
  },
  {
   "cell_type": "code",
   "execution_count": null,
   "id": "c7fe9cf0",
   "metadata": {},
   "outputs": [
    {
     "name": "stdout",
     "output_type": "stream",
     "text": [
      "AC: média de CO2 = 409.40\n",
      "AL: média de CO2 = 418.40\n",
      "AP: média de CO2 = 423.20\n",
      "AM: média de CO2 = 395.40\n",
      "BA: média de CO2 = 420.60\n",
      "CE: média de CO2 = 434.60\n",
      "ES: média de CO2 = 417.80\n",
      "GO: média de CO2 = 443.00\n",
      "MA: média de CO2 = 386.00\n",
      "MT: média de CO2 = 390.00\n",
      "MS: média de CO2 = 390.80\n",
      "MG: média de CO2 = 409.20\n",
      "PA: média de CO2 = 441.40\n",
      "PB: média de CO2 = 402.40\n",
      "PR: média de CO2 = 414.00\n",
      "PE: média de CO2 = 401.20\n",
      "PI: média de CO2 = 436.40\n",
      "RJ: média de CO2 = 496.60\n",
      "    > RJ está com níveis altíssimos de CO2 (496.60), chamar equipe especializada para verificar a região.\n",
      "RN: média de CO2 = 415.00\n",
      "RS: média de CO2 = 408.40\n",
      "RO: média de CO2 = 455.80\n",
      "    > RO está com níveis altíssimos de CO2 (455.80), chamar equipe especializada para verificar a região.\n",
      "RR: média de CO2 = 447.00\n",
      "SC: média de CO2 = 455.00\n",
      "    > SC está com níveis altíssimos de CO2 (455.00), chamar equipe especializada para verificar a região.\n",
      "SP: média de CO2 = 394.00\n",
      "SE: média de CO2 = 400.00\n",
      "TO: média de CO2 = 408.00\n",
      "DF: média de CO2 = 408.00\n"
     ]
    }
   ],
   "source": [
    "niveis_co2 = {\n",
    "    'AC': [325,405,429,486,402],\n",
    "    'AL': [492,495,310,407,388],\n",
    "    'AP': [507,503,368,338,400],\n",
    "    'AM': [429,456,352,377,363],\n",
    "    'BA': [321,508,372,490,412],\n",
    "    'CE': [424,328,425,516,480],\n",
    "    'ES': [449,506,461,337,336],\n",
    "    'GO': [425,460,385,485,460],\n",
    "    'MA': [361,310,344,425,490],\n",
    "    'MT': [358,402,425,386,379],\n",
    "    'MS': [324,357,441,405,427],\n",
    "    'MG': [345,367,391,427,516],\n",
    "    'PA': [479,514,392,493,329],\n",
    "    'PB': [418,499,317,302,476],\n",
    "    'PR': [420,508,419,396,327],\n",
    "    'PE': [404,444,495,320,343],\n",
    "    'PI': [513,513,304,377,475],\n",
    "    'RJ': [502,481,492,502,506],\n",
    "    'RN': [446,437,519,356,317],\n",
    "    'RS': [427,518,459,317,321],\n",
    "    'RO': [517,466,512,326,458],\n",
    "    'RR': [466,495,469,495,310],\n",
    "    'SC': [495,436,382,483,479],\n",
    "    'SP': [495,407,362,389,317],\n",
    "    'SE': [508,351,334,389,418],\n",
    "    'TO': [339,490,304,488,419],\n",
    "    'DF': [376,516,320,310,518], \n",
    "}\n",
    "\n",
    "keys = niveis_co2.keys()\n",
    "\n",
    "for uf in keys:\n",
    "    niveis = niveis_co2[uf]\n",
    "    media = sum(niveis) / len(niveis)\n",
    "    print(f\"{uf}: média de CO2 = {media:.2f}\")\n",
    "    if media > 450:\n",
    "        print(f\"    > {uf} está com níveis altíssimos de CO2 ({media:.2f}), chamar equipe especializada para verificar a região.\")"
   ]
  }
 ],
 "metadata": {
  "kernelspec": {
   "display_name": "Python 3",
   "language": "python",
   "name": "python3"
  },
  "language_info": {
   "codemirror_mode": {
    "name": "ipython",
    "version": 3
   },
   "file_extension": ".py",
   "mimetype": "text/x-python",
   "name": "python",
   "nbconvert_exporter": "python",
   "pygments_lexer": "ipython3",
   "version": "3.13.6"
  }
 },
 "nbformat": 4,
 "nbformat_minor": 5
}
