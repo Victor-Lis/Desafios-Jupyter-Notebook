{
 "cells": [
  {
   "cell_type": "markdown",
   "id": "52516b0d",
   "metadata": {},
   "source": [
    "5º) Escreva um programa que calcule o tempo de uma viagem de carro. Pergunte a distância a percorrer e a velocidade média esperada para a viagem."
   ]
  },
  {
   "cell_type": "code",
   "execution_count": 9,
   "id": "c097cd12",
   "metadata": {},
   "outputs": [
    {
     "name": "stdout",
     "output_type": "stream",
     "text": [
      "Tempo de viagem: 1h 40min\n"
     ]
    }
   ],
   "source": [
    "distancia = float(input(\"Distância (em km): \"))\n",
    "velocidadeMedia = float(input(\"Velocidade Média (em km/h): \"))\n",
    "\n",
    "tempo_total_horas = distancia / velocidadeMedia\n",
    "horas = int(tempo_total_horas)\n",
    "minutos = (tempo_total_horas - horas) * 60\n",
    "\n",
    "print(f\"Tempo de viagem: {horas}h {minutos:.0f}min\")"
   ]
  }
 ],
 "metadata": {
  "kernelspec": {
   "display_name": "Python 3",
   "language": "python",
   "name": "python3"
  },
  "language_info": {
   "codemirror_mode": {
    "name": "ipython",
    "version": 3
   },
   "file_extension": ".py",
   "mimetype": "text/x-python",
   "name": "python",
   "nbconvert_exporter": "python",
   "pygments_lexer": "ipython3",
   "version": "3.13.6"
  }
 },
 "nbformat": 4,
 "nbformat_minor": 5
}
