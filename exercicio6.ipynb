{
 "cells": [
  {
   "cell_type": "markdown",
   "id": "c6d45770",
   "metadata": {},
   "source": [
    "6º) Escreva um programa que pergunte a quantidade de km percorridos por um carro alugado pelo usuário, assim como a quantidade de dias pelos quais o carro foi alugado. Calcule o preço a pagar, sabendo que o carro custa 60,00 reais por dia e 0,15 centavos por km rodado."
   ]
  },
  {
   "cell_type": "code",
   "execution_count": 2,
   "id": "46de1cd8",
   "metadata": {},
   "outputs": [
    {
     "name": "stdout",
     "output_type": "stream",
     "text": [
      "Dias: 1.0 | Preço: R$60.0\n",
      "KM: 60.0 | Preço: R$9.0\n",
      "Preço Total: R$69.0\n"
     ]
    }
   ],
   "source": [
    "kmPercorridos = float(input(\"Km Percorridos: \"))\n",
    "diasPercorridos = float(input(\"Dias Percorridos: \"))\n",
    "\n",
    "precoDias = diasPercorridos * 60\n",
    "precoKM = kmPercorridos * 0.15\n",
    "preco = precoDias + precoKM\n",
    "\n",
    "print(f'Dias: {diasPercorridos} | Preço: R${precoDias}')\n",
    "print(f'KM: {kmPercorridos} | Preço: R${precoKM}')\n",
    "print(f'Preço Total: R${preco}')"
   ]
  }
 ],
 "metadata": {
  "kernelspec": {
   "display_name": "Python 3",
   "language": "python",
   "name": "python3"
  },
  "language_info": {
   "codemirror_mode": {
    "name": "ipython",
    "version": 3
   },
   "file_extension": ".py",
   "mimetype": "text/x-python",
   "name": "python",
   "nbconvert_exporter": "python",
   "pygments_lexer": "ipython3",
   "version": "3.13.6"
  }
 },
 "nbformat": 4,
 "nbformat_minor": 5
}
