{
 "cells": [
  {
   "cell_type": "markdown",
   "id": "08b67fdb",
   "metadata": {},
   "source": [
    "9º) Escreva um programa que pergunte o salário do funcionário e calcule o valor do aumento. Para salários superiores a R$ 1.250,00, calcule um aumento de 10%. Para os inferiores ou iguais, de 15%."
   ]
  },
  {
   "cell_type": "code",
   "execution_count": 17,
   "id": "60df2f62",
   "metadata": {},
   "outputs": [
    {
     "name": "stdout",
     "output_type": "stream",
     "text": [
      "Novo salário: R$11.5\n"
     ]
    }
   ],
   "source": [
    "salario = float(input(\"Salário: \"))\n",
    "\n",
    "salario = salario * 1.10 if salario > 1250 else salario * 1.15\n",
    "\n",
    "print(f\"Novo salário: R${salario}\")"
   ]
  }
 ],
 "metadata": {
  "kernelspec": {
   "display_name": "Python 3",
   "language": "python",
   "name": "python3"
  },
  "language_info": {
   "codemirror_mode": {
    "name": "ipython",
    "version": 3
   },
   "file_extension": ".py",
   "mimetype": "text/x-python",
   "name": "python",
   "nbconvert_exporter": "python",
   "pygments_lexer": "ipython3",
   "version": "3.13.6"
  }
 },
 "nbformat": 4,
 "nbformat_minor": 5
}
