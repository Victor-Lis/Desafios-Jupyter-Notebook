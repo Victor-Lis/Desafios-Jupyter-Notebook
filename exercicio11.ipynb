{
 "cells": [
  {
   "cell_type": "markdown",
   "id": "f07c1b1e",
   "metadata": {},
   "source": [
    "11º) Faça um programa para escrever a contagem regressiva do lançamento de um foguete. O programa deve imprimir 10, 9, 8, …, 1, 0 e Fogo! na tela.\n"
   ]
  },
  {
   "cell_type": "code",
   "execution_count": 7,
   "id": "b52cf435",
   "metadata": {},
   "outputs": [
    {
     "name": "stdout",
     "output_type": "stream",
     "text": [
      "O foguete sairá em: 10\n",
      "Fogo!\n"
     ]
    }
   ],
   "source": [
    "for i in range(10, 9, -1):\n",
    "    print(f\"O foguete sairá em: {i}\")\n",
    "print(\"Fogo!\")"
   ]
  }
 ],
 "metadata": {
  "kernelspec": {
   "display_name": "Python 3",
   "language": "python",
   "name": "python3"
  },
  "language_info": {
   "codemirror_mode": {
    "name": "ipython",
    "version": 3
   },
   "file_extension": ".py",
   "mimetype": "text/x-python",
   "name": "python",
   "nbconvert_exporter": "python",
   "pygments_lexer": "ipython3",
   "version": "3.13.6"
  }
 },
 "nbformat": 4,
 "nbformat_minor": 5
}
