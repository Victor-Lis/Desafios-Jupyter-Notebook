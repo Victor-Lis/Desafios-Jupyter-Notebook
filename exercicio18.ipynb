{
 "cells": [
  {
   "cell_type": "markdown",
   "id": "47619157",
   "metadata": {},
   "source": [
    "18º) Digamos que você está analisando as vendas de produtos de um ecommerce e quer identificar quais produtos tiveram no ano de 2020 mais vendas do que no ano de 2019, para reportar isso para a diretoria.\n",
    "\n",
    "Sua resposta pode ser um print de cada produto, qual foi a venda de 2019, a venda de 2020 e o % de crescimento de 2020 para 2019.\n",
    "\n",
    "Lembrando, para calcular o % de crescimento de um produto de um ano para o outro, podemos fazer: (vendas_produto2020/vendas_produto2019 - 1)\n",
    "\n",
    "A lógica da tupla é: (produto, vendas2019, vendas2020)"
   ]
  },
  {
   "cell_type": "markdown",
   "id": "df1047c0",
   "metadata": {},
   "source": [
    "### Fórmula 1"
   ]
  },
  {
   "cell_type": "code",
   "execution_count": null,
   "id": "b6c6c899",
   "metadata": {},
   "outputs": [
    {
     "name": "stdout",
     "output_type": "stream",
     "text": [
      "Produto              |       2019 |       2020 | Crescimento (%)\n",
      "----------------------------------------------------------------\n",
      "iphone               |     558147 |     951642 |          70.50%\n",
      "tv                   |     405252 |     787604 |          94.35%\n",
      "máquina de café      |     718654 |     867660 |          20.73%\n",
      "notebook dell        |     422760 |     694913 |          64.38%\n",
      "notebook hp          |     154753 |     539704 |         248.75%\n",
      "microsoft surface    |     438508 |     667179 |          52.15%\n",
      "webcam               |     237467 |     295633 |          24.49%\n",
      "caixa de som         |     489705 |     725316 |          48.11%\n",
      "microfone            |     328311 |     644622 |          96.34%\n",
      "câmera canon         |     591120 |     994303 |          68.21%\n"
     ]
    }
   ],
   "source": [
    "vendas_produtos = [('iphone', 558147, 951642), ('galaxy', 712350, 244295), ('ipad', 573823, 26964), ('tv', 405252, 787604), ('máquina de café', 718654, 867660), ('kindle', 531580, 78830), ('geladeira', 973139, 710331), ('adega', 892292, 646016), ('notebook dell', 422760, 694913), ('notebook hp', 154753, 539704), ('notebook asus', 887061, 324831), ('microsoft surface', 438508, 667179), ('webcam', 237467, 295633), ('caixa de som', 489705, 725316), ('microfone', 328311, 644622), ('câmera canon', 591120, 994303)]\n",
    "\n",
    "analise = []\n",
    "\n",
    "for dados in vendas_produtos:\n",
    "    nome, ano1, ano2 = dados\n",
    "    analise.append({\"nome\": nome, \"2019\": ano1, \"2020\": ano2, \"percentual\": ((ano2/ano1)-1)*100})\n",
    "\n",
    "print(f\"{'Produto':<20} | {'2019':>10} | {'2020':>10} | {'Crescimento (%)':>15}\")\n",
    "print(\"-\" * 64)\n",
    "for dados in analise:\n",
    "    if dados[\"2020\"] > dados[\"2019\"]:\n",
    "        print(f\"{dados['nome']:<20} | {dados['2019']:>10} | {dados['2020']:>10} | {dados['percentual']:>14.2f}%\")"
   ]
  },
  {
   "cell_type": "markdown",
   "id": "c2e312fe",
   "metadata": {},
   "source": [
    "### Fórmula 2 (Minha preferida pela eficiência)"
   ]
  },
  {
   "cell_type": "code",
   "execution_count": 44,
   "id": "01f83fa8",
   "metadata": {},
   "outputs": [
    {
     "name": "stdout",
     "output_type": "stream",
     "text": [
      "Produto              |       2019 |       2020 | Crescimento (%)\n",
      "-----------------------------------------------------------------\n",
      "iphone               |     558147 |     951642 |           70.50%\n",
      "tv                   |     405252 |     787604 |           94.35%\n",
      "máquina de café      |     718654 |     867660 |           20.73%\n",
      "notebook dell        |     422760 |     694913 |           64.38%\n",
      "notebook hp          |     154753 |     539704 |          248.75%\n",
      "microsoft surface    |     438508 |     667179 |           52.15%\n",
      "webcam               |     237467 |     295633 |           24.49%\n",
      "caixa de som         |     489705 |     725316 |           48.11%\n",
      "microfone            |     328311 |     644622 |           96.34%\n",
      "câmera canon         |     591120 |     994303 |           68.21%\n"
     ]
    }
   ],
   "source": [
    "vendas_produtos = [('iphone', 558147, 951642), ('galaxy', 712350, 244295), ('ipad', 573823, 26964), ('tv', 405252, 787604), ('máquina de café', 718654, 867660), ('kindle', 531580, 78830), ('geladeira', 973139, 710331), ('adega', 892292, 646016), ('notebook dell', 422760, 694913), ('notebook hp', 154753, 539704), ('notebook asus', 887061, 324831), ('microsoft surface', 438508, 667179), ('webcam', 237467, 295633), ('caixa de som', 489705, 725316), ('microfone', 328311, 644622), ('câmera canon', 591120, 994303)]\n",
    "\n",
    "calcula_percentual = lambda ano1, ano2: ((ano2 / ano1) - 1) * 100\n",
    "\n",
    "print(f\"{'Produto':<20} | {'2019':>10} | {'2020':>10} | {'Crescimento (%)':>15}\")\n",
    "print(\"-\" * 65)\n",
    "for nome, dados_2019, dados_2020 in vendas_produtos:\n",
    "    percentual = calcula_percentual(dados_2019, dados_2020)\n",
    "    if percentual > 0:\n",
    "        print(f\"{nome:<20} | {dados_2019:>10} | {dados_2020:>10} | {percentual:>15.2f}%\")"
   ]
  }
 ],
 "metadata": {
  "kernelspec": {
   "display_name": "Python 3",
   "language": "python",
   "name": "python3"
  },
  "language_info": {
   "codemirror_mode": {
    "name": "ipython",
    "version": 3
   },
   "file_extension": ".py",
   "mimetype": "text/x-python",
   "name": "python",
   "nbconvert_exporter": "python",
   "pygments_lexer": "ipython3",
   "version": "3.13.6"
  }
 },
 "nbformat": 4,
 "nbformat_minor": 5
}
