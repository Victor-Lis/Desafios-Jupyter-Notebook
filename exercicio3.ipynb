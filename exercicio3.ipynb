{
 "cells": [
  {
   "cell_type": "markdown",
   "id": "49318290",
   "metadata": {},
   "source": [
    "3º) Faça um programa que calcule o aumento de um salário. Ele deve solicitar o valor do salário e a porcentagem do aumento. Exiba o valor do aumento e do novo salário."
   ]
  },
  {
   "cell_type": "code",
   "execution_count": 9,
   "id": "04d8e99e",
   "metadata": {},
   "outputs": [
    {
     "name": "stdout",
     "output_type": "stream",
     "text": [
      "O novo salário é: R$10.1, subiram R$0.1\n"
     ]
    }
   ],
   "source": [
    "salario = float(input('Digite um salário: '))\n",
    "porcentagem = float(input('Digite a % do aumento: '))\n",
    "\n",
    "aumento = salario * (porcentagem/100)\n",
    "salario += aumento\n",
    "\n",
    "print(f'O novo salário é: R${salario}, subiram R${aumento}')"
   ]
  }
 ],
 "metadata": {
  "kernelspec": {
   "display_name": "Python 3",
   "language": "python",
   "name": "python3"
  },
  "language_info": {
   "codemirror_mode": {
    "name": "ipython",
    "version": 3
   },
   "file_extension": ".py",
   "mimetype": "text/x-python",
   "name": "python",
   "nbconvert_exporter": "python",
   "pygments_lexer": "ipython3",
   "version": "3.13.6"
  }
 },
 "nbformat": 4,
 "nbformat_minor": 5
}
